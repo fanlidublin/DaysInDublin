{
 "cells": [
  {
   "cell_type": "markdown",
   "metadata": {},
   "source": [
    "# Notes about Hadoop and Big Data\n",
    "*Fan Li*"
   ]
  },
  {
   "cell_type": "markdown",
   "metadata": {},
   "source": [
    "## HDFS 架构\n",
    "---\n",
    "![](http://hadoop.apache.org/docs/current/hadoop-project-dist/hadoop-hdfs/images/hdfsarchitecture.png)\n",
    "\n",
    "1个Master (NameNode) 带多个Slaves (DataNode) --> HDFS/YARN/Hbase\n",
    "\n",
    "1个文件被拆分为多个block， block size：128M， 130M --> 2个block： 128m + 2m\n",
    "\n",
    "NameNode： \n",
    "1. 负责客户请求的响应\n",
    "2. 负责元数据（文件的名称、副本系数、block存放的datanode）的管理\n",
    "\n",
    "DataNode：\n",
    "1. 储存用户的文件对应的数据块（block）\n",
    "2. 定期向namenode发送心跳信息，汇报本身及所有的block信息，健康情况等\n",
    "\n",
    "A typical deployment has a dedicated machine that runs only the NameNode software. Each of the other machines in the cluster runs one instance of the DataNode software.\n",
    "\n",
    "1 NameNode + N DataNode\n",
    "\n",
    "However, this arthicture does not preclude running multiple DataNodes on the same machine but in a real deployment that is rarely the case.\n",
    "\n",
    "***Suggestion:*** NameNode and DataNode should be deploied to different nodes.\n"
   ]
  },
  {
   "cell_type": "markdown",
   "metadata": {},
   "source": [
    "## HDFS 副本机制\n",
    "---\n",
    "\n",
    "replication factor： 副本系数、副本因子\n",
    "\n",
    "All blocks in a file except the last block are the same size.\n",
    "\n",
    "![](http://hadoop.apache.org/docs/current/hadoop-project-dist/hadoop-hdfs/images/hdfsdatanodes.png)"
   ]
  },
  {
   "cell_type": "code",
   "execution_count": null,
   "metadata": {},
   "outputs": [],
   "source": []
  },
  {
   "cell_type": "code",
   "execution_count": null,
   "metadata": {},
   "outputs": [],
   "source": []
  },
  {
   "cell_type": "code",
   "execution_count": null,
   "metadata": {},
   "outputs": [],
   "source": []
  },
  {
   "cell_type": "code",
   "execution_count": null,
   "metadata": {},
   "outputs": [],
   "source": []
  },
  {
   "cell_type": "code",
   "execution_count": null,
   "metadata": {},
   "outputs": [],
   "source": []
  },
  {
   "cell_type": "code",
   "execution_count": null,
   "metadata": {},
   "outputs": [],
   "source": []
  },
  {
   "cell_type": "code",
   "execution_count": null,
   "metadata": {},
   "outputs": [],
   "source": []
  },
  {
   "cell_type": "code",
   "execution_count": null,
   "metadata": {},
   "outputs": [],
   "source": []
  },
  {
   "cell_type": "code",
   "execution_count": null,
   "metadata": {},
   "outputs": [],
   "source": []
  },
  {
   "cell_type": "code",
   "execution_count": null,
   "metadata": {},
   "outputs": [],
   "source": []
  },
  {
   "cell_type": "code",
   "execution_count": null,
   "metadata": {},
   "outputs": [],
   "source": []
  },
  {
   "cell_type": "code",
   "execution_count": null,
   "metadata": {},
   "outputs": [],
   "source": []
  },
  {
   "cell_type": "code",
   "execution_count": null,
   "metadata": {},
   "outputs": [],
   "source": []
  }
 ],
 "metadata": {
  "kernelspec": {
   "display_name": "Python 3",
   "language": "python",
   "name": "python3"
  },
  "language_info": {
   "codemirror_mode": {
    "name": "ipython",
    "version": 3
   },
   "file_extension": ".py",
   "mimetype": "text/x-python",
   "name": "python",
   "nbconvert_exporter": "python",
   "pygments_lexer": "ipython3",
   "version": "3.6.1"
  }
 },
 "nbformat": 4,
 "nbformat_minor": 2
}
