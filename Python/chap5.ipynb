{
 "cells": [
  {
   "cell_type": "markdown",
   "metadata": {},
   "source": [
    "# Why are deep neural networks hard to train?\n",
    "## The vanishing gradient problem\n",
    "![](http://neuralnetworksanddeeplearning.com/images/training_speed_4_layers.png)\n",
    "\n",
    "We have here an important observation: in at least some deep neural networks, the gradient tends to get smaller as we move backward through the hidden layers. This means that neurons in the earlier layers learn much more slowly than neurons in later layers. And while we've seen this in just a single network, there are fundamental reasons why this happens in many neural networks. The phenomenon is known as the **vanishing gradient problem**.\n",
    "\n",
    "## What's causing the vanishing gradient problem? Unstable gradients in deep neural nets\n",
    "![](http://neuralnetworksanddeeplearning.com/images/tikz38.png)\n",
    "\n",
    "To understand how each of those terms behave, let's look at a plot of the function $\\sigma'$:\n",
    "\n",
    "![](http://ou8qjsj0m.bkt.clouddn.com//17-11-9/76557825.jpg)\n",
    "\n",
    "The derivative reaches a maximum at $\\sigma'(0) = 1/4$. Now, if we use our standard approach to initializing the weights in the network, then we'll choose the weights using a Gaussian with mean 0 and standard deviation 1. So the weights will usually satisfy $|w_j| < 1$. Putting these observations together, we see that the terms $w_j \\sigma'(z_j)$ will usually satisfy $|w_j \\sigma'(z_j)| < 1/4$. And when we take a product of many such terms, the product will tend to exponentially decrease: the more terms, the smaller the product will be."
   ]
  },
  {
   "cell_type": "code",
   "execution_count": null,
   "metadata": {
    "collapsed": true
   },
   "outputs": [],
   "source": []
  }
 ],
 "metadata": {
  "kernelspec": {
   "display_name": "Python 3",
   "language": "python",
   "name": "python3"
  },
  "language_info": {
   "codemirror_mode": {
    "name": "ipython",
    "version": 3
   },
   "file_extension": ".py",
   "mimetype": "text/x-python",
   "name": "python",
   "nbconvert_exporter": "python",
   "pygments_lexer": "ipython3",
   "version": "3.6.1"
  }
 },
 "nbformat": 4,
 "nbformat_minor": 1
}
