{
 "cells": [
  {
   "cell_type": "code",
   "execution_count": 1,
   "metadata": {},
   "outputs": [
    {
     "name": "stdout",
     "output_type": "stream",
     "text": [
      "is this a hard book? False\n"
     ]
    }
   ],
   "source": [
    "x = False\n",
    "y = \"is this a hard book? {}\"\n",
    "print(y.format(x))"
   ]
  },
  {
   "cell_type": "code",
   "execution_count": 2,
   "metadata": {},
   "outputs": [
    {
     "name": "stdout",
     "output_type": "stream",
     "text": [
      "is this a hard book? False\n"
     ]
    }
   ],
   "source": [
    "x = 'False'\n",
    "y = \"is this a hard book? {}\"\n",
    "print(y.format(x))"
   ]
  },
  {
   "cell_type": "code",
   "execution_count": 3,
   "metadata": {},
   "outputs": [
    {
     "name": "stdout",
     "output_type": "stream",
     "text": [
      "is this a hard book? False\n"
     ]
    }
   ],
   "source": [
    "x = False\n",
    "y = f\"is this a hard book? {x}\"\n",
    "print(y)"
   ]
  },
  {
   "cell_type": "markdown",
   "metadata": {},
   "source": [
    "---"
   ]
  },
  {
   "cell_type": "code",
   "execution_count": 4,
   "metadata": {},
   "outputs": [
    {
     "name": "stdout",
     "output_type": "stream",
     "text": [
      "123123123123123123123123123123\n"
     ]
    }
   ],
   "source": [
    "print(\"123\" * 10)"
   ]
  },
  {
   "cell_type": "code",
   "execution_count": 5,
   "metadata": {},
   "outputs": [
    {
     "name": "stdout",
     "output_type": "stream",
     "text": [
      "('123', ' ', '123', ' ', '123', ' ', '123', ' ', '123', ' ', '123', ' ', '123', ' ', '123', ' ', '123', ' ', '123', ' ')\n"
     ]
    }
   ],
   "source": [
    "print((\"123\",\" \") * 10)"
   ]
  },
  {
   "cell_type": "markdown",
   "metadata": {},
   "source": [
    "---"
   ]
  },
  {
   "cell_type": "code",
   "execution_count": 11,
   "metadata": {},
   "outputs": [
    {
     "name": "stdout",
     "output_type": "stream",
     "text": [
      "this is a test\n",
      "it is another line\n",
      "how to do this\n",
      "i dont know\n",
      "joking\n"
     ]
    }
   ],
   "source": [
    "print(\"\"\"this is a test\n",
    "it is another line\n",
    "how to do this\n",
    "i dont know\n",
    "joking\"\"\")"
   ]
  },
  {
   "cell_type": "code",
   "execution_count": 13,
   "metadata": {},
   "outputs": [
    {
     "ename": "SyntaxError",
     "evalue": "EOL while scanning string literal (<ipython-input-13-e87ec78c1b8e>, line 1)",
     "output_type": "error",
     "traceback": [
      "\u001b[0;36m  File \u001b[0;32m\"<ipython-input-13-e87ec78c1b8e>\"\u001b[0;36m, line \u001b[0;32m1\u001b[0m\n\u001b[0;31m    print(\"compared with the above one\u001b[0m\n\u001b[0m                                      ^\u001b[0m\n\u001b[0;31mSyntaxError\u001b[0m\u001b[0;31m:\u001b[0m EOL while scanning string literal\n"
     ]
    }
   ],
   "source": [
    "print(\"compared with the above one\n",
    "      this could be a error?\")"
   ]
  },
  {
   "cell_type": "code",
   "execution_count": 18,
   "metadata": {},
   "outputs": [
    {
     "name": "stdout",
     "output_type": "stream",
     "text": [
      "compared with the above one \n",
      " this could be a error?\n"
     ]
    }
   ],
   "source": [
    "print(\"compared with the above one \\n this could be a error?\")"
   ]
  },
  {
   "cell_type": "markdown",
   "metadata": {},
   "source": [
    "---"
   ]
  },
  {
   "cell_type": "code",
   "execution_count": 20,
   "metadata": {},
   "outputs": [
    {
     "name": "stdout",
     "output_type": "stream",
     "text": [
      "i am 6'2\" tall.\n",
      "i am 6'2\" tall.\n"
     ]
    }
   ],
   "source": [
    "x = \"i am 6'2\\\" tall.\"\n",
    "y = 'i am 6\\'2\" tall.'\n",
    "\n",
    "print(x)\n",
    "print(y)"
   ]
  },
  {
   "cell_type": "code",
   "execution_count": 25,
   "metadata": {},
   "outputs": [
    {
     "name": "stdout",
     "output_type": "stream",
     "text": [
      "\t I am tabbed in\n",
      "I am split \n",
      "on a line.\n",
      "I am \\ a \\ cat\n",
      "\n",
      "Here is a list:\n",
      "\t * A\n",
      "\t * B\n",
      "\t * C \n",
      " \t * D\n",
      "\n"
     ]
    }
   ],
   "source": [
    "'''Escape sequence\n",
    "the way to use backslash'''\n",
    "\n",
    "tabby_cat = \"\\t I am tabbed in\"\n",
    "split_line_cat = \"I am split \\non a line.\"\n",
    "backslash_cat = \"I am \\\\ a \\\\ cat\"\n",
    "\n",
    "multiple_cat = \"\"\"\n",
    "Here is a list:\n",
    "\\t * A\n",
    "\\t * B\n",
    "\\t * C \\n \\t * D\n",
    "\"\"\"\n",
    "\n",
    "print(tabby_cat)\n",
    "print(split_line_cat)\n",
    "print(backslash_cat)\n",
    "print(multiple_cat)"
   ]
  },
  {
   "cell_type": "markdown",
   "metadata": {},
   "source": [
    "---"
   ]
  },
  {
   "cell_type": "code",
   "execution_count": 28,
   "metadata": {},
   "outputs": [
    {
     "name": "stdout",
     "output_type": "stream",
     "text": [
      "please input your age: 24\n",
      "Your age is: 24\n"
     ]
    }
   ],
   "source": [
    "print(\"please input your age:\", end=\" \")\n",
    "age = input()\n",
    "\n",
    "print(f\"Your age is: {age}\")"
   ]
  },
  {
   "cell_type": "code",
   "execution_count": 29,
   "metadata": {},
   "outputs": [
    {
     "name": "stdout",
     "output_type": "stream",
     "text": [
      "please input your age: 24\n",
      "Your age is: 24\n"
     ]
    }
   ],
   "source": [
    "print(\"please input your age:\", end=\" \")\n",
    "age = input()\n",
    "\n",
    "y = \"Your age is: {}\"\n",
    "print(y.format(age))"
   ]
  },
  {
   "cell_type": "code",
   "execution_count": 31,
   "metadata": {},
   "outputs": [
    {
     "name": "stdout",
     "output_type": "stream",
     "text": [
      "please input your age:24\n",
      "24\n"
     ]
    }
   ],
   "source": [
    "age = input(\"please input your age:\")\n",
    "print(age)"
   ]
  },
  {
   "cell_type": "code",
   "execution_count": 32,
   "metadata": {},
   "outputs": [
    {
     "name": "stdout",
     "output_type": "stream",
     "text": [
      "script: /Users/fan/anaconda/lib/python3.6/site-packages/ipykernel_launcher.py\n",
      "first: -f\n",
      "second: /Users/fan/Library/Jupyter/runtime/kernel-3668c627-fd92-41a4-90a8-cfe638234c5f.json\n"
     ]
    }
   ],
   "source": [
    "from sys import argv\n",
    "script, first, second = argv\n",
    "\n",
    "print(\"script:\", script)\n",
    "print(\"first:\", first)\n",
    "print(\"second:\", second)"
   ]
  },
  {
   "cell_type": "code",
   "execution_count": 33,
   "metadata": {},
   "outputs": [
    {
     "name": "stdout",
     "output_type": "stream",
     "text": [
      "Copying from -f tp /Users/fan/Library/Jupyter/runtime/kernel-3668c627-fd92-41a4-90a8-cfe638234c5f.json\n"
     ]
    },
    {
     "ename": "FileNotFoundError",
     "evalue": "[Errno 2] No such file or directory: '-f'",
     "output_type": "error",
     "traceback": [
      "\u001b[0;31m---------------------------------------------------------------------------\u001b[0m",
      "\u001b[0;31mFileNotFoundError\u001b[0m                         Traceback (most recent call last)",
      "\u001b[0;32m<ipython-input-33-6557bb8a115c>\u001b[0m in \u001b[0;36m<module>\u001b[0;34m()\u001b[0m\n\u001b[1;32m      6\u001b[0m \u001b[0mprint\u001b[0m\u001b[0;34m(\u001b[0m\u001b[0;34mf\"Copying from {from_file} tp {to_file}\"\u001b[0m\u001b[0;34m)\u001b[0m\u001b[0;34m\u001b[0m\u001b[0m\n\u001b[1;32m      7\u001b[0m \u001b[0;34m\u001b[0m\u001b[0m\n\u001b[0;32m----> 8\u001b[0;31m \u001b[0min_file\u001b[0m \u001b[0;34m=\u001b[0m \u001b[0mopen\u001b[0m\u001b[0;34m(\u001b[0m\u001b[0mfrom_file\u001b[0m\u001b[0;34m)\u001b[0m\u001b[0;34m\u001b[0m\u001b[0m\n\u001b[0m\u001b[1;32m      9\u001b[0m \u001b[0mindata\u001b[0m \u001b[0;34m=\u001b[0m \u001b[0min_file\u001b[0m\u001b[0;34m.\u001b[0m\u001b[0mread\u001b[0m\u001b[0;34m(\u001b[0m\u001b[0;34m)\u001b[0m\u001b[0;34m\u001b[0m\u001b[0m\n\u001b[1;32m     10\u001b[0m \u001b[0;34m\u001b[0m\u001b[0m\n",
      "\u001b[0;31mFileNotFoundError\u001b[0m: [Errno 2] No such file or directory: '-f'"
     ]
    }
   ],
   "source": [
    "\"\"\"File copy\"\"\"\n",
    "from sys import argv\n",
    "from os.path import exists\n",
    "\n",
    "script, from_file, to_file = argv\n",
    "print(f\"Copying from {from_file} tp {to_file}\")\n",
    "\n",
    "in_file = open(from_file)\n",
    "indata = in_file.read()\n",
    "\n",
    "out_file = (to_file, 'w')\n",
    "out_file.write(indata)\n",
    "\n",
    "out_file.close()\n",
    "in_file.close()"
   ]
  },
  {
   "cell_type": "code",
   "execution_count": null,
   "metadata": {},
   "outputs": [],
   "source": []
  }
 ],
 "metadata": {
  "kernelspec": {
   "display_name": "Python 3",
   "language": "python",
   "name": "python3"
  },
  "language_info": {
   "codemirror_mode": {
    "name": "ipython",
    "version": 3
   },
   "file_extension": ".py",
   "mimetype": "text/x-python",
   "name": "python",
   "nbconvert_exporter": "python",
   "pygments_lexer": "ipython3",
   "version": "3.6.1"
  }
 },
 "nbformat": 4,
 "nbformat_minor": 2
}
