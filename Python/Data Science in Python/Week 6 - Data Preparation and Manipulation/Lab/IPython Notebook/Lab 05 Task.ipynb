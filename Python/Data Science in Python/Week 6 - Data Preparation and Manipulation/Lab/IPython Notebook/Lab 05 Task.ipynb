{
 "cells": [
  {
   "cell_type": "markdown",
   "metadata": {},
   "source": [
    "### Lab 5 Tasks"
   ]
  },
  {
   "cell_type": "markdown",
   "metadata": {
    "collapsed": true
   },
   "source": [
    "Download the data file *election2016.csv* from Moodle and complete the steps in the cells provided below."
   ]
  },
  {
   "cell_type": "markdown",
   "metadata": {},
   "source": [
    "Step 1. Load the dataset from the CSV file using Pandas. Use the \"Username\" column as the row index."
   ]
  },
  {
   "cell_type": "code",
   "execution_count": 3,
   "metadata": {
    "collapsed": false
   },
   "outputs": [],
   "source": [
    "import pandas as pd\n",
    "\n",
    "df = pd.read_csv(\"../data/election2016.csv\", index_col = \"Username\")"
   ]
  },
  {
   "cell_type": "markdown",
   "metadata": {},
   "source": [
    "Step 2. Calculate summary statistics for the dataset."
   ]
  },
  {
   "cell_type": "code",
   "execution_count": 4,
   "metadata": {
    "collapsed": false
   },
   "outputs": [
    {
     "data": {
      "text/html": [
       "<div>\n",
       "<table border=\"1\" class=\"dataframe\">\n",
       "  <thead>\n",
       "    <tr style=\"text-align: right;\">\n",
       "      <th></th>\n",
       "      <th>Tweets</th>\n",
       "      <th>Followers</th>\n",
       "    </tr>\n",
       "  </thead>\n",
       "  <tbody>\n",
       "    <tr>\n",
       "      <th>count</th>\n",
       "      <td>18.000000</td>\n",
       "      <td>19.000000</td>\n",
       "    </tr>\n",
       "    <tr>\n",
       "      <th>mean</th>\n",
       "      <td>2555.277778</td>\n",
       "      <td>13993.105263</td>\n",
       "    </tr>\n",
       "    <tr>\n",
       "      <th>std</th>\n",
       "      <td>2462.759184</td>\n",
       "      <td>11831.417661</td>\n",
       "    </tr>\n",
       "    <tr>\n",
       "      <th>min</th>\n",
       "      <td>64.000000</td>\n",
       "      <td>207.000000</td>\n",
       "    </tr>\n",
       "    <tr>\n",
       "      <th>25%</th>\n",
       "      <td>613.250000</td>\n",
       "      <td>4630.000000</td>\n",
       "    </tr>\n",
       "    <tr>\n",
       "      <th>50%</th>\n",
       "      <td>1836.500000</td>\n",
       "      <td>11806.000000</td>\n",
       "    </tr>\n",
       "    <tr>\n",
       "      <th>75%</th>\n",
       "      <td>4207.750000</td>\n",
       "      <td>18978.000000</td>\n",
       "    </tr>\n",
       "    <tr>\n",
       "      <th>max</th>\n",
       "      <td>7493.000000</td>\n",
       "      <td>43657.000000</td>\n",
       "    </tr>\n",
       "  </tbody>\n",
       "</table>\n",
       "</div>"
      ],
      "text/plain": [
       "            Tweets     Followers\n",
       "count    18.000000     19.000000\n",
       "mean   2555.277778  13993.105263\n",
       "std    2462.759184  11831.417661\n",
       "min      64.000000    207.000000\n",
       "25%     613.250000   4630.000000\n",
       "50%    1836.500000  11806.000000\n",
       "75%    4207.750000  18978.000000\n",
       "max    7493.000000  43657.000000"
      ]
     },
     "execution_count": 4,
     "metadata": {},
     "output_type": "execute_result"
    }
   ],
   "source": [
    "df.describe()"
   ]
  },
  {
   "cell_type": "markdown",
   "metadata": {},
   "source": [
    "Step 3. Find the number of missing values in each column."
   ]
  },
  {
   "cell_type": "code",
   "execution_count": 5,
   "metadata": {
    "collapsed": false
   },
   "outputs": [
    {
     "data": {
      "text/plain": [
       "Firstname       0\n",
       "Lastname        0\n",
       "Party           0\n",
       "Tweets          7\n",
       "Followers       6\n",
       "Constituency    0\n",
       "dtype: int64"
      ]
     },
     "execution_count": 5,
     "metadata": {},
     "output_type": "execute_result"
    }
   ],
   "source": [
    "df.isnull().sum()"
   ]
  },
  {
   "cell_type": "markdown",
   "metadata": {
    "collapsed": true
   },
   "source": [
    "Step 4. Replace all missing values in the \"Tweets\" column with the mean value for that column."
   ]
  },
  {
   "cell_type": "code",
   "execution_count": 8,
   "metadata": {
    "collapsed": false
   },
   "outputs": [
    {
     "data": {
      "text/plain": [
       "Firstname       0\n",
       "Lastname        0\n",
       "Party           0\n",
       "Tweets          0\n",
       "Followers       6\n",
       "Constituency    0\n",
       "dtype: int64"
      ]
     },
     "execution_count": 8,
     "metadata": {},
     "output_type": "execute_result"
    }
   ],
   "source": [
    "mean_tweets = df[\"Tweets\"].mean()\n",
    "df[\"Tweets\"]= df[\"Tweets\"].fillna(mean_tweets)\n",
    "df.isnull().sum()"
   ]
  },
  {
   "cell_type": "markdown",
   "metadata": {},
   "source": [
    "Step 5. Replace all missing values in the \"Followers\" column with the mean value for that column."
   ]
  },
  {
   "cell_type": "code",
   "execution_count": 9,
   "metadata": {
    "collapsed": false
   },
   "outputs": [
    {
     "data": {
      "text/plain": [
       "Firstname       0\n",
       "Lastname        0\n",
       "Party           0\n",
       "Tweets          0\n",
       "Followers       0\n",
       "Constituency    0\n",
       "dtype: int64"
      ]
     },
     "execution_count": 9,
     "metadata": {},
     "output_type": "execute_result"
    }
   ],
   "source": [
    "mean_followers = df[\"Followers\"].mean()\n",
    "df[\"Followers\"]= df[\"Followers\"].fillna(mean_followers)\n",
    "df.isnull().sum()"
   ]
  },
  {
   "cell_type": "markdown",
   "metadata": {},
   "source": [
    "Step 6. Group the rows in the dataset based on the \"Party\" column, and display the sums of the groups."
   ]
  },
  {
   "cell_type": "code",
   "execution_count": 12,
   "metadata": {
    "collapsed": false
   },
   "outputs": [
    {
     "data": {
      "text/html": [
       "<div>\n",
       "<table border=\"1\" class=\"dataframe\">\n",
       "  <thead>\n",
       "    <tr style=\"text-align: right;\">\n",
       "      <th></th>\n",
       "      <th>Tweets</th>\n",
       "      <th>Followers</th>\n",
       "    </tr>\n",
       "    <tr>\n",
       "      <th>Party</th>\n",
       "      <th></th>\n",
       "      <th></th>\n",
       "    </tr>\n",
       "  </thead>\n",
       "  <tbody>\n",
       "    <tr>\n",
       "      <th>Fianna Fail</th>\n",
       "      <td>6016.000000</td>\n",
       "      <td>30619.105263</td>\n",
       "    </tr>\n",
       "    <tr>\n",
       "      <th>Fine Gael</th>\n",
       "      <td>26314.833333</td>\n",
       "      <td>135642.421053</td>\n",
       "    </tr>\n",
       "    <tr>\n",
       "      <th>Green Party</th>\n",
       "      <td>2555.277778</td>\n",
       "      <td>16110.000000</td>\n",
       "    </tr>\n",
       "    <tr>\n",
       "      <th>Independent/Other</th>\n",
       "      <td>4946.000000</td>\n",
       "      <td>49431.000000</td>\n",
       "    </tr>\n",
       "    <tr>\n",
       "      <th>Labour</th>\n",
       "      <td>7861.555556</td>\n",
       "      <td>45625.105263</td>\n",
       "    </tr>\n",
       "    <tr>\n",
       "      <th>People Before Profit</th>\n",
       "      <td>64.000000</td>\n",
       "      <td>207.000000</td>\n",
       "    </tr>\n",
       "    <tr>\n",
       "      <th>Renua</th>\n",
       "      <td>4238.000000</td>\n",
       "      <td>21330.000000</td>\n",
       "    </tr>\n",
       "    <tr>\n",
       "      <th>Sinn Fein</th>\n",
       "      <td>7769.277778</td>\n",
       "      <td>28791.000000</td>\n",
       "    </tr>\n",
       "    <tr>\n",
       "      <th>Social Democrats</th>\n",
       "      <td>4117.000000</td>\n",
       "      <td>22072.000000</td>\n",
       "    </tr>\n",
       "  </tbody>\n",
       "</table>\n",
       "</div>"
      ],
      "text/plain": [
       "                            Tweets      Followers\n",
       "Party                                            \n",
       "Fianna Fail            6016.000000   30619.105263\n",
       "Fine Gael             26314.833333  135642.421053\n",
       "Green Party            2555.277778   16110.000000\n",
       "Independent/Other      4946.000000   49431.000000\n",
       "Labour                 7861.555556   45625.105263\n",
       "People Before Profit     64.000000     207.000000\n",
       "Renua                  4238.000000   21330.000000\n",
       "Sinn Fein              7769.277778   28791.000000\n",
       "Social Democrats       4117.000000   22072.000000"
      ]
     },
     "execution_count": 12,
     "metadata": {},
     "output_type": "execute_result"
    }
   ],
   "source": [
    "groups_party = df.groupby(\"Party\")\n",
    "groups_party.sum()"
   ]
  },
  {
   "cell_type": "markdown",
   "metadata": {},
   "source": [
    "Step 7. Group the rows in the dataset based on the \"Constituency\" column, and display the sums of the groups."
   ]
  },
  {
   "cell_type": "code",
   "execution_count": 13,
   "metadata": {
    "collapsed": false
   },
   "outputs": [
    {
     "data": {
      "text/html": [
       "<div>\n",
       "<table border=\"1\" class=\"dataframe\">\n",
       "  <thead>\n",
       "    <tr style=\"text-align: right;\">\n",
       "      <th></th>\n",
       "      <th>Tweets</th>\n",
       "      <th>Followers</th>\n",
       "    </tr>\n",
       "    <tr>\n",
       "      <th>Constituency</th>\n",
       "      <th></th>\n",
       "      <th></th>\n",
       "    </tr>\n",
       "  </thead>\n",
       "  <tbody>\n",
       "    <tr>\n",
       "      <th>Cork East</th>\n",
       "      <td>3420.277778</td>\n",
       "      <td>25889.105263</td>\n",
       "    </tr>\n",
       "    <tr>\n",
       "      <th>Cork South Central</th>\n",
       "      <td>6052.555556</td>\n",
       "      <td>42425.105263</td>\n",
       "    </tr>\n",
       "    <tr>\n",
       "      <th>Dublin Bay South</th>\n",
       "      <td>6793.277778</td>\n",
       "      <td>37440.000000</td>\n",
       "    </tr>\n",
       "    <tr>\n",
       "      <th>Dublin Central</th>\n",
       "      <td>12707.000000</td>\n",
       "      <td>39848.105263</td>\n",
       "    </tr>\n",
       "    <tr>\n",
       "      <th>Dublin Fingal</th>\n",
       "      <td>2571.000000</td>\n",
       "      <td>22281.000000</td>\n",
       "    </tr>\n",
       "    <tr>\n",
       "      <th>Dublin Rathdown</th>\n",
       "      <td>5517.277778</td>\n",
       "      <td>42345.000000</td>\n",
       "    </tr>\n",
       "    <tr>\n",
       "      <th>Dublin West</th>\n",
       "      <td>2766.000000</td>\n",
       "      <td>29395.105263</td>\n",
       "    </tr>\n",
       "    <tr>\n",
       "      <th>Limerick City</th>\n",
       "      <td>4524.277778</td>\n",
       "      <td>18818.105263</td>\n",
       "    </tr>\n",
       "    <tr>\n",
       "      <th>Mayo</th>\n",
       "      <td>8035.277778</td>\n",
       "      <td>59401.105263</td>\n",
       "    </tr>\n",
       "    <tr>\n",
       "      <th>Wicklow</th>\n",
       "      <td>11495.000000</td>\n",
       "      <td>31985.000000</td>\n",
       "    </tr>\n",
       "  </tbody>\n",
       "</table>\n",
       "</div>"
      ],
      "text/plain": [
       "                          Tweets     Followers\n",
       "Constituency                                  \n",
       "Cork East            3420.277778  25889.105263\n",
       "Cork South Central   6052.555556  42425.105263\n",
       "Dublin Bay South     6793.277778  37440.000000\n",
       "Dublin Central      12707.000000  39848.105263\n",
       "Dublin Fingal        2571.000000  22281.000000\n",
       "Dublin Rathdown      5517.277778  42345.000000\n",
       "Dublin West          2766.000000  29395.105263\n",
       "Limerick City        4524.277778  18818.105263\n",
       "Mayo                 8035.277778  59401.105263\n",
       "Wicklow             11495.000000  31985.000000"
      ]
     },
     "execution_count": 13,
     "metadata": {},
     "output_type": "execute_result"
    }
   ],
   "source": [
    "groups_constituency = df.groupby(\"Constituency\")\n",
    "groups_constituency.sum()"
   ]
  },
  {
   "cell_type": "code",
   "execution_count": null,
   "metadata": {
    "collapsed": true
   },
   "outputs": [],
   "source": []
  }
 ],
 "metadata": {
  "anaconda-cloud": {},
  "kernelspec": {
   "display_name": "Python [conda root]",
   "language": "python",
   "name": "conda-root-py"
  },
  "language_info": {
   "codemirror_mode": {
    "name": "ipython",
    "version": 2
   },
   "file_extension": ".py",
   "mimetype": "text/x-python",
   "name": "python",
   "nbconvert_exporter": "python",
   "pygments_lexer": "ipython2",
   "version": "2.7.12"
  }
 },
 "nbformat": 4,
 "nbformat_minor": 0
}
