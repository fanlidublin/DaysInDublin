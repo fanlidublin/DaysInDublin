{
 "cells": [
  {
   "cell_type": "code",
   "execution_count": null,
   "metadata": {
    "collapsed": true
   },
   "outputs": [],
   "source": [
    "## Introduction to Pandas"
   ]
  },
  {
   "cell_type": "markdown",
   "metadata": {},
   "source": [
    "Pandas is an open source package providing high-performance data structures and analysis tools for Python. It provides a Python equivalent of the data analysis and manipulation tools available in the R programming language."
   ]
  },
  {
   "cell_type": "markdown",
   "metadata": {},
   "source": [
    "Pandas offers two key data structures that are optimised for data analysis and manipulation: Series and Data Frame. The key distinction of these data structures over basic Python data structures is that they make it easy to associate an *index* with data - i.e. row and column names."
   ]
  },
  {
   "cell_type": "markdown",
   "metadata": {},
   "source": [
    "To start off, we import the Pandas package. We can import it as *pd* for shorthand."
   ]
  },
  {
   "cell_type": "code",
   "execution_count": 1,
   "metadata": {
    "collapsed": true
   },
   "outputs": [],
   "source": [
    "import pandas as pd"
   ]
  },
  {
   "cell_type": "markdown",
   "metadata": {},
   "source": [
    "### Pandas Series"
   ]
  },
  {
   "cell_type": "markdown",
   "metadata": {},
   "source": [
    "A *Series* is a one-dimensional array capable of holding any data type (integers, strings, floating point numbers, etc.).  "
   ]
  },
  {
   "cell_type": "markdown",
   "metadata": {},
   "source": [
    "To create a new series, we can use the *Series()* method. The simplest (but least useful) approach is to pass in a Python list. This means that the Series will have a numeric index."
   ]
  },
  {
   "cell_type": "code",
   "execution_count": 2,
   "metadata": {
    "collapsed": false
   },
   "outputs": [
    {
     "data": {
      "text/plain": [
       "0      2\n",
       "1    101\n",
       "2     45\n",
       "3    232\n",
       "4     45\n",
       "5     67\n",
       "dtype: int64"
      ]
     },
     "execution_count": 2,
     "metadata": {},
     "output_type": "execute_result"
    }
   ],
   "source": [
    "s1 = pd.Series([2,101,45,232,45,67])\n",
    "s1"
   ]
  },
  {
   "cell_type": "markdown",
   "metadata": {},
   "source": [
    "We can also explicitly pass a list of index values to the Series() method to use a more interesting index (in this case strings containing country names):"
   ]
  },
  {
   "cell_type": "code",
   "execution_count": 3,
   "metadata": {
    "collapsed": false
   },
   "outputs": [
    {
     "name": "stdout",
     "output_type": "stream",
     "text": [
      "China            1357000000\n",
      "India            1252000000\n",
      "United States     321068000\n",
      "Indonesia         249900000\n",
      "Brazil            200400000\n",
      "Pakistan          191854000\n",
      "dtype: int64\n"
     ]
    }
   ],
   "source": [
    "populations = pd.Series([1357000000, 1252000000, 321068000, 249900000, 200400000, 191854000], \n",
    "                        [\"China\", \"India\", \"United States\", \"Indonesia\", \"Brazil\", \"Pakistan\"])\n",
    "print(populations)"
   ]
  },
  {
   "cell_type": "markdown",
   "metadata": {},
   "source": [
    "This is very similar to a Python dictionary. In fact we can create a Series directly from a Python dictionary. Here the keys in the dictionary act as the index for the Series:"
   ]
  },
  {
   "cell_type": "code",
   "execution_count": 4,
   "metadata": {
    "collapsed": false
   },
   "outputs": [
    {
     "name": "stdout",
     "output_type": "stream",
     "text": [
      "Brazil            200400000\n",
      "China            1357000000\n",
      "India            1252000000\n",
      "Indonesia         249900000\n",
      "Pakistan          191854000\n",
      "United States     321068000\n",
      "dtype: int64\n"
     ]
    }
   ],
   "source": [
    "populations = pd.Series({\"China\":1357000000, \"India\":1252000000, \"United States\":321068000, \"Indonesia\":249900000, \n",
    "                         \"Brazil\":200400000, \"Pakistan\":191854000})\n",
    "print(populations)"
   ]
  },
  {
   "cell_type": "markdown",
   "metadata": {},
   "source": [
    "####  Basic statistics ####\n",
    "A Series has associated functions for a range of simple analyses:"
   ]
  },
  {
   "cell_type": "code",
   "execution_count": 5,
   "metadata": {
    "collapsed": false
   },
   "outputs": [
    {
     "data": {
      "text/plain": [
       "191854000"
      ]
     },
     "execution_count": 5,
     "metadata": {},
     "output_type": "execute_result"
    }
   ],
   "source": [
    "populations.min()"
   ]
  },
  {
   "cell_type": "code",
   "execution_count": 6,
   "metadata": {
    "collapsed": false
   },
   "outputs": [
    {
     "data": {
      "text/plain": [
       "1357000000"
      ]
     },
     "execution_count": 6,
     "metadata": {},
     "output_type": "execute_result"
    }
   ],
   "source": [
    "populations.max()"
   ]
  },
  {
   "cell_type": "code",
   "execution_count": 7,
   "metadata": {
    "collapsed": false
   },
   "outputs": [
    {
     "data": {
      "text/plain": [
       "285484000.0"
      ]
     },
     "execution_count": 7,
     "metadata": {},
     "output_type": "execute_result"
    }
   ],
   "source": [
    "populations.median()"
   ]
  },
  {
   "cell_type": "code",
   "execution_count": 8,
   "metadata": {
    "collapsed": false
   },
   "outputs": [
    {
     "data": {
      "text/plain": [
       "595370333.3333334"
      ]
     },
     "execution_count": 8,
     "metadata": {},
     "output_type": "execute_result"
    }
   ],
   "source": [
    "populations.mean()"
   ]
  },
  {
   "cell_type": "code",
   "execution_count": 10,
   "metadata": {
    "collapsed": false
   },
   "outputs": [
    {
     "data": {
      "text/plain": [
       "552206625.2879139"
      ]
     },
     "execution_count": 10,
     "metadata": {},
     "output_type": "execute_result"
    }
   ],
   "source": [
    "populations.std()   # standard deviation"
   ]
  },
  {
   "cell_type": "markdown",
   "metadata": {},
   "source": [
    "The *describe()* function gives a useful statistical summary of a Series using a single line:"
   ]
  },
  {
   "cell_type": "code",
   "execution_count": 9,
   "metadata": {
    "collapsed": false
   },
   "outputs": [
    {
     "data": {
      "text/plain": [
       "count    6.000000e+00\n",
       "mean     5.953703e+08\n",
       "std      5.522066e+08\n",
       "min      1.918540e+08\n",
       "25%      2.127750e+08\n",
       "50%      2.854840e+08\n",
       "75%      1.019267e+09\n",
       "max      1.357000e+09\n",
       "dtype: float64"
      ]
     },
     "execution_count": 9,
     "metadata": {},
     "output_type": "execute_result"
    }
   ],
   "source": [
    "populations.describe()"
   ]
  },
  {
   "cell_type": "markdown",
   "metadata": {},
   "source": [
    "#### Accessing Series Values by Position\n",
    "A Series offers a number of choices for accessing element values. We can use simple position numbers like lists, counting from 0:"
   ]
  },
  {
   "cell_type": "code",
   "execution_count": 11,
   "metadata": {
    "collapsed": false
   },
   "outputs": [
    {
     "data": {
      "text/plain": [
       "200400000"
      ]
     },
     "execution_count": 11,
     "metadata": {},
     "output_type": "execute_result"
    }
   ],
   "source": [
    "populations[0]  # value at 1st position"
   ]
  },
  {
   "cell_type": "code",
   "execution_count": 12,
   "metadata": {
    "collapsed": false
   },
   "outputs": [
    {
     "data": {
      "text/plain": [
       "1252000000"
      ]
     },
     "execution_count": 12,
     "metadata": {},
     "output_type": "execute_result"
    }
   ],
   "source": [
    "populations[2]  # value at 3rd position"
   ]
  },
  {
   "cell_type": "markdown",
   "metadata": {},
   "source": [
    "We can use slicing via the *:* operator (remember this includes the elements from index start up to but not including index end): "
   ]
  },
  {
   "cell_type": "code",
   "execution_count": 13,
   "metadata": {
    "collapsed": false
   },
   "outputs": [
    {
     "data": {
      "text/plain": [
       "Brazil     200400000\n",
       "China     1357000000\n",
       "dtype: int64"
      ]
     },
     "execution_count": 13,
     "metadata": {},
     "output_type": "execute_result"
    }
   ],
   "source": [
    "populations[0:2]  # start at 1st position, end before 3rd position"
   ]
  },
  {
   "cell_type": "code",
   "execution_count": 14,
   "metadata": {
    "collapsed": false
   },
   "outputs": [
    {
     "data": {
      "text/plain": [
       "China            1357000000\n",
       "India            1252000000\n",
       "Indonesia         249900000\n",
       "Pakistan          191854000\n",
       "United States     321068000\n",
       "dtype: int64"
      ]
     },
     "execution_count": 14,
     "metadata": {},
     "output_type": "execute_result"
    }
   ],
   "source": [
    "populations[1:]  # everything from the 2nd position onwards"
   ]
  },
  {
   "cell_type": "code",
   "execution_count": 15,
   "metadata": {
    "collapsed": false
   },
   "outputs": [
    {
     "data": {
      "text/plain": [
       "Brazil     200400000\n",
       "China     1357000000\n",
       "India     1252000000\n",
       "dtype: int64"
      ]
     },
     "execution_count": 15,
     "metadata": {},
     "output_type": "execute_result"
    }
   ],
   "source": [
    "populations[:3]  # everything before the 4th position"
   ]
  },
  {
   "cell_type": "markdown",
   "metadata": {},
   "source": [
    "We can also provide Boolean expressions for conditional data access:"
   ]
  },
  {
   "cell_type": "code",
   "execution_count": 16,
   "metadata": {
    "collapsed": false
   },
   "outputs": [
    {
     "data": {
      "text/plain": [
       "Brazil           False\n",
       "China             True\n",
       "India             True\n",
       "Indonesia        False\n",
       "Pakistan         False\n",
       "United States    False\n",
       "dtype: bool"
      ]
     },
     "execution_count": 16,
     "metadata": {},
     "output_type": "execute_result"
    }
   ],
   "source": [
    "# Check which of the values in the Series are > 1 billion\n",
    "populations > 1000000000"
   ]
  },
  {
   "cell_type": "code",
   "execution_count": 17,
   "metadata": {
    "collapsed": false
   },
   "outputs": [
    {
     "data": {
      "text/plain": [
       "China    1357000000\n",
       "India    1252000000\n",
       "dtype: int64"
      ]
     },
     "execution_count": 17,
     "metadata": {},
     "output_type": "execute_result"
    }
   ],
   "source": [
    "# Select only the positions for which the corresponding values in the Series are > 1 billion\n",
    "populations[populations > 1000000000]"
   ]
  },
  {
   "cell_type": "markdown",
   "metadata": {},
   "source": [
    "We can use numeric positions to modify values in a series:"
   ]
  },
  {
   "cell_type": "code",
   "execution_count": 18,
   "metadata": {
    "collapsed": false
   },
   "outputs": [
    {
     "data": {
      "text/plain": [
       "Brazil           1364730000\n",
       "China            1357000000\n",
       "India            1252000000\n",
       "Indonesia         249900000\n",
       "Pakistan          191854000\n",
       "United States     321068000\n",
       "dtype: int64"
      ]
     },
     "execution_count": 18,
     "metadata": {},
     "output_type": "execute_result"
    }
   ],
   "source": [
    "populations[0] = 1364730000\n",
    "populations"
   ]
  },
  {
   "cell_type": "markdown",
   "metadata": {},
   "source": [
    "#### Accessing Series Values by Index\n",
    "We can also access elements using the index defined at creation, similar to a dictionary:"
   ]
  },
  {
   "cell_type": "code",
   "execution_count": 19,
   "metadata": {
    "collapsed": false
   },
   "outputs": [
    {
     "data": {
      "text/plain": [
       "1252000000"
      ]
     },
     "execution_count": 19,
     "metadata": {},
     "output_type": "execute_result"
    }
   ],
   "source": [
    "populations[\"India\"]"
   ]
  },
  {
   "cell_type": "code",
   "execution_count": 20,
   "metadata": {
    "collapsed": false
   },
   "outputs": [
    {
     "data": {
      "text/plain": [
       "1357000000"
      ]
     },
     "execution_count": 20,
     "metadata": {},
     "output_type": "execute_result"
    }
   ],
   "source": [
    "populations[\"China\"]"
   ]
  },
  {
   "cell_type": "markdown",
   "metadata": {},
   "source": [
    "We can access multiple elements by passing a list of index values:"
   ]
  },
  {
   "cell_type": "code",
   "execution_count": 21,
   "metadata": {
    "collapsed": false
   },
   "outputs": [
    {
     "data": {
      "text/plain": [
       "Brazil    1364730000\n",
       "China     1357000000\n",
       "dtype: int64"
      ]
     },
     "execution_count": 21,
     "metadata": {},
     "output_type": "execute_result"
    }
   ],
   "source": [
    "populations[[\"Brazil\",\"China\"]]"
   ]
  },
  {
   "cell_type": "markdown",
   "metadata": {},
   "source": [
    "We can also use an index to modify values in a series:"
   ]
  },
  {
   "cell_type": "code",
   "execution_count": 22,
   "metadata": {
    "collapsed": false
   },
   "outputs": [
    {
     "data": {
      "text/plain": [
       "Brazil           1364730000\n",
       "China            1374730000\n",
       "India            1252000000\n",
       "Indonesia         249900000\n",
       "Pakistan          191854000\n",
       "United States     321068000\n",
       "dtype: int64"
      ]
     },
     "execution_count": 22,
     "metadata": {},
     "output_type": "execute_result"
    }
   ],
   "source": [
    "populations[\"China\"] = 1374730000\n",
    "populations"
   ]
  },
  {
   "cell_type": "markdown",
   "metadata": {},
   "source": [
    "### Pandas Data Frames"
   ]
  },
  {
   "cell_type": "markdown",
   "metadata": {},
   "source": [
    "A Pandas *Data Frame* is a 2-dimensional labelled data structure with columns of data that can be of different types. Like a series, it supports both position-based and index-based data access."
   ]
  },
  {
   "cell_type": "markdown",
   "metadata": {},
   "source": [
    "The easiest way to create a DataFrame is to pass the *DataFrame()* method a dictionary of lists, where each list will be a column. Notice that IPython Notebooks will render frames in a tabular format."
   ]
  },
  {
   "cell_type": "code",
   "execution_count": 23,
   "metadata": {
    "collapsed": false
   },
   "outputs": [
    {
     "data": {
      "text/html": [
       "<div>\n",
       "<table border=\"1\" class=\"dataframe\">\n",
       "  <thead>\n",
       "    <tr style=\"text-align: right;\">\n",
       "      <th></th>\n",
       "      <th>Country</th>\n",
       "      <th>GDP</th>\n",
       "      <th>Life Expectancy</th>\n",
       "      <th>Population</th>\n",
       "    </tr>\n",
       "  </thead>\n",
       "  <tbody>\n",
       "    <tr>\n",
       "      <th>0</th>\n",
       "      <td>China</td>\n",
       "      <td>11384760</td>\n",
       "      <td>75.41</td>\n",
       "      <td>1357000000</td>\n",
       "    </tr>\n",
       "    <tr>\n",
       "      <th>1</th>\n",
       "      <td>India</td>\n",
       "      <td>2182580</td>\n",
       "      <td>68.13</td>\n",
       "      <td>1252000000</td>\n",
       "    </tr>\n",
       "    <tr>\n",
       "      <th>2</th>\n",
       "      <td>United States</td>\n",
       "      <td>17968200</td>\n",
       "      <td>79.68</td>\n",
       "      <td>321068000</td>\n",
       "    </tr>\n",
       "    <tr>\n",
       "      <th>3</th>\n",
       "      <td>Indonesia</td>\n",
       "      <td>888648</td>\n",
       "      <td>72.45</td>\n",
       "      <td>249900000</td>\n",
       "    </tr>\n",
       "    <tr>\n",
       "      <th>4</th>\n",
       "      <td>Brazil</td>\n",
       "      <td>1799610</td>\n",
       "      <td>73.53</td>\n",
       "      <td>200400000</td>\n",
       "    </tr>\n",
       "    <tr>\n",
       "      <th>5</th>\n",
       "      <td>Pakistan</td>\n",
       "      <td>246849</td>\n",
       "      <td>67.39</td>\n",
       "      <td>191854000</td>\n",
       "    </tr>\n",
       "  </tbody>\n",
       "</table>\n",
       "</div>"
      ],
      "text/plain": [
       "         Country       GDP  Life Expectancy  Population\n",
       "0          China  11384760            75.41  1357000000\n",
       "1          India   2182580            68.13  1252000000\n",
       "2  United States  17968200            79.68   321068000\n",
       "3      Indonesia    888648            72.45   249900000\n",
       "4         Brazil   1799610            73.53   200400000\n",
       "5       Pakistan    246849            67.39   191854000"
      ]
     },
     "execution_count": 23,
     "metadata": {},
     "output_type": "execute_result"
    }
   ],
   "source": [
    "countries = pd.DataFrame({\"Country\":[\"China\", \"India\", \"United States\", \"Indonesia\", \"Brazil\", \"Pakistan\"],\n",
    "                          \"Population\":[1357000000, 1252000000, 321068000, 249900000, 200400000, 191854000],\n",
    "                          \"GDP\":[11384760, 2182580, 17968200, 888648, 1799610, 246849],\n",
    "                          \"Life Expectancy\":[75.41, 68.13, 79.68, 72.45, 73.53, 67.39]})\n",
    "countries"
   ]
  },
  {
   "cell_type": "markdown",
   "metadata": {},
   "source": [
    "We can get the dimensions of the Data Frame using the *shape* variable, which is a tuple of the form (rows,columns):"
   ]
  },
  {
   "cell_type": "code",
   "execution_count": 24,
   "metadata": {
    "collapsed": false
   },
   "outputs": [
    {
     "data": {
      "text/plain": [
       "(6, 4)"
      ]
     },
     "execution_count": 24,
     "metadata": {},
     "output_type": "execute_result"
    }
   ],
   "source": [
    "countries.shape"
   ]
  },
  {
   "cell_type": "markdown",
   "metadata": {},
   "source": [
    "#### Loading Data Frames"
   ]
  },
  {
   "cell_type": "markdown",
   "metadata": {},
   "source": [
    "We read a Data Frame from a CSV file via the *read_csv()* function. The first line contains the column  ",
    "names, each subsequent line will be a row in the frame. By default, the function assumes the values are comma-separated."
   ]
  },
  {
   "cell_type": "code",
   "execution_count": 26,
   "metadata": {
    "collapsed": false
   },
   "outputs": [],
   "source": [
    "df = pd.read_csv(\"../data/countries.csv\")"
   ]
  },
  {
   "cell_type": "code",
   "execution_count": 27,
   "metadata": {
    "collapsed": false
   },
   "outputs": [
    {
     "data": {
      "text/plain": [
       "(16, 7)"
      ]
     },
     "execution_count": 27,
     "metadata": {},
     "output_type": "execute_result"
    }
   ],
   "source": [
    "df.shape   # check the size of the dataset which we have loaded"
   ]
  },
  {
   "cell_type": "markdown",
   "metadata": {},
   "source": [
    "We can also tell the *read_csv()* function to use one of the columns in the CSV file as the index for the rows in our data. In the example below we will use the \"Country ID\" columns:"
   ]
  },
  {
   "cell_type": "code",
   "execution_count": 29,
   "metadata": {
    "collapsed": false
   },
   "outputs": [
    {
     "data": {
      "text/html": [
       "<div>\n",
       "<table border=\"1\" class=\"dataframe\">\n",
       "  <thead>\n",
       "    <tr style=\"text-align: right;\">\n",
       "      <th></th>\n",
       "      <th>Life Exp.</th>\n",
       "      <th>Top-10 Income</th>\n",
       "      <th>Infant Mort.</th>\n",
       "      <th>Mil. Spend</th>\n",
       "      <th>School Years</th>\n",
       "      <th>CPI</th>\n",
       "    </tr>\n",
       "    <tr>\n",
       "      <th>Country ID</th>\n",
       "      <th></th>\n",
       "      <th></th>\n",
       "      <th></th>\n",
       "      <th></th>\n",
       "      <th></th>\n",
       "      <th></th>\n",
       "    </tr>\n",
       "  </thead>\n",
       "  <tbody>\n",
       "    <tr>\n",
       "      <th>Afghanistan</th>\n",
       "      <td>59.61</td>\n",
       "      <td>23.21</td>\n",
       "      <td>74.3</td>\n",
       "      <td>4.44</td>\n",
       "      <td>0.4</td>\n",
       "      <td>1.5171</td>\n",
       "    </tr>\n",
       "    <tr>\n",
       "      <th>Haiti</th>\n",
       "      <td>45.00</td>\n",
       "      <td>47.67</td>\n",
       "      <td>73.1</td>\n",
       "      <td>0.09</td>\n",
       "      <td>3.4</td>\n",
       "      <td>1.7999</td>\n",
       "    </tr>\n",
       "    <tr>\n",
       "      <th>Nigeria</th>\n",
       "      <td>51.30</td>\n",
       "      <td>38.23</td>\n",
       "      <td>82.6</td>\n",
       "      <td>1.07</td>\n",
       "      <td>4.1</td>\n",
       "      <td>2.4493</td>\n",
       "    </tr>\n",
       "    <tr>\n",
       "      <th>Egypt</th>\n",
       "      <td>70.48</td>\n",
       "      <td>26.58</td>\n",
       "      <td>19.6</td>\n",
       "      <td>1.86</td>\n",
       "      <td>5.3</td>\n",
       "      <td>2.8622</td>\n",
       "    </tr>\n",
       "    <tr>\n",
       "      <th>Argentina</th>\n",
       "      <td>75.77</td>\n",
       "      <td>32.30</td>\n",
       "      <td>13.3</td>\n",
       "      <td>0.76</td>\n",
       "      <td>10.1</td>\n",
       "      <td>2.9961</td>\n",
       "    </tr>\n",
       "    <tr>\n",
       "      <th>China</th>\n",
       "      <td>74.87</td>\n",
       "      <td>29.98</td>\n",
       "      <td>13.7</td>\n",
       "      <td>1.95</td>\n",
       "      <td>6.4</td>\n",
       "      <td>3.6356</td>\n",
       "    </tr>\n",
       "    <tr>\n",
       "      <th>Brazil</th>\n",
       "      <td>73.12</td>\n",
       "      <td>42.93</td>\n",
       "      <td>14.5</td>\n",
       "      <td>1.43</td>\n",
       "      <td>7.2</td>\n",
       "      <td>3.7741</td>\n",
       "    </tr>\n",
       "    <tr>\n",
       "      <th>Israel</th>\n",
       "      <td>81.30</td>\n",
       "      <td>28.80</td>\n",
       "      <td>3.6</td>\n",
       "      <td>6.77</td>\n",
       "      <td>12.5</td>\n",
       "      <td>5.8069</td>\n",
       "    </tr>\n",
       "    <tr>\n",
       "      <th>U.S.A</th>\n",
       "      <td>78.51</td>\n",
       "      <td>29.85</td>\n",
       "      <td>6.3</td>\n",
       "      <td>4.72</td>\n",
       "      <td>13.7</td>\n",
       "      <td>7.1357</td>\n",
       "    </tr>\n",
       "    <tr>\n",
       "      <th>Ireland</th>\n",
       "      <td>80.15</td>\n",
       "      <td>27.23</td>\n",
       "      <td>3.5</td>\n",
       "      <td>0.60</td>\n",
       "      <td>11.5</td>\n",
       "      <td>7.5360</td>\n",
       "    </tr>\n",
       "    <tr>\n",
       "      <th>U.K.</th>\n",
       "      <td>80.09</td>\n",
       "      <td>28.49</td>\n",
       "      <td>4.4</td>\n",
       "      <td>2.59</td>\n",
       "      <td>13.0</td>\n",
       "      <td>7.7751</td>\n",
       "    </tr>\n",
       "    <tr>\n",
       "      <th>Germany</th>\n",
       "      <td>80.24</td>\n",
       "      <td>22.07</td>\n",
       "      <td>3.5</td>\n",
       "      <td>1.31</td>\n",
       "      <td>12.0</td>\n",
       "      <td>8.0461</td>\n",
       "    </tr>\n",
       "    <tr>\n",
       "      <th>Canada</th>\n",
       "      <td>80.99</td>\n",
       "      <td>24.79</td>\n",
       "      <td>4.9</td>\n",
       "      <td>1.42</td>\n",
       "      <td>14.2</td>\n",
       "      <td>8.6725</td>\n",
       "    </tr>\n",
       "    <tr>\n",
       "      <th>Australia</th>\n",
       "      <td>82.09</td>\n",
       "      <td>25.40</td>\n",
       "      <td>4.2</td>\n",
       "      <td>1.86</td>\n",
       "      <td>11.5</td>\n",
       "      <td>8.8442</td>\n",
       "    </tr>\n",
       "    <tr>\n",
       "      <th>Sweden</th>\n",
       "      <td>81.43</td>\n",
       "      <td>22.18</td>\n",
       "      <td>2.4</td>\n",
       "      <td>1.27</td>\n",
       "      <td>12.8</td>\n",
       "      <td>9.2985</td>\n",
       "    </tr>\n",
       "    <tr>\n",
       "      <th>New Zealand</th>\n",
       "      <td>80.67</td>\n",
       "      <td>27.81</td>\n",
       "      <td>4.9</td>\n",
       "      <td>1.13</td>\n",
       "      <td>12.3</td>\n",
       "      <td>9.4627</td>\n",
       "    </tr>\n",
       "  </tbody>\n",
       "</table>\n",
       "</div>"
      ],
      "text/plain": [
       "             Life Exp.  Top-10 Income  Infant Mort.  Mil. Spend  School Years  \\\n",
       "Country ID                                                                      \n",
       "Afghanistan      59.61          23.21          74.3        4.44           0.4   \n",
       "Haiti            45.00          47.67          73.1        0.09           3.4   \n",
       "Nigeria          51.30          38.23          82.6        1.07           4.1   \n",
       "Egypt            70.48          26.58          19.6        1.86           5.3   \n",
       "Argentina        75.77          32.30          13.3        0.76          10.1   \n",
       "China            74.87          29.98          13.7        1.95           6.4   \n",
       "Brazil           73.12          42.93          14.5        1.43           7.2   \n",
       "Israel           81.30          28.80           3.6        6.77          12.5   \n",
       "U.S.A            78.51          29.85           6.3        4.72          13.7   \n",
       "Ireland          80.15          27.23           3.5        0.60          11.5   \n",
       "U.K.             80.09          28.49           4.4        2.59          13.0   \n",
       "Germany          80.24          22.07           3.5        1.31          12.0   \n",
       "Canada           80.99          24.79           4.9        1.42          14.2   \n",
       "Australia        82.09          25.40           4.2        1.86          11.5   \n",
       "Sweden           81.43          22.18           2.4        1.27          12.8   \n",
       "New Zealand      80.67          27.81           4.9        1.13          12.3   \n",
       "\n",
       "                CPI  \n",
       "Country ID           \n",
       "Afghanistan  1.5171  \n",
       "Haiti        1.7999  \n",
       "Nigeria      2.4493  \n",
       "Egypt        2.8622  \n",
       "Argentina    2.9961  \n",
       "China        3.6356  \n",
       "Brazil       3.7741  \n",
       "Israel       5.8069  \n",
       "U.S.A        7.1357  \n",
       "Ireland      7.5360  \n",
       "U.K.         7.7751  \n",
       "Germany      8.0461  \n",
       "Canada       8.6725  \n",
       "Australia    8.8442  \n",
       "Sweden       9.2985  \n",
       "New Zealand  9.4627  "
      ]
     },
     "execution_count": 29,
     "metadata": {},
     "output_type": "execute_result"
    }
   ],
   "source": [
    "df = pd.read_csv(\"../data/countries.csv\",index_col=\"Country ID\")\n",
    "df"
   ]
  },
  {
   "cell_type": "markdown",
   "metadata": {},
   "source": [
    "#### Data Frame Statistics ####\n",
    "Again we can use the describe() function to get a basic summary of the values in a Data Frame, which is presented as a table with statistics for each columns:"
   ]
  },
  {
   "cell_type": "code",
   "execution_count": 30,
   "metadata": {
    "collapsed": false
   },
   "outputs": [
    {
     "data": {
      "text/html": [
       "<div>\n",
       "<table border=\"1\" class=\"dataframe\">\n",
       "  <thead>\n",
       "    <tr style=\"text-align: right;\">\n",
       "      <th></th>\n",
       "      <th>Life Exp.</th>\n",
       "      <th>Top-10 Income</th>\n",
       "      <th>Infant Mort.</th>\n",
       "      <th>Mil. Spend</th>\n",
       "      <th>School Years</th>\n",
       "      <th>CPI</th>\n",
       "    </tr>\n",
       "  </thead>\n",
       "  <tbody>\n",
       "    <tr>\n",
       "      <th>count</th>\n",
       "      <td>16.000000</td>\n",
       "      <td>16.000000</td>\n",
       "      <td>16.000000</td>\n",
       "      <td>16.000000</td>\n",
       "      <td>16.00000</td>\n",
       "      <td>16.000000</td>\n",
       "    </tr>\n",
       "    <tr>\n",
       "      <th>mean</th>\n",
       "      <td>73.476250</td>\n",
       "      <td>29.845000</td>\n",
       "      <td>20.550000</td>\n",
       "      <td>2.079375</td>\n",
       "      <td>9.40000</td>\n",
       "      <td>5.725750</td>\n",
       "    </tr>\n",
       "    <tr>\n",
       "      <th>std</th>\n",
       "      <td>11.481893</td>\n",
       "      <td>7.295689</td>\n",
       "      <td>28.351296</td>\n",
       "      <td>1.766950</td>\n",
       "      <td>4.28859</td>\n",
       "      <td>2.917551</td>\n",
       "    </tr>\n",
       "    <tr>\n",
       "      <th>min</th>\n",
       "      <td>45.000000</td>\n",
       "      <td>22.070000</td>\n",
       "      <td>2.400000</td>\n",
       "      <td>0.090000</td>\n",
       "      <td>0.40000</td>\n",
       "      <td>1.517100</td>\n",
       "    </tr>\n",
       "    <tr>\n",
       "      <th>25%</th>\n",
       "      <td>72.460000</td>\n",
       "      <td>25.247500</td>\n",
       "      <td>4.050000</td>\n",
       "      <td>1.115000</td>\n",
       "      <td>6.12500</td>\n",
       "      <td>2.962625</td>\n",
       "    </tr>\n",
       "    <tr>\n",
       "      <th>50%</th>\n",
       "      <td>79.300000</td>\n",
       "      <td>28.150000</td>\n",
       "      <td>5.600000</td>\n",
       "      <td>1.425000</td>\n",
       "      <td>11.50000</td>\n",
       "      <td>6.471300</td>\n",
       "    </tr>\n",
       "    <tr>\n",
       "      <th>75%</th>\n",
       "      <td>80.750000</td>\n",
       "      <td>30.560000</td>\n",
       "      <td>15.775000</td>\n",
       "      <td>2.110000</td>\n",
       "      <td>12.57500</td>\n",
       "      <td>8.202700</td>\n",
       "    </tr>\n",
       "    <tr>\n",
       "      <th>max</th>\n",
       "      <td>82.090000</td>\n",
       "      <td>47.670000</td>\n",
       "      <td>82.600000</td>\n",
       "      <td>6.770000</td>\n",
       "      <td>14.20000</td>\n",
       "      <td>9.462700</td>\n",
       "    </tr>\n",
       "  </tbody>\n",
       "</table>\n",
       "</div>"
      ],
      "text/plain": [
       "       Life Exp.  Top-10 Income  Infant Mort.  Mil. Spend  School Years  \\\n",
       "count  16.000000      16.000000     16.000000   16.000000      16.00000   \n",
       "mean   73.476250      29.845000     20.550000    2.079375       9.40000   \n",
       "std    11.481893       7.295689     28.351296    1.766950       4.28859   \n",
       "min    45.000000      22.070000      2.400000    0.090000       0.40000   \n",
       "25%    72.460000      25.247500      4.050000    1.115000       6.12500   \n",
       "50%    79.300000      28.150000      5.600000    1.425000      11.50000   \n",
       "75%    80.750000      30.560000     15.775000    2.110000      12.57500   \n",
       "max    82.090000      47.670000     82.600000    6.770000      14.20000   \n",
       "\n",
       "             CPI  \n",
       "count  16.000000  \n",
       "mean    5.725750  \n",
       "std     2.917551  \n",
       "min     1.517100  \n",
       "25%     2.962625  \n",
       "50%     6.471300  \n",
       "75%     8.202700  \n",
       "max     9.462700  "
      ]
     },
     "execution_count": 30,
     "metadata": {},
     "output_type": "execute_result"
    }
   ],
   "source": [
    "df.describe()"
   ]
  },
  {
   "cell_type": "markdown",
   "metadata": {},
   "source": [
    "We can also get individual statistics for each column:"
   ]
  },
  {
   "cell_type": "code",
   "execution_count": 31,
   "metadata": {
    "collapsed": false
   },
   "outputs": [
    {
     "data": {
      "text/plain": [
       "Life Exp.        73.476250\n",
       "Top-10 Income    29.845000\n",
       "Infant Mort.     20.550000\n",
       "Mil. Spend        2.079375\n",
       "School Years      9.400000\n",
       "CPI               5.725750\n",
       "dtype: float64"
      ]
     },
     "execution_count": 31,
     "metadata": {},
     "output_type": "execute_result"
    }
   ],
   "source": [
    "df.mean()"
   ]
  },
  {
   "cell_type": "code",
   "execution_count": 32,
   "metadata": {
    "collapsed": false
   },
   "outputs": [
    {
     "data": {
      "text/plain": [
       "Life Exp.        79.3000\n",
       "Top-10 Income    28.1500\n",
       "Infant Mort.      5.6000\n",
       "Mil. Spend        1.4250\n",
       "School Years     11.5000\n",
       "CPI               6.4713\n",
       "dtype: float64"
      ]
     },
     "execution_count": 32,
     "metadata": {},
     "output_type": "execute_result"
    }
   ],
   "source": [
    "df.median()"
   ]
  },
  {
   "cell_type": "code",
   "execution_count": 33,
   "metadata": {
    "collapsed": false
   },
   "outputs": [
    {
     "data": {
      "text/plain": [
       "Life Exp.        1175.620\n",
       "Top-10 Income     477.520\n",
       "Infant Mort.      328.800\n",
       "Mil. Spend         33.270\n",
       "School Years      150.400\n",
       "CPI                91.612\n",
       "dtype: float64"
      ]
     },
     "execution_count": 33,
     "metadata": {},
     "output_type": "execute_result"
    }
   ],
   "source": [
    "df.sum()"
   ]
  },
  {
   "cell_type": "code",
   "execution_count": 34,
   "metadata": {
    "collapsed": false
   },
   "outputs": [
    {
     "data": {
      "text/plain": [
       "Life Exp.        11.481893\n",
       "Top-10 Income     7.295689\n",
       "Infant Mort.     28.351296\n",
       "Mil. Spend        1.766950\n",
       "School Years      4.288590\n",
       "CPI               2.917551\n",
       "dtype: float64"
      ]
     },
     "execution_count": 34,
     "metadata": {},
     "output_type": "execute_result"
    }
   ],
   "source": [
    "df.std()"
   ]
  },
  {
   "cell_type": "markdown",
   "metadata": {},
   "source": [
    "#### Accessing Columns in Data Frames\n",
    "Columns in a Data Frame can be accessed using the name of the column to give a single column Series. "
   ]
  },
  {
   "cell_type": "code",
   "execution_count": 35,
   "metadata": {
    "collapsed": false
   },
   "outputs": [
    {
     "data": {
      "text/plain": [
       "Country ID\n",
       "Afghanistan     0.4\n",
       "Haiti           3.4\n",
       "Nigeria         4.1\n",
       "Egypt           5.3\n",
       "Argentina      10.1\n",
       "China           6.4\n",
       "Brazil          7.2\n",
       "Israel         12.5\n",
       "U.S.A          13.7\n",
       "Ireland        11.5\n",
       "U.K.           13.0\n",
       "Germany        12.0\n",
       "Canada         14.2\n",
       "Australia      11.5\n",
       "Sweden         12.8\n",
       "New Zealand    12.3\n",
       "Name: School Years, dtype: float64"
      ]
     },
     "execution_count": 35,
     "metadata": {},
     "output_type": "execute_result"
    }
   ],
   "source": [
    "df[\"School Years\"]"
   ]
  },
  {
   "cell_type": "markdown",
   "metadata": {},
   "source": [
    "Multiple columns can be selected by passing a list of column names. The result is a new Data Frame, where the row index values are also copied."
   ]
  },
  {
   "cell_type": "code",
   "execution_count": 36,
   "metadata": {
    "collapsed": false
   },
   "outputs": [
    {
     "data": {
      "text/html": [
       "<div>\n",
       "<table border=\"1\" class=\"dataframe\">\n",
       "  <thead>\n",
       "    <tr style=\"text-align: right;\">\n",
       "      <th></th>\n",
       "      <th>CPI</th>\n",
       "      <th>School Years</th>\n",
       "    </tr>\n",
       "    <tr>\n",
       "      <th>Country ID</th>\n",
       "      <th></th>\n",
       "      <th></th>\n",
       "    </tr>\n",
       "  </thead>\n",
       "  <tbody>\n",
       "    <tr>\n",
       "      <th>Afghanistan</th>\n",
       "      <td>1.5171</td>\n",
       "      <td>0.4</td>\n",
       "    </tr>\n",
       "    <tr>\n",
       "      <th>Haiti</th>\n",
       "      <td>1.7999</td>\n",
       "      <td>3.4</td>\n",
       "    </tr>\n",
       "    <tr>\n",
       "      <th>Nigeria</th>\n",
       "      <td>2.4493</td>\n",
       "      <td>4.1</td>\n",
       "    </tr>\n",
       "    <tr>\n",
       "      <th>Egypt</th>\n",
       "      <td>2.8622</td>\n",
       "      <td>5.3</td>\n",
       "    </tr>\n",
       "    <tr>\n",
       "      <th>Argentina</th>\n",
       "      <td>2.9961</td>\n",
       "      <td>10.1</td>\n",
       "    </tr>\n",
       "    <tr>\n",
       "      <th>China</th>\n",
       "      <td>3.6356</td>\n",
       "      <td>6.4</td>\n",
       "    </tr>\n",
       "    <tr>\n",
       "      <th>Brazil</th>\n",
       "      <td>3.7741</td>\n",
       "      <td>7.2</td>\n",
       "    </tr>\n",
       "    <tr>\n",
       "      <th>Israel</th>\n",
       "      <td>5.8069</td>\n",
       "      <td>12.5</td>\n",
       "    </tr>\n",
       "    <tr>\n",
       "      <th>U.S.A</th>\n",
       "      <td>7.1357</td>\n",
       "      <td>13.7</td>\n",
       "    </tr>\n",
       "    <tr>\n",
       "      <th>Ireland</th>\n",
       "      <td>7.5360</td>\n",
       "      <td>11.5</td>\n",
       "    </tr>\n",
       "    <tr>\n",
       "      <th>U.K.</th>\n",
       "      <td>7.7751</td>\n",
       "      <td>13.0</td>\n",
       "    </tr>\n",
       "    <tr>\n",
       "      <th>Germany</th>\n",
       "      <td>8.0461</td>\n",
       "      <td>12.0</td>\n",
       "    </tr>\n",
       "    <tr>\n",
       "      <th>Canada</th>\n",
       "      <td>8.6725</td>\n",
       "      <td>14.2</td>\n",
       "    </tr>\n",
       "    <tr>\n",
       "      <th>Australia</th>\n",
       "      <td>8.8442</td>\n",
       "      <td>11.5</td>\n",
       "    </tr>\n",
       "    <tr>\n",
       "      <th>Sweden</th>\n",
       "      <td>9.2985</td>\n",
       "      <td>12.8</td>\n",
       "    </tr>\n",
       "    <tr>\n",
       "      <th>New Zealand</th>\n",
       "      <td>9.4627</td>\n",
       "      <td>12.3</td>\n",
       "    </tr>\n",
       "  </tbody>\n",
       "</table>\n",
       "</div>"
      ],
      "text/plain": [
       "                CPI  School Years\n",
       "Country ID                       \n",
       "Afghanistan  1.5171           0.4\n",
       "Haiti        1.7999           3.4\n",
       "Nigeria      2.4493           4.1\n",
       "Egypt        2.8622           5.3\n",
       "Argentina    2.9961          10.1\n",
       "China        3.6356           6.4\n",
       "Brazil       3.7741           7.2\n",
       "Israel       5.8069          12.5\n",
       "U.S.A        7.1357          13.7\n",
       "Ireland      7.5360          11.5\n",
       "U.K.         7.7751          13.0\n",
       "Germany      8.0461          12.0\n",
       "Canada       8.6725          14.2\n",
       "Australia    8.8442          11.5\n",
       "Sweden       9.2985          12.8\n",
       "New Zealand  9.4627          12.3"
      ]
     },
     "execution_count": 36,
     "metadata": {},
     "output_type": "execute_result"
    }
   ],
   "source": [
    "df[[\"CPI\",\"School Years\"]]"
   ]
  },
  {
   "cell_type": "markdown",
   "metadata": {},
   "source": [
    "We can also use numeric positions to access individual columns, using slicing:"
   ]
  },
  {
   "cell_type": "code",
   "execution_count": 37,
   "metadata": {
    "collapsed": false
   },
   "outputs": [
    {
     "data": {
      "text/html": [
       "<div>\n",
       "<table border=\"1\" class=\"dataframe\">\n",
       "  <thead>\n",
       "    <tr style=\"text-align: right;\">\n",
       "      <th></th>\n",
       "      <th>Life Exp.</th>\n",
       "      <th>Top-10 Income</th>\n",
       "    </tr>\n",
       "    <tr>\n",
       "      <th>Country ID</th>\n",
       "      <th></th>\n",
       "      <th></th>\n",
       "    </tr>\n",
       "  </thead>\n",
       "  <tbody>\n",
       "    <tr>\n",
       "      <th>Afghanistan</th>\n",
       "      <td>59.61</td>\n",
       "      <td>23.21</td>\n",
       "    </tr>\n",
       "    <tr>\n",
       "      <th>Haiti</th>\n",
       "      <td>45.00</td>\n",
       "      <td>47.67</td>\n",
       "    </tr>\n",
       "    <tr>\n",
       "      <th>Nigeria</th>\n",
       "      <td>51.30</td>\n",
       "      <td>38.23</td>\n",
       "    </tr>\n",
       "    <tr>\n",
       "      <th>Egypt</th>\n",
       "      <td>70.48</td>\n",
       "      <td>26.58</td>\n",
       "    </tr>\n",
       "    <tr>\n",
       "      <th>Argentina</th>\n",
       "      <td>75.77</td>\n",
       "      <td>32.30</td>\n",
       "    </tr>\n",
       "    <tr>\n",
       "      <th>China</th>\n",
       "      <td>74.87</td>\n",
       "      <td>29.98</td>\n",
       "    </tr>\n",
       "    <tr>\n",
       "      <th>Brazil</th>\n",
       "      <td>73.12</td>\n",
       "      <td>42.93</td>\n",
       "    </tr>\n",
       "    <tr>\n",
       "      <th>Israel</th>\n",
       "      <td>81.30</td>\n",
       "      <td>28.80</td>\n",
       "    </tr>\n",
       "    <tr>\n",
       "      <th>U.S.A</th>\n",
       "      <td>78.51</td>\n",
       "      <td>29.85</td>\n",
       "    </tr>\n",
       "    <tr>\n",
       "      <th>Ireland</th>\n",
       "      <td>80.15</td>\n",
       "      <td>27.23</td>\n",
       "    </tr>\n",
       "    <tr>\n",
       "      <th>U.K.</th>\n",
       "      <td>80.09</td>\n",
       "      <td>28.49</td>\n",
       "    </tr>\n",
       "    <tr>\n",
       "      <th>Germany</th>\n",
       "      <td>80.24</td>\n",
       "      <td>22.07</td>\n",
       "    </tr>\n",
       "    <tr>\n",
       "      <th>Canada</th>\n",
       "      <td>80.99</td>\n",
       "      <td>24.79</td>\n",
       "    </tr>\n",
       "    <tr>\n",
       "      <th>Australia</th>\n",
       "      <td>82.09</td>\n",
       "      <td>25.40</td>\n",
       "    </tr>\n",
       "    <tr>\n",
       "      <th>Sweden</th>\n",
       "      <td>81.43</td>\n",
       "      <td>22.18</td>\n",
       "    </tr>\n",
       "    <tr>\n",
       "      <th>New Zealand</th>\n",
       "      <td>80.67</td>\n",
       "      <td>27.81</td>\n",
       "    </tr>\n",
       "  </tbody>\n",
       "</table>\n",
       "</div>"
      ],
      "text/plain": [
       "             Life Exp.  Top-10 Income\n",
       "Country ID                           \n",
       "Afghanistan      59.61          23.21\n",
       "Haiti            45.00          47.67\n",
       "Nigeria          51.30          38.23\n",
       "Egypt            70.48          26.58\n",
       "Argentina        75.77          32.30\n",
       "China            74.87          29.98\n",
       "Brazil           73.12          42.93\n",
       "Israel           81.30          28.80\n",
       "U.S.A            78.51          29.85\n",
       "Ireland          80.15          27.23\n",
       "U.K.             80.09          28.49\n",
       "Germany          80.24          22.07\n",
       "Canada           80.99          24.79\n",
       "Australia        82.09          25.40\n",
       "Sweden           81.43          22.18\n",
       "New Zealand      80.67          27.81"
      ]
     },
     "execution_count": 37,
     "metadata": {},
     "output_type": "execute_result"
    }
   ],
   "source": [
    "# Return all rows, and first two columns\n",
    "df.iloc[:,0:2]"
   ]
  },
  {
   "cell_type": "markdown",
   "metadata": {},
   "source": [
    "#### Accessing Rows in Data Frames\n",
    "We can also access rows of the Data Frame in different ways. We can use numeric slicing to access ranges of individual rows:"
   ]
  },
  {
   "cell_type": "code",
   "execution_count": 38,
   "metadata": {
    "collapsed": false
   },
   "outputs": [
    {
     "data": {
      "text/html": [
       "<div>\n",
       "<table border=\"1\" class=\"dataframe\">\n",
       "  <thead>\n",
       "    <tr style=\"text-align: right;\">\n",
       "      <th></th>\n",
       "      <th>Life Exp.</th>\n",
       "      <th>Top-10 Income</th>\n",
       "      <th>Infant Mort.</th>\n",
       "      <th>Mil. Spend</th>\n",
       "      <th>School Years</th>\n",
       "      <th>CPI</th>\n",
       "    </tr>\n",
       "    <tr>\n",
       "      <th>Country ID</th>\n",
       "      <th></th>\n",
       "      <th></th>\n",
       "      <th></th>\n",
       "      <th></th>\n",
       "      <th></th>\n",
       "      <th></th>\n",
       "    </tr>\n",
       "  </thead>\n",
       "  <tbody>\n",
       "    <tr>\n",
       "      <th>Afghanistan</th>\n",
       "      <td>59.61</td>\n",
       "      <td>23.21</td>\n",
       "      <td>74.3</td>\n",
       "      <td>4.44</td>\n",
       "      <td>0.4</td>\n",
       "      <td>1.5171</td>\n",
       "    </tr>\n",
       "    <tr>\n",
       "      <th>Haiti</th>\n",
       "      <td>45.00</td>\n",
       "      <td>47.67</td>\n",
       "      <td>73.1</td>\n",
       "      <td>0.09</td>\n",
       "      <td>3.4</td>\n",
       "      <td>1.7999</td>\n",
       "    </tr>\n",
       "  </tbody>\n",
       "</table>\n",
       "</div>"
      ],
      "text/plain": [
       "             Life Exp.  Top-10 Income  Infant Mort.  Mil. Spend  School Years  \\\n",
       "Country ID                                                                      \n",
       "Afghanistan      59.61          23.21          74.3        4.44           0.4   \n",
       "Haiti            45.00          47.67          73.1        0.09           3.4   \n",
       "\n",
       "                CPI  \n",
       "Country ID           \n",
       "Afghanistan  1.5171  \n",
       "Haiti        1.7999  "
      ]
     },
     "execution_count": 38,
     "metadata": {},
     "output_type": "execute_result"
    }
   ],
   "source": [
    "df[0:2] # access first two rows"
   ]
  },
  {
   "cell_type": "markdown",
   "metadata": {},
   "source": [
    "We can access a single row of a Data Frame as a Series, by using *iloc* and the row position:"
   ]
  },
  {
   "cell_type": "code",
   "execution_count": 39,
   "metadata": {
    "collapsed": false
   },
   "outputs": [
    {
     "data": {
      "text/plain": [
       "Life Exp.        59.6100\n",
       "Top-10 Income    23.2100\n",
       "Infant Mort.     74.3000\n",
       "Mil. Spend        4.4400\n",
       "School Years      0.4000\n",
       "CPI               1.5171\n",
       "Name: Afghanistan, dtype: float64"
      ]
     },
     "execution_count": 39,
     "metadata": {},
     "output_type": "execute_result"
    }
   ],
   "source": [
    "df.iloc[0]   # get first row"
   ]
  },
  {
   "cell_type": "markdown",
   "metadata": {},
   "source": [
    "We can access a single row of a Data Frame, by using *loc* and the index of the row. Again this returns a Series:"
   ]
  },
  {
   "cell_type": "code",
   "execution_count": 41,
   "metadata": {
    "collapsed": false
   },
   "outputs": [
    {
     "data": {
      "text/plain": [
       "Life Exp.        81.4300\n",
       "Top-10 Income    22.1800\n",
       "Infant Mort.      2.4000\n",
       "Mil. Spend        1.2700\n",
       "School Years     12.8000\n",
       "CPI               9.2985\n",
       "Name: Sweden, dtype: float64"
      ]
     },
     "execution_count": 41,
     "metadata": {},
     "output_type": "execute_result"
    }
   ],
   "source": [
    "df.loc[\"Sweden\"]"
   ]
  },
  {
   "cell_type": "code",
   "execution_count": 42,
   "metadata": {
    "collapsed": false
   },
   "outputs": [
    {
     "data": {
      "text/plain": [
       "Life Exp.        75.7700\n",
       "Top-10 Income    32.3000\n",
       "Infant Mort.     13.3000\n",
       "Mil. Spend        0.7600\n",
       "School Years     10.1000\n",
       "CPI               2.9961\n",
       "Name: Argentina, dtype: float64"
      ]
     },
     "execution_count": 42,
     "metadata": {},
     "output_type": "execute_result"
    }
   ],
   "source": [
    "df.loc[\"Argentina\"]"
   ]
  },
  {
   "cell_type": "markdown",
   "metadata": {},
   "source": [
    "#### Accessing Individual Values in Data Frames\n",
    "There are a variety of different ways to access and change the individual values in a Data Frame, using combinations of an index and/or position."
   ]
  },
  {
   "cell_type": "code",
   "execution_count": 43,
   "metadata": {
    "collapsed": false
   },
   "outputs": [
    {
     "data": {
      "text/plain": [
       "1.95"
      ]
     },
     "execution_count": 43,
     "metadata": {},
     "output_type": "execute_result"
    }
   ],
   "source": [
    "# Access by column index, then row index\n",
    "df[\"Mil. Spend\"][\"China\"]"
   ]
  },
  {
   "cell_type": "code",
   "execution_count": 44,
   "metadata": {
    "collapsed": false
   },
   "outputs": [
    {
     "data": {
      "text/plain": [
       "11.5"
      ]
     },
     "execution_count": 44,
     "metadata": {},
     "output_type": "execute_result"
    }
   ],
   "source": [
    "# Access by row index, then column index\n",
    "df.loc[\"Ireland\"][\"School Years\"]"
   ]
  },
  {
   "cell_type": "code",
   "execution_count": 45,
   "metadata": {
    "collapsed": false
   },
   "outputs": [
    {
     "data": {
      "text/plain": [
       "70.480000000000004"
      ]
     },
     "execution_count": 45,
     "metadata": {},
     "output_type": "execute_result"
    }
   ],
   "source": [
    "# Access by row position, then column index\n",
    "df.iloc[3][\"Life Exp.\"]"
   ]
  },
  {
   "cell_type": "code",
   "execution_count": 46,
   "metadata": {
    "collapsed": false
   },
   "outputs": [
    {
     "data": {
      "text/plain": [
       "5.2999999999999998"
      ]
     },
     "execution_count": 46,
     "metadata": {},
     "output_type": "execute_result"
    }
   ],
   "source": [
    "# Access by row position, then column position\n",
    "df.iloc[3][4]"
   ]
  },
  {
   "cell_type": "markdown",
   "metadata": {},
   "source": [
    "We can also use these functions to modify values in a Data Frame. For example:"
   ]
  },
  {
   "cell_type": "code",
   "execution_count": 47,
   "metadata": {
    "collapsed": false
   },
   "outputs": [
    {
     "data": {
      "text/plain": [
       "Life Exp.        81.4300\n",
       "Top-10 Income    22.1800\n",
       "Infant Mort.      2.4000\n",
       "Mil. Spend        1.2700\n",
       "School Years     12.8000\n",
       "CPI               9.2985\n",
       "Name: Sweden, dtype: float64"
      ]
     },
     "execution_count": 47,
     "metadata": {},
     "output_type": "execute_result"
    }
   ],
   "source": [
    "df.loc[\"Sweden\"]"
   ]
  },
  {
   "cell_type": "code",
   "execution_count": 50,
   "metadata": {
    "collapsed": true
   },
   "outputs": [],
   "source": [
    "# Change an individual value\n",
    "df.loc[\"Sweden\"][\"Life Exp.\"] = 85.1"
   ]
  },
  {
   "cell_type": "code",
   "execution_count": 49,
   "metadata": {
    "collapsed": false
   },
   "outputs": [
    {
     "data": {
      "text/plain": [
       "Life Exp.        85.1000\n",
       "Top-10 Income    22.1800\n",
       "Infant Mort.      2.4000\n",
       "Mil. Spend        1.2700\n",
       "School Years     12.8000\n",
       "CPI               9.2985\n",
       "Name: Sweden, dtype: float64"
      ]
     },
     "execution_count": 49,
     "metadata": {},
     "output_type": "execute_result"
    }
   ],
   "source": [
    "df.loc[\"Sweden\"]"
   ]
  },
  {
   "cell_type": "code",
   "execution_count": null,
   "metadata": {
    "collapsed": true
   },
   "outputs": [],
   "source": []
  }
 ],
 "metadata": {
  "kernelspec": {
   "display_name": "Python [conda root]",
   "language": "python",
   "name": "conda-root-py"
  },
  "language_info": {
   "codemirror_mode": {
    "name": "ipython",
    "version": 2
   },
   "file_extension": ".py",
   "mimetype": "text/x-python",
   "name": "python",
   "nbconvert_exporter": "python",
   "pygments_lexer": "ipython2",
   "version": "2.7.12"
  }
 },
 "nbformat": 4,
 "nbformat_minor": 0
}
