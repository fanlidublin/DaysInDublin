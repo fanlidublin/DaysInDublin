{
 "cells": [
  {
   "cell_type": "markdown",
   "metadata": {},
   "source": [
    "## Visualisation With Matplotlib"
   ]
  },
  {
   "cell_type": "markdown",
   "metadata": {},
   "source": [
    "Matplotlib is the standard Python plotting library. It provides a variety of plots and visualisations. To use it in an IPython notebook, we firstly set up our notebook as follows:"
   ]
  },
  {
   "cell_type": "code",
   "execution_count": null,
   "metadata": {},
   "outputs": [],
   "source": [
    "import matplotlib\n",
    "import matplotlib.pyplot as plt\n",
    "# need to tell IPython to| display plots within the notebook\n",
    "%matplotlib inline\n",
    "# this is not strictly necessary, it just improves the style of the Matplotlib plots\n",
    "matplotlib.style.use(\"ggplot\")"
   ]
  },
  {
   "cell_type": "markdown",
   "metadata": {},
   "source": [
    "#### Matplotlib Basics\n",
    "Matplotlib visualisations consists of a figure, which contains one or more plots. A simple plot can be used to show the values in a standard Python list. Here the values are plotted on the y-axis. Matplotlib assumes this is a sequence and automatically assigns indices to the **x-axis**."
   ]
  },
  {
   "cell_type": "code",
   "execution_count": null,
   "metadata": {},
   "outputs": [],
   "source": [
    "# create a new figure\n",
    "plt.figure()\n",
    "# set up the plot\n",
    "plt.plot([1,2,3,5,8])\n",
    "plt.ylabel(\"My Numbers\")\n",
    "plt.show()"
   ]
  },
  {
   "cell_type": "markdown",
   "metadata": {},
   "source": [
    "####  Scatter Plots\n",
    "Matplotlib can also be used in conjunction with NumPy arrays to visualise numeric data. Let's create a scatter plot, using NumPy arrays for the X and Y values."
   ]
  },
  {
   "cell_type": "code",
   "execution_count": null,
   "metadata": {},
   "outputs": [],
   "source": [
    "import numpy as np\n",
    "# this is our data\n",
    "xvalues = np.array([ 1, 5, 8, 3, 7 ])\n",
    "yvalues = np.array([ 0.4, 0.25, 0.65, 0.7, 0.2 ])\n",
    "# create the figure\n",
    "plt.figure()\n",
    "# create a scatter plot\n",
    "plt.scatter(xvalues,yvalues)\n",
    "# customise the range of the axes: values are [xmin xmax ymin ymax]\n",
    "plt.axis([0,10,0,1])\n",
    "# add labels to the axes\n",
    "plt.xlabel(\"My X Numbers\")\n",
    "plt.ylabel(\"My Y Numbers\")"
   ]
  },
  {
   "cell_type": "markdown",
   "metadata": {},
   "source": [
    "Let's try another scatter plot, based on randomly generated NumPy data:"
   ]
  },
  {
   "cell_type": "code",
   "execution_count": null,
   "metadata": {},
   "outputs": [],
   "source": [
    "x = np.random.random(15) * 10\n",
    "y = np.arange(15) + np.random.random(15) + 5 \n",
    "print(x)\n",
    "print(y)"
   ]
  },
  {
   "cell_type": "markdown",
   "metadata": {},
   "source": [
    "We create a new figure, then pass the X and Y values to the function *plt.scatter()*:"
   ]
  },
  {
   "cell_type": "code",
   "execution_count": null,
   "metadata": {},
   "outputs": [],
   "source": [
    "# set up the new figure\n",
    "plt.figure()\n",
    "# set up the scatter plot\n",
    "plt.scatter(x, y, c=\"green\", s=100, marker=\"*\") # s is for size\n",
    "# plt.axis([0,10,0,1])\n",
    "# customise it\n",
    "plt.xlabel(\"X Scores\")\n",
    "plt.ylabel(\"Y Scores\")"
   ]
  },
  {
   "cell_type": "markdown",
   "metadata": {},
   "source": [
    "#### Bar Charts\n",
    "Next let's create a NumPy array, and a corresponding set of labels."
   ]
  },
  {
   "cell_type": "code",
   "execution_count": null,
   "metadata": {},
   "outputs": [],
   "source": [
    "import numpy as np\n",
    "values = np.array( [ 5, 11, 14, 6 ] )\n",
    "names = [ \"Alice\", \"Paul\", \"Susan\", \"Bob\" ]"
   ]
  },
  {
   "cell_type": "code",
   "execution_count": null,
   "metadata": {},
   "outputs": [],
   "source": [
    "# these are the corresponding positions on the y-axis, for plotting purposes\n",
    "y_pos = np.arange(len(names)) # np.arrange(4)\n",
    "y_pos"
   ]
  },
  {
   "cell_type": "markdown",
   "metadata": {},
   "source": [
    "Now we can display this as a bar chart:"
   ]
  },
  {
   "cell_type": "code",
   "execution_count": null,
   "metadata": {},
   "outputs": [],
   "source": [
    "# create a new figure\n",
    "plt.figure()\n",
    "# set up the bar chart\n",
    "plt.barh(y_pos, values, align='center')\n",
    "plt.yticks(y_pos, names)\n",
    "plt.xlabel(\"Points\")\n",
    "plt.title(\"My Chart\")"
   ]
  },
  {
   "cell_type": "markdown",
   "metadata": {},
   "source": [
    "We can show multiple plots on the same figure:"
   ]
  },
  {
   "cell_type": "code",
   "execution_count": null,
   "metadata": {},
   "outputs": [],
   "source": [
    "# set up the new figure\n",
    "plt.figure()\n",
    "# generate and plot 4 groups of points\n",
    "for color in [\"red\",\"green\",\"blue\",\"orange\"]:\n",
    "    # generate 8 random points\n",
    "    x = np.random.random(8) \n",
    "    y = np.random.random(8)\n",
    "    plt.scatter(x, y, c=color, s=50, label=color)"
   ]
  },
  {
   "cell_type": "markdown",
   "metadata": {},
   "source": [
    "#### Pie Charts\n",
    "Matplotlib can also produce pie charts."
   ]
  },
  {
   "cell_type": "code",
   "execution_count": null,
   "metadata": {},
   "outputs": [],
   "source": [
    "# some sample data\n",
    "counts = np.array( [18, 23, 7] )\n",
    "parties = [\"Republicans\", \"Democrats\", \"Others\"]"
   ]
  },
  {
   "cell_type": "code",
   "execution_count": null,
   "metadata": {},
   "outputs": [],
   "source": [
    "# set up the new figure, specifying the size of the figure\n",
    "plt.figure(figsize=(4, 4))\n",
    "# create the pie chart on the sample data\n",
    "p = plt.pie(counts, labels=parties, colors=[\"red\",\"blue\",\"grey\"], autopct=\"%.1f%%\")\n",
    "# pie = p = plt.pie(counts, labels=parties, colors=[\"red\",\"blue\",\"grey\"], autopct=\"%d\")"
   ]
  }
 ],
 "metadata": {
  "kernelspec": {
   "display_name": "Python 3",
   "language": "python",
   "name": "python3"
  },
  "language_info": {
   "codemirror_mode": {
    "name": "ipython",
    "version": 3
   },
   "file_extension": ".py",
   "mimetype": "text/x-python",
   "name": "python",
   "nbconvert_exporter": "python",
   "pygments_lexer": "ipython3",
   "version": "3.6.1"
  }
 },
 "nbformat": 4,
 "nbformat_minor": 1
}
