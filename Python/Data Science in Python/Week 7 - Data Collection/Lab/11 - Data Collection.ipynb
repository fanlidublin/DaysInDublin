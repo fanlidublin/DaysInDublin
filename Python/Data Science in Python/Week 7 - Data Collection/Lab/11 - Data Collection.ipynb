{
 "cells": [
  {
   "cell_type": "markdown",
   "metadata": {},
   "source": [
    "## Data Collection & Data Formats"
   ]
  },
  {
   "cell_type": "markdown",
   "metadata": {},
   "source": [
    "### Downloading Data\n",
    "The built-in Python *urllib.request* module has functions which help in downloading content from HTTP URLs using minimal code."
   ]
  },
  {
   "cell_type": "code",
   "execution_count": 11,
   "metadata": {
    "collapsed": false
   },
   "outputs": [],
   "source": [
    "# working on \"ipython_config\" \n",
    "# conda create -n ipython_config python=3.5.2 anaconda\n",
    "# source activate ipython_config\n",
    "# edited by Kamran Azmat (comments)"
   ]
  },
  {
   "cell_type": "code",
   "execution_count": 8,
   "metadata": {
    "collapsed": false
   },
   "outputs": [
    {
     "name": "stdout",
     "output_type": "stream",
     "text": [
      "History of UCD\n",
      "\n",
      "Originally known as the Catholic University of Ireland and subsequently as the Royal University, the university became UCD in 1908 and a constituent college of the National University of Ireland (NUI). \n",
      "\n",
      "In 1997, UCD became an autonomous university within the loose federal structure of the NUI and UCD students are awarded degrees of the National University of Ireland.\n",
      "\n",
      "UCD has been a major contributor to the making of modern Ireland. Many UCD students and staff participated in the struggle for Irish independence and the university has produced numerous Irish Presidents and Taoisigh (Prime Ministers) in addition to generations of Irish business, professional, cultural and sporting leaders. \n",
      "\n",
      "Among UCD’s well-known graduates are authors (Maeve Binchy, Roddy Doyle, Flann O’Brien), actors (Gabriel Byrne, Brendan Gleeson), directors (Neil Jordan, Jim Sheridan) and sports stars such as Irish rugby captain Brian O’Driscoll and former Manchester United and Ireland captain Kevin Moran. Perhaps the best known of all its graduates is the writer James Joyce, who completed his Bachelor of Arts at the university in 1902.\n"
     ]
    }
   ],
   "source": [
    "import urllib.request\n",
    "url = \"http://mlg.ucd.ie/modules/COMP41680/ucd.txt\"\n",
    "response = urllib.request.urlopen(url)\n",
    "text = response.read().decode() # or run a loop for each line and then print it\n",
    "print(text)"
   ]
  },
  {
   "cell_type": "markdown",
   "metadata": {},
   "source": [
    "In practice, we may often want to wrap code to fetch URLs in a try block, to handle the case where we cannot access the URL."
   ]
  },
  {
   "cell_type": "code",
   "execution_count": 12,
   "metadata": {
    "collapsed": false
   },
   "outputs": [
    {
     "name": "stdout",
     "output_type": "stream",
     "text": [
      "Failed to retrieve http://somemissinglink.ucd.ie/ucd.txt\n"
     ]
    }
   ],
   "source": [
    "url = \"http://somemissinglink.ucd.ie/ucd.txt\" # intentially giving a wrong link\n",
    "try:\n",
    "    response = urllib.request.urlopen(url)\n",
    "    text = response.read().decode()\n",
    "except:\n",
    "    print(\"Failed to retrieve %s\" % url)"
   ]
  },
  {
   "cell_type": "markdown",
   "metadata": {},
   "source": [
    "### Working with CSV"
   ]
  },
  {
   "cell_type": "markdown",
   "metadata": {},
   "source": [
    "The CSV (\"Comma Separated Values\") file format is often used to exchange tabular data between different applications, like Excel. Essentially a CSV file is a plain text file where values are split by a comma separator. Alternatively can be tab or space separated. \n",
    "\n",
    "We could download a CSV file using *urllib.request* and manually parse it..."
   ]
  },
  {
   "cell_type": "code",
   "execution_count": 13,
   "metadata": {
    "collapsed": false
   },
   "outputs": [
    {
     "name": "stdout",
     "output_type": "stream",
     "text": [
      "['Player', 'Team', 'Total Goals', 'Penalties', 'Home Goals', 'Away Goals']\n",
      "['J Vardy', 'Leicester City', '19', '4', '11', '8']\n",
      "['H Kane', 'Tottenham', '16', '4', '7', '9']\n",
      "['R Lukaku', 'Everton', '16', '1', '8', '8']\n",
      "['O Ighalo', 'Watford', '15', '0', '8', '7']\n",
      "['S Aguero', 'Manchester City', '14', '1', '10', '4']\n",
      "['R Mahrez', 'Leicester City', '14', '4', '4', '10']\n",
      "['O Giroud', 'Arsenal', '12', '0', '4', '8']\n",
      "['D Costa', 'Chelsea', '10', '0', '7', '3']\n",
      "['J Defoe', 'Sunderland', '10', '0', '3', '7']\n",
      "['G Wijnaldum', 'Newcastle Utd', '9', '0', '9', '0']\n",
      "['T Deeney', 'Watford', '8', '5', '2', '6']\n",
      "['R Barkley', 'Everton', '8', '2', '5', '3']\n",
      "['A Ayew', 'Swansea City', '8', '0', '5', '3']\n",
      "['G Sigurdsson', 'Swansea City', '7', '3', '2', '5']\n",
      "['W Rooney', 'Manchester Utd', '7', '1', '3', '4']\n",
      "['A Martial', 'Manchester Utd', '7', '0', '4', '3']\n",
      "['D Alli', 'Tottenham', '7', '0', '1', '6']\n",
      "['D Payet', 'West Ham Utd', '7', '0', '3', '4']\n",
      "['M Arnautovic', 'Stoke City', '7', '2', '4', '3']\n",
      "['Y Toure', 'Manchester City', '7', '0', '3', '4']\n"
     ]
    }
   ],
   "source": [
    "# Download the CSV and store as a string\n",
    "url = \"http://mlg.ucd.ie/modules/COMP41680/goal_scorers.csv\"\n",
    "response = urllib.request.urlopen(url)\n",
    "raw_csv = response.read().decode()\n",
    "# Parse each line\n",
    "lines = raw_csv.split(\"\\n\")\n",
    "for l in lines:\n",
    "    l = l.strip()\n",
    "    if len(l) > 0:\n",
    "        # split based on a comma separator\n",
    "        parts = l.split(\",\")\n",
    "        print(parts)"
   ]
  },
  {
   "cell_type": "markdown",
   "metadata": {},
   "source": [
    "But we can also use Pandas to directly download and parse CSV data for us, to create a Data Frame which is ready to analyse."
   ]
  },
  {
   "cell_type": "code",
   "execution_count": 14,
   "metadata": {
    "collapsed": false
   },
   "outputs": [
    {
     "data": {
      "text/html": [
       "<div>\n",
       "<table border=\"1\" class=\"dataframe\">\n",
       "  <thead>\n",
       "    <tr style=\"text-align: right;\">\n",
       "      <th></th>\n",
       "      <th>Player</th>\n",
       "      <th>Team</th>\n",
       "      <th>Total Goals</th>\n",
       "      <th>Penalties</th>\n",
       "      <th>Home Goals</th>\n",
       "      <th>Away Goals</th>\n",
       "    </tr>\n",
       "  </thead>\n",
       "  <tbody>\n",
       "    <tr>\n",
       "      <th>0</th>\n",
       "      <td>J Vardy</td>\n",
       "      <td>Leicester City</td>\n",
       "      <td>19</td>\n",
       "      <td>4</td>\n",
       "      <td>11</td>\n",
       "      <td>8</td>\n",
       "    </tr>\n",
       "    <tr>\n",
       "      <th>1</th>\n",
       "      <td>H Kane</td>\n",
       "      <td>Tottenham</td>\n",
       "      <td>16</td>\n",
       "      <td>4</td>\n",
       "      <td>7</td>\n",
       "      <td>9</td>\n",
       "    </tr>\n",
       "    <tr>\n",
       "      <th>2</th>\n",
       "      <td>R Lukaku</td>\n",
       "      <td>Everton</td>\n",
       "      <td>16</td>\n",
       "      <td>1</td>\n",
       "      <td>8</td>\n",
       "      <td>8</td>\n",
       "    </tr>\n",
       "    <tr>\n",
       "      <th>3</th>\n",
       "      <td>O Ighalo</td>\n",
       "      <td>Watford</td>\n",
       "      <td>15</td>\n",
       "      <td>0</td>\n",
       "      <td>8</td>\n",
       "      <td>7</td>\n",
       "    </tr>\n",
       "    <tr>\n",
       "      <th>4</th>\n",
       "      <td>S Aguero</td>\n",
       "      <td>Manchester City</td>\n",
       "      <td>14</td>\n",
       "      <td>1</td>\n",
       "      <td>10</td>\n",
       "      <td>4</td>\n",
       "    </tr>\n",
       "    <tr>\n",
       "      <th>5</th>\n",
       "      <td>R Mahrez</td>\n",
       "      <td>Leicester City</td>\n",
       "      <td>14</td>\n",
       "      <td>4</td>\n",
       "      <td>4</td>\n",
       "      <td>10</td>\n",
       "    </tr>\n",
       "    <tr>\n",
       "      <th>6</th>\n",
       "      <td>O Giroud</td>\n",
       "      <td>Arsenal</td>\n",
       "      <td>12</td>\n",
       "      <td>0</td>\n",
       "      <td>4</td>\n",
       "      <td>8</td>\n",
       "    </tr>\n",
       "    <tr>\n",
       "      <th>7</th>\n",
       "      <td>D Costa</td>\n",
       "      <td>Chelsea</td>\n",
       "      <td>10</td>\n",
       "      <td>0</td>\n",
       "      <td>7</td>\n",
       "      <td>3</td>\n",
       "    </tr>\n",
       "    <tr>\n",
       "      <th>8</th>\n",
       "      <td>J Defoe</td>\n",
       "      <td>Sunderland</td>\n",
       "      <td>10</td>\n",
       "      <td>0</td>\n",
       "      <td>3</td>\n",
       "      <td>7</td>\n",
       "    </tr>\n",
       "    <tr>\n",
       "      <th>9</th>\n",
       "      <td>G Wijnaldum</td>\n",
       "      <td>Newcastle Utd</td>\n",
       "      <td>9</td>\n",
       "      <td>0</td>\n",
       "      <td>9</td>\n",
       "      <td>0</td>\n",
       "    </tr>\n",
       "    <tr>\n",
       "      <th>10</th>\n",
       "      <td>T Deeney</td>\n",
       "      <td>Watford</td>\n",
       "      <td>8</td>\n",
       "      <td>5</td>\n",
       "      <td>2</td>\n",
       "      <td>6</td>\n",
       "    </tr>\n",
       "    <tr>\n",
       "      <th>11</th>\n",
       "      <td>R Barkley</td>\n",
       "      <td>Everton</td>\n",
       "      <td>8</td>\n",
       "      <td>2</td>\n",
       "      <td>5</td>\n",
       "      <td>3</td>\n",
       "    </tr>\n",
       "    <tr>\n",
       "      <th>12</th>\n",
       "      <td>A Ayew</td>\n",
       "      <td>Swansea City</td>\n",
       "      <td>8</td>\n",
       "      <td>0</td>\n",
       "      <td>5</td>\n",
       "      <td>3</td>\n",
       "    </tr>\n",
       "    <tr>\n",
       "      <th>13</th>\n",
       "      <td>G Sigurdsson</td>\n",
       "      <td>Swansea City</td>\n",
       "      <td>7</td>\n",
       "      <td>3</td>\n",
       "      <td>2</td>\n",
       "      <td>5</td>\n",
       "    </tr>\n",
       "    <tr>\n",
       "      <th>14</th>\n",
       "      <td>W Rooney</td>\n",
       "      <td>Manchester Utd</td>\n",
       "      <td>7</td>\n",
       "      <td>1</td>\n",
       "      <td>3</td>\n",
       "      <td>4</td>\n",
       "    </tr>\n",
       "    <tr>\n",
       "      <th>15</th>\n",
       "      <td>A Martial</td>\n",
       "      <td>Manchester Utd</td>\n",
       "      <td>7</td>\n",
       "      <td>0</td>\n",
       "      <td>4</td>\n",
       "      <td>3</td>\n",
       "    </tr>\n",
       "    <tr>\n",
       "      <th>16</th>\n",
       "      <td>D Alli</td>\n",
       "      <td>Tottenham</td>\n",
       "      <td>7</td>\n",
       "      <td>0</td>\n",
       "      <td>1</td>\n",
       "      <td>6</td>\n",
       "    </tr>\n",
       "    <tr>\n",
       "      <th>17</th>\n",
       "      <td>D Payet</td>\n",
       "      <td>West Ham Utd</td>\n",
       "      <td>7</td>\n",
       "      <td>0</td>\n",
       "      <td>3</td>\n",
       "      <td>4</td>\n",
       "    </tr>\n",
       "    <tr>\n",
       "      <th>18</th>\n",
       "      <td>M Arnautovic</td>\n",
       "      <td>Stoke City</td>\n",
       "      <td>7</td>\n",
       "      <td>2</td>\n",
       "      <td>4</td>\n",
       "      <td>3</td>\n",
       "    </tr>\n",
       "    <tr>\n",
       "      <th>19</th>\n",
       "      <td>Y Toure</td>\n",
       "      <td>Manchester City</td>\n",
       "      <td>7</td>\n",
       "      <td>0</td>\n",
       "      <td>3</td>\n",
       "      <td>4</td>\n",
       "    </tr>\n",
       "  </tbody>\n",
       "</table>\n",
       "</div>"
      ],
      "text/plain": [
       "          Player             Team  Total Goals  Penalties  Home Goals  \\\n",
       "0        J Vardy   Leicester City           19          4          11   \n",
       "1         H Kane        Tottenham           16          4           7   \n",
       "2       R Lukaku          Everton           16          1           8   \n",
       "3       O Ighalo          Watford           15          0           8   \n",
       "4       S Aguero  Manchester City           14          1          10   \n",
       "5       R Mahrez   Leicester City           14          4           4   \n",
       "6       O Giroud          Arsenal           12          0           4   \n",
       "7        D Costa          Chelsea           10          0           7   \n",
       "8        J Defoe       Sunderland           10          0           3   \n",
       "9    G Wijnaldum    Newcastle Utd            9          0           9   \n",
       "10      T Deeney          Watford            8          5           2   \n",
       "11     R Barkley          Everton            8          2           5   \n",
       "12        A Ayew     Swansea City            8          0           5   \n",
       "13  G Sigurdsson     Swansea City            7          3           2   \n",
       "14      W Rooney   Manchester Utd            7          1           3   \n",
       "15     A Martial   Manchester Utd            7          0           4   \n",
       "16        D Alli        Tottenham            7          0           1   \n",
       "17       D Payet     West Ham Utd            7          0           3   \n",
       "18  M Arnautovic       Stoke City            7          2           4   \n",
       "19       Y Toure  Manchester City            7          0           3   \n",
       "\n",
       "    Away Goals  \n",
       "0            8  \n",
       "1            9  \n",
       "2            8  \n",
       "3            7  \n",
       "4            4  \n",
       "5           10  \n",
       "6            8  \n",
       "7            3  \n",
       "8            7  \n",
       "9            0  \n",
       "10           6  \n",
       "11           3  \n",
       "12           3  \n",
       "13           5  \n",
       "14           4  \n",
       "15           3  \n",
       "16           6  \n",
       "17           4  \n",
       "18           3  \n",
       "19           4  "
      ]
     },
     "execution_count": 14,
     "metadata": {},
     "output_type": "execute_result"
    }
   ],
   "source": [
    "import pandas as pd\n",
    "df = pd.read_csv(\"http://mlg.ucd.ie/modules/COMP41680/goal_scorers.csv\")\n",
    "df"
   ]
  },
  {
   "cell_type": "code",
   "execution_count": 15,
   "metadata": {
    "collapsed": true
   },
   "outputs": [],
   "source": [
    "# panda is awesome"
   ]
  },
  {
   "cell_type": "markdown",
   "metadata": {},
   "source": [
    "### Working with JSON"
   ]
  },
  {
   "cell_type": "markdown",
   "metadata": {},
   "source": [
    "[JSON](http://json.org/) is a lightweight format which is becoming increasingly popular for online data exchanged. Based originally on the JavaScript language and (relatively) easy for humans to read and write\n",
    "\n",
    "The built-in module *json* provides an easy way to encode and decode data in JSON in Python."
   ]
  },
  {
   "cell_type": "code",
   "execution_count": 16,
   "metadata": {
    "collapsed": true
   },
   "outputs": [],
   "source": [
    "import json"
   ]
  },
  {
   "cell_type": "markdown",
   "metadata": {},
   "source": [
    "Let's try downloading and parsing a simple JSON file which contains information about a number of books, originally from librarything.com:"
   ]
  },
  {
   "cell_type": "code",
   "execution_count": 17,
   "metadata": {
    "collapsed": false
   },
   "outputs": [],
   "source": [
    "url = \"http://mlg.ucd.ie/modules/COMP41680/books.json\"\n",
    "response = urllib.request.urlopen(url)\n",
    "raw_json = response.read().decode(\"utf-8\")"
   ]
  },
  {
   "cell_type": "code",
   "execution_count": 18,
   "metadata": {
    "collapsed": false
   },
   "outputs": [
    {
     "name": "stdout",
     "output_type": "stream",
     "text": [
      "[{\n",
      "\t\"book_id\": \"13585350\",\n",
      "\t\"title\": \"The World Treasury of Science Fiction\",\n",
      "\t\"ISBN\": \"\",\n",
      "\t\"year\": 1989,\n",
      "\t\"rating\": 3,\n",
      "\t\"language\": \"eng\"\n",
      "}, {\n",
      "\t\"book_id\": \"124205572\",\n",
      "\t\"title\": \"The War of the Worlds\",\n",
      "\t\"ISBN\": \"1936594056\",\n",
      "\t\"year\": 2013,\n",
      "\t\"rating\": 4,\n",
      "\t\"language\": \"eng\"\n",
      "}, {\n",
      "\t\"book_id\": \"127360065\",\n",
      "\t\"title\": \"Under the Dome: A Novel\",\n",
      "\t\"ISBN\": \"1439149038\",\n",
      "\t\"year\": 2013,\n",
      "\t\"rating\": 2,\n",
      "\t\"language\": \"eng\"\n",
      "}, {\n",
      "\t\"book_id\": \"13908800\",\n",
      "\t\"title\": \"The Ultimate Hitchhiker's Guide to the Galaxy\",\n",
      "\t\"ISBN\": \"0345453743\",\n",
      "\t\"year\": 2002,\n",
      "\t\"rating\": 5,\n",
      "\t\"language\": \"eng\"\n",
      "}, {\n",
      "\t\"book_id\": \"123734934\",\n",
      "\t\"title\": \"The Time Traveler's Wife\",\n",
      "\t\"ISBN\": \"1476764832\",\n",
      "\t\"year\": 2014,\n",
      "\t\"rating\": 5,\n",
      "\t\"language\": \"eng\"\n",
      "}, {\n",
      "\t\"book_id\": \"13603020\",\n",
      "\t\"title\": \"Salem's Lot\",\n",
      "\t\"ISBN\": \"0451098277\",\n",
      "\t\"year\": 1976,\n",
      "\t\"rating\": 3,\n",
      "\t\"language\": \"eng\"\n",
      "}, {\n",
      "\t\"book_id\": \"124173974\",\n",
      "\t\"title\": \"Republic\",\n",
      "\t\"ISBN\": \"039395501X\",\n",
      "\t\"year\": 1985,\n",
      "\t\"rating\": 3,\n",
      "\t\"language\": \"eng\"\n",
      "}, {\n",
      "\t\"book_id\": \"123102859\",\n",
      "\t\"title\": \"The Road\",\n",
      "\t\"ISBN\": \"0307387895\",\n",
      "\t\"year\": 2006,\n",
      "\t\"rating\": 5,\n",
      "\t\"language\": \"eng\"\n",
      "}]\n",
      "\n"
     ]
    }
   ],
   "source": [
    "print(raw_json)"
   ]
  },
  {
   "cell_type": "markdown",
   "metadata": {},
   "source": [
    "We can now parse the JSON, converting it from a string into a useful Python data structure:"
   ]
  },
  {
   "cell_type": "code",
   "execution_count": 20,
   "metadata": {
    "collapsed": false
   },
   "outputs": [
    {
     "name": "stdout",
     "output_type": "stream",
     "text": [
      "[{'title': 'The World Treasury of Science Fiction', 'rating': 3, 'book_id': '13585350', 'language': 'eng', 'year': 1989, 'ISBN': ''}, {'title': 'The War of the Worlds', 'rating': 4, 'book_id': '124205572', 'language': 'eng', 'year': 2013, 'ISBN': '1936594056'}, {'title': 'Under the Dome: A Novel', 'rating': 2, 'book_id': '127360065', 'language': 'eng', 'year': 2013, 'ISBN': '1439149038'}, {'title': \"The Ultimate Hitchhiker's Guide to the Galaxy\", 'rating': 5, 'book_id': '13908800', 'language': 'eng', 'year': 2002, 'ISBN': '0345453743'}, {'title': \"The Time Traveler's Wife\", 'rating': 5, 'book_id': '123734934', 'language': 'eng', 'year': 2014, 'ISBN': '1476764832'}, {'title': \"Salem's Lot\", 'rating': 3, 'book_id': '13603020', 'language': 'eng', 'year': 1976, 'ISBN': '0451098277'}, {'title': 'Republic', 'rating': 3, 'book_id': '124173974', 'language': 'eng', 'year': 1985, 'ISBN': '039395501X'}, {'title': 'The Road', 'rating': 5, 'book_id': '123102859', 'language': 'eng', 'year': 2006, 'ISBN': '0307387895'}]\n"
     ]
    }
   ],
   "source": [
    "data = json.loads(raw_json) # conerting JSON objects to python dictionary and JSON array to python list\n",
    "print(data)"
   ]
  },
  {
   "cell_type": "markdown",
   "metadata": {},
   "source": [
    "We can now iterate through the books in the list and extract the relevant information that we require."
   ]
  },
  {
   "cell_type": "code",
   "execution_count": 21,
   "metadata": {
    "collapsed": false
   },
   "outputs": [
    {
     "name": "stdout",
     "output_type": "stream",
     "text": [
      "The World Treasury of Science Fiction = 1989\n",
      "The War of the Worlds = 2013\n",
      "Under the Dome: A Novel = 2013\n",
      "The Ultimate Hitchhiker's Guide to the Galaxy = 2002\n",
      "The Time Traveler's Wife = 2014\n",
      "Salem's Lot = 1976\n",
      "Republic = 1985\n",
      "The Road = 2006\n"
     ]
    }
   ],
   "source": [
    "for book in data:\n",
    "    print( \"%s = %d\" % ( book[\"title\"], book[\"year\"] ) )"
   ]
  },
  {
   "cell_type": "markdown",
   "metadata": {},
   "source": [
    "### Working with XML"
   ]
  },
  {
   "cell_type": "markdown",
   "metadata": {
    "collapsed": true
   },
   "source": [
    "Extensible Markup Language (XML) is a markup language that defines a set of rules for encoding documents in a format which is both human-readable and machine-readable. XML is a widely-adopted format. Python includes several built-in modules for parsing XML data."
   ]
  },
  {
   "cell_type": "markdown",
   "metadata": {},
   "source": [
    "The *xml.etree.ElementTree* module can be used to extract data from a simple XML file based on its tree structure. "
   ]
  },
  {
   "cell_type": "code",
   "execution_count": 27,
   "metadata": {
    "collapsed": false
   },
   "outputs": [
    {
     "name": "stdout",
     "output_type": "stream",
     "text": [
      "<?xml version=\"1.0\" encoding=\"UTF-8\"?>\n",
      "<booklist>\n",
      "   <book id=\"13585350\">\n",
      "      <title>The World Treasury of Science Fiction</title>\n",
      "      <ISBN />\n",
      "      <year>1989</year>\n",
      "      <rating>3</rating>\n",
      "      <language>eng</language>\n",
      "   </book>\n",
      "   <book id=\"124205572\">\n",
      "      <title>The War of the Worlds</title>\n",
      "      <ISBN>1936594056</ISBN>\n",
      "      <year>2013</year>\n",
      "      <rating>4</rating>\n",
      "      <language>eng</language>\n",
      "   </book>\n",
      "   <book id=\"127360065\">\n",
      "      <title>Under the Dome: A Novel</title>\n",
      "      <ISBN>1439149038</ISBN>\n",
      "      <year>2013</year>\n",
      "      <rating>2</rating>\n",
      "      <language>eng</language>\n",
      "   </book>\n",
      "   <book id=\"13908800\">\n",
      "      <title>The Ultimate Hitchhiker's Guide to the Galaxy</title>\n",
      "      <ISBN>0345453743</ISBN>\n",
      "      <year>2002</year>\n",
      "      <rating>5</rating>\n",
      "      <language>eng</language>\n",
      "   </book>\n",
      "   <book id=\"123734934\">\n",
      "      <title>The Time Traveler's Wife</title>\n",
      "      <ISBN>1476764832</ISBN>\n",
      "      <year>2014</year>\n",
      "      <rating>5</rating>\n",
      "      <language>eng</language>\n",
      "   </book>\n",
      "   <book id=\"13603020\">\n",
      "      <title>Salem's Lot</title>\n",
      "      <ISBN>0451098277</ISBN>\n",
      "      <year>1976</year>\n",
      "      <rating>3</rating>\n",
      "      <language>eng</language>\n",
      "   </book>\n",
      "   <book id=\"124173974\">\n",
      "      <title>Republic</title>\n",
      "      <ISBN>039395501X</ISBN>\n",
      "      <year>1985</year>\n",
      "      <rating>3</rating>\n",
      "      <language>eng</language>\n",
      "   </book>\n",
      "   <book id=\"123102859\">\n",
      "      <title>The Road</title>\n",
      "      <ISBN>0307387895</ISBN>\n",
      "      <year>2006</year>\n",
      "      <rating>5</rating>\n",
      "      <language>eng</language>\n",
      "   </book>\n",
      "</booklist>\n"
     ]
    }
   ],
   "source": [
    "# download the content\n",
    "url = \"http://mlg.ucd.ie/modules/COMP41680/books.xml\"\n",
    "response = urllib.request.urlopen(url)\n",
    "raw_xml = response.read().decode()\n",
    "print(raw_xml)"
   ]
  },
  {
   "cell_type": "markdown",
   "metadata": {},
   "source": [
    "We can use the *xml.etree.ElementTree.fromstring()* function to parse content from a string containing XML data."
   ]
  },
  {
   "cell_type": "code",
   "execution_count": 33,
   "metadata": {
    "collapsed": false
   },
   "outputs": [],
   "source": [
    "import xml.etree.ElementTree\n",
    "tree = xml.etree.ElementTree.fromstring(raw_xml)\n",
    "#print (tree)"
   ]
  },
  {
   "cell_type": "markdown",
   "metadata": {},
   "source": [
    "An XML tree has a root node (i.e. the top level of the document), with child nodes at lower levels. We can iterate over these:"
   ]
  },
  {
   "cell_type": "code",
   "execution_count": 43,
   "metadata": {
    "collapsed": false
   },
   "outputs": [
    {
     "name": "stdout",
     "output_type": "stream",
     "text": [
      "book {'id': '13585350'}\n",
      "book {'id': '124205572'}\n",
      "book {'id': '127360065'}\n",
      "book {'id': '13908800'}\n",
      "book {'id': '123734934'}\n",
      "book {'id': '13603020'}\n",
      "book {'id': '124173974'}\n",
      "book {'id': '123102859'}\n"
     ]
    }
   ],
   "source": [
    "for child in tree:\n",
    "    # get the name of the tag, along with any XML attributes which the tag has    \n",
    "    print( child.tag, child.attrib )"
   ]
  },
  {
   "cell_type": "markdown",
   "metadata": {},
   "source": [
    "We can also query to find tags with specific names, such as '<book>' and then in turn find child nodes of that tag with a specific name."
   ]
  },
  {
   "cell_type": "code",
   "execution_count": 44,
   "metadata": {
    "collapsed": false
   },
   "outputs": [
    {
     "name": "stdout",
     "output_type": "stream",
     "text": [
      "The World Treasury of Science Fiction\n",
      "The War of the Worlds\n",
      "Under the Dome: A Novel\n",
      "The Ultimate Hitchhiker's Guide to the Galaxy\n",
      "The Time Traveler's Wife\n",
      "Salem's Lot\n",
      "Republic\n",
      "The Road\n"
     ]
    }
   ],
   "source": [
    "for book in tree.findall(\"book\"):\n",
    "    # get the text inside a <title> tag, contained within a <book> tag\n",
    "    title = book.find(\"title\").text\n",
    "    print(title)"
   ]
  },
  {
   "cell_type": "markdown",
   "metadata": {},
   "source": [
    "### Working with APIs"
   ]
  },
  {
   "cell_type": "markdown",
   "metadata": {},
   "source": [
    "#### Example - Wikipedia"
   ]
  },
  {
   "cell_type": "markdown",
   "metadata": {},
   "source": [
    "As a simple example of using an Online API, we will retrieve JSON data from the Wikipedia web API. The Wikipedia page for 'Belfield' is [here](https://en.wikipedia.org/wiki/Belfield,_Dublin). We can retrieve this data in a cleaner JSON format from the Wikipedia API endpoint (https://en.wikipedia.org/w/api.php)."
   ]
  },
  {
   "cell_type": "code",
   "execution_count": 45,
   "metadata": {
    "collapsed": false
   },
   "outputs": [
    {
     "name": "stdout",
     "output_type": "stream",
     "text": [
      "https://en.wikipedia.org/w/api.php?format=json&action=query&prop=extracts&exintro=true&titles=Belfield,_Dublin\n"
     ]
    }
   ],
   "source": [
    "title = \"Belfield,_Dublin\"\n",
    "url = \"https://en.wikipedia.org/w/api.php?format=json&action=query&prop=extracts&exintro=true&titles=\" + title\n",
    "print(url)"
   ]
  },
  {
   "cell_type": "code",
   "execution_count": 47,
   "metadata": {
    "collapsed": false
   },
   "outputs": [],
   "source": [
    "response = urllib.request.urlopen(url) # you can even use JSON package\n",
    "raw_json = response.read().decode(\"utf-8\")"
   ]
  },
  {
   "cell_type": "markdown",
   "metadata": {},
   "source": [
    "Once we have downloaded the JSON data into a string, we parse it using the *loads()* function, which will convert it into an actual Python dictionary."
   ]
  },
  {
   "cell_type": "code",
   "execution_count": 49,
   "metadata": {
    "collapsed": false
   },
   "outputs": [
    {
     "data": {
      "text/plain": [
       "{'batchcomplete': '',\n",
       " 'query': {'normalized': [{'from': 'Belfield,_Dublin',\n",
       "    'to': 'Belfield, Dublin'}],\n",
       "  'pages': {'918146': {'extract': '<p><b>Belfield</b> is a small enclave, not quite a suburb, in Dún Laoghaire–Rathdown, Ireland. It is synonymous with the main campus of University College Dublin.</p>\\n<p>Belfield is close to Donnybrook, Ballsbridge, Clonskeagh, Goatstown and Stillorgan and takes its name from Belfield House and Demesne, one of eight properties bought to form the main campus of University College Dublin. It is adjacent to the N11 road.</p>\\n<p></p>',\n",
       "    'ns': 0,\n",
       "    'pageid': 918146,\n",
       "    'title': 'Belfield, Dublin'}}}}"
      ]
     },
     "execution_count": 49,
     "metadata": {},
     "output_type": "execute_result"
    }
   ],
   "source": [
    "data = json.loads(raw_json) # load and dump\n",
    "data"
   ]
  },
  {
   "cell_type": "markdown",
   "metadata": {},
   "source": [
    "The response still needs to be inspected. Note that the results we want are are in *data[\"query\"][\"pages\"]*:"
   ]
  },
  {
   "cell_type": "code",
   "execution_count": 58,
   "metadata": {
    "collapsed": false
   },
   "outputs": [
    {
     "name": "stdout",
     "output_type": "stream",
     "text": [
      "{'918146': {'ns': 0, 'pageid': 918146, 'title': 'Belfield, Dublin', 'extract': '<p><b>Belfield</b> is a small enclave, not quite a suburb, in Dún Laoghaire–Rathdown, Ireland. It is synonymous with the main campus of University College Dublin.</p>\\n<p>Belfield is close to Donnybrook, Ballsbridge, Clonskeagh, Goatstown and Stillorgan and takes its name from Belfield House and Demesne, one of eight properties bought to form the main campus of University College Dublin. It is adjacent to the N11 road.</p>\\n<p></p>'}}\n",
      "--------------------------------\n",
      "<p><b>Belfield</b> is a small enclave, not quite a suburb, in Dún Laoghaire–Rathdown, Ireland. It is synonymous with the main campus of University College Dublin.</p>\n",
      "<p>Belfield is close to Donnybrook, Ballsbridge, Clonskeagh, Goatstown and Stillorgan and takes its name from Belfield House and Demesne, one of eight properties bought to form the main campus of University College Dublin. It is adjacent to the N11 road.</p>\n",
      "<p></p>\n"
     ]
    }
   ],
   "source": [
    "print(data[\"query\"][\"pages\"])\n",
    "# going deeper\n",
    "print (\"--------------------------------\")\n",
    "for val in data[\"query\"][\"pages\"]:\n",
    "    print (data[\"query\"][\"pages\"][val][\"extract\"])"
   ]
  },
  {
   "cell_type": "code",
   "execution_count": 59,
   "metadata": {
    "collapsed": false
   },
   "outputs": [
    {
     "name": "stdout",
     "output_type": "stream",
     "text": [
      "Belfield, Dublin\n",
      "<p><b>Belfield</b> is a small enclave, not quite a suburb, in Dún Laoghaire–Rathdown, Ireland. It is synonymous with the main campus of University College Dublin.</p>\n",
      "<p>Belfield is close to Donnybrook, Ballsbridge, Clonskeagh, Goatstown and Stillorgan and takes its name from Belfield House and Demesne, one of eight properties bought to form the main campus of University College Dublin. It is adjacent to the N11 road.</p>\n",
      "<p></p>\n"
     ]
    }
   ],
   "source": [
    "result = data[\"query\"][\"pages\"][\"918146\"]\n",
    "print(result[\"title\"])\n",
    "print(result[\"extract\"])"
   ]
  },
  {
   "cell_type": "markdown",
   "metadata": {},
   "source": [
    "#### Example - Google Maps"
   ]
  },
  {
   "cell_type": "markdown",
   "metadata": {},
   "source": [
    "In the next example, we will use the Google Maps API to get information about a specific named location."
   ]
  },
  {
   "cell_type": "markdown",
   "metadata": {},
   "source": [
    "Note that when we created the URL to retrieve, we convert the location name to quoted form, so that we can create a valid URL:"
   ]
  },
  {
   "cell_type": "code",
   "execution_count": 60,
   "metadata": {
    "collapsed": false
   },
   "outputs": [
    {
     "name": "stdout",
     "output_type": "stream",
     "text": [
      "University%20College%20Dublin%2C%20Ireland\n"
     ]
    }
   ],
   "source": [
    "import urllib.parse\n",
    "location = \"University College Dublin, Ireland\"\n",
    "quoted_location = urllib.parse.quote(location)\n",
    "print(quoted_location)"
   ]
  },
  {
   "cell_type": "code",
   "execution_count": 61,
   "metadata": {
    "collapsed": false
   },
   "outputs": [
    {
     "name": "stdout",
     "output_type": "stream",
     "text": [
      "https://maps.googleapis.com/maps/api/geocode/json?address=University%20College%20Dublin%2C%20Ireland\n"
     ]
    }
   ],
   "source": [
    "url = \"https://maps.googleapis.com/maps/api/geocode/json?address=%s\" % quoted_location\n",
    "print(url)"
   ]
  },
  {
   "cell_type": "markdown",
   "metadata": {},
   "source": [
    "Retrieve the JSON data from the API using the specified URL. "
   ]
  },
  {
   "cell_type": "code",
   "execution_count": 62,
   "metadata": {
    "collapsed": false
   },
   "outputs": [
    {
     "name": "stdout",
     "output_type": "stream",
     "text": [
      "{\n",
      "   \"results\" : [\n",
      "      {\n",
      "         \"address_components\" : [\n",
      "            {\n",
      "               \"long_name\" : \"University College Dublin\",\n",
      "               \"short_name\" : \"University College Dublin\",\n",
      "               \"types\" : [ \"premise\" ]\n",
      "            },\n",
      "            {\n",
      "               \"long_name\" : \"Stillorgan Road\",\n",
      "               \"short_name\" : \"Stillorgan Rd\",\n",
      "               \"types\" : [ \"route\" ]\n",
      "            },\n",
      "            {\n",
      "               \"long_name\" : \"Belfield\",\n",
      "               \"short_name\" : \"Belfield\",\n",
      "               \"types\" : [ \"political\", \"sublocality\", \"sublocality_level_1\" ]\n",
      "            },\n",
      "            {\n",
      "               \"long_name\" : \"Dublin 4\",\n",
      "               \"short_name\" : \"Dublin 4\",\n",
      "               \"types\" : [ \"postal_town\" ]\n",
      "            },\n",
      "            {\n",
      "               \"long_name\" : \"County Dublin\",\n",
      "               \"short_name\" : \"County Dublin\",\n",
      "               \"types\" : [ \"administrative_area_level_1\", \"political\" ]\n",
      "            },\n",
      "            {\n",
      "               \"long_name\" : \"Ireland\",\n",
      "               \"short_name\" : \"IE\",\n",
      "               \"types\" : [ \"country\", \"political\" ]\n",
      "            }\n",
      "         ],\n",
      "         \"formatted_address\" : \"University College Dublin, Stillorgan Rd, Belfield, Dublin 4, Ireland\",\n",
      "         \"geometry\" : {\n",
      "            \"location\" : {\n",
      "               \"lat\" : 53.3053439,\n",
      "               \"lng\" : -6.220653899999999\n",
      "            },\n",
      "            \"location_type\" : \"APPROXIMATE\",\n",
      "            \"viewport\" : {\n",
      "               \"northeast\" : {\n",
      "                  \"lat\" : 53.3066928802915,\n",
      "                  \"lng\" : -6.219304919708497\n",
      "               },\n",
      "               \"southwest\" : {\n",
      "                  \"lat\" : 53.3039949197085,\n",
      "                  \"lng\" : -6.222002880291502\n",
      "               }\n",
      "            }\n",
      "         },\n",
      "         \"place_id\" : \"ChIJYzrIIDEJZ0gRz78kFPMqdjY\",\n",
      "         \"types\" : [ \"establishment\", \"point_of_interest\" ]\n",
      "      }\n",
      "   ],\n",
      "   \"status\" : \"OK\"\n",
      "}\n",
      "\n"
     ]
    }
   ],
   "source": [
    "response = urllib.request.urlopen(url)\n",
    "raw_json = response.read().decode(\"utf-8\")\n",
    "print(raw_json)"
   ]
  },
  {
   "cell_type": "markdown",
   "metadata": {},
   "source": [
    "Parse the JSON data"
   ]
  },
  {
   "cell_type": "code",
   "execution_count": 63,
   "metadata": {
    "collapsed": false
   },
   "outputs": [
    {
     "data": {
      "text/plain": [
       "{'results': [{'address_components': [{'long_name': 'University College Dublin',\n",
       "     'short_name': 'University College Dublin',\n",
       "     'types': ['premise']},\n",
       "    {'long_name': 'Stillorgan Road',\n",
       "     'short_name': 'Stillorgan Rd',\n",
       "     'types': ['route']},\n",
       "    {'long_name': 'Belfield',\n",
       "     'short_name': 'Belfield',\n",
       "     'types': ['political', 'sublocality', 'sublocality_level_1']},\n",
       "    {'long_name': 'Dublin 4',\n",
       "     'short_name': 'Dublin 4',\n",
       "     'types': ['postal_town']},\n",
       "    {'long_name': 'County Dublin',\n",
       "     'short_name': 'County Dublin',\n",
       "     'types': ['administrative_area_level_1', 'political']},\n",
       "    {'long_name': 'Ireland',\n",
       "     'short_name': 'IE',\n",
       "     'types': ['country', 'political']}],\n",
       "   'formatted_address': 'University College Dublin, Stillorgan Rd, Belfield, Dublin 4, Ireland',\n",
       "   'geometry': {'location': {'lat': 53.3053439, 'lng': -6.220653899999999},\n",
       "    'location_type': 'APPROXIMATE',\n",
       "    'viewport': {'northeast': {'lat': 53.3066928802915,\n",
       "      'lng': -6.219304919708497},\n",
       "     'southwest': {'lat': 53.3039949197085, 'lng': -6.222002880291502}}},\n",
       "   'place_id': 'ChIJYzrIIDEJZ0gRz78kFPMqdjY',\n",
       "   'types': ['establishment', 'point_of_interest']}],\n",
       " 'status': 'OK'}"
      ]
     },
     "execution_count": 63,
     "metadata": {},
     "output_type": "execute_result"
    }
   ],
   "source": [
    "data = json.loads(raw_json)\n",
    "data"
   ]
  },
  {
   "cell_type": "markdown",
   "metadata": {},
   "source": [
    "We see from the above that our query has returned a single result. Now we extract the latitude and longitude for the location for that result:"
   ]
  },
  {
   "cell_type": "code",
   "execution_count": 64,
   "metadata": {
    "collapsed": false
   },
   "outputs": [
    {
     "name": "stdout",
     "output_type": "stream",
     "text": [
      "{'place_id': 'ChIJYzrIIDEJZ0gRz78kFPMqdjY', 'formatted_address': 'University College Dublin, Stillorgan Rd, Belfield, Dublin 4, Ireland', 'geometry': {'location_type': 'APPROXIMATE', 'location': {'lat': 53.3053439, 'lng': -6.220653899999999}, 'viewport': {'northeast': {'lat': 53.3066928802915, 'lng': -6.219304919708497}, 'southwest': {'lat': 53.3039949197085, 'lng': -6.222002880291502}}}, 'address_components': [{'long_name': 'University College Dublin', 'types': ['premise'], 'short_name': 'University College Dublin'}, {'long_name': 'Stillorgan Road', 'types': ['route'], 'short_name': 'Stillorgan Rd'}, {'long_name': 'Belfield', 'types': ['political', 'sublocality', 'sublocality_level_1'], 'short_name': 'Belfield'}, {'long_name': 'Dublin 4', 'types': ['postal_town'], 'short_name': 'Dublin 4'}, {'long_name': 'County Dublin', 'types': ['administrative_area_level_1', 'political'], 'short_name': 'County Dublin'}, {'long_name': 'Ireland', 'types': ['country', 'political'], 'short_name': 'IE'}], 'types': ['establishment', 'point_of_interest']}\n"
     ]
    }
   ],
   "source": [
    "result1 = data[\"results\"][0]\n",
    "print(result1)"
   ]
  },
  {
   "cell_type": "code",
   "execution_count": 65,
   "metadata": {
    "collapsed": false
   },
   "outputs": [
    {
     "name": "stdout",
     "output_type": "stream",
     "text": [
      "Geo location is: latitude=53.3053, longitude=-6.2207\n"
     ]
    }
   ],
   "source": [
    "latitude = result1[\"geometry\"][\"location\"][\"lat\"]\n",
    "longitude = result1[\"geometry\"][\"location\"][\"lng\"]\n",
    "print(\"Geo location is: latitude=%.4f, longitude=%.4f\" % (latitude,longitude) )"
   ]
  },
  {
   "cell_type": "code",
   "execution_count": 66,
   "metadata": {
    "collapsed": true
   },
   "outputs": [],
   "source": [
    "# cool"
   ]
  },
  {
   "cell_type": "code",
   "execution_count": null,
   "metadata": {
    "collapsed": true
   },
   "outputs": [],
   "source": []
  }
 ],
 "metadata": {
  "anaconda-cloud": {},
  "kernelspec": {
   "display_name": "Python 3",
   "language": "python",
   "name": "python3"
  },
  "language_info": {
   "codemirror_mode": {
    "name": "ipython",
    "version": 3
   },
   "file_extension": ".py",
   "mimetype": "text/x-python",
   "name": "python",
   "nbconvert_exporter": "python",
   "pygments_lexer": "ipython3",
   "version": "3.5.2"
  }
 },
 "nbformat": 4,
 "nbformat_minor": 0
}
