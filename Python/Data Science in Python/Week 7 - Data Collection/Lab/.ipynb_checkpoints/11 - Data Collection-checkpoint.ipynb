{
 "cells": [
  {
   "cell_type": "markdown",
   "metadata": {},
   "source": [
    "## Data Collection & Data Formats"
   ]
  },
  {
   "cell_type": "markdown",
   "metadata": {},
   "source": [
    "### Downloading Data\n",
    "The built-in Python *urllib.request* module has functions which help in downloading content from HTTP URLs using minimal code."
   ]
  },
  {
   "cell_type": "code",
   "execution_count": null,
   "metadata": {},
   "outputs": [],
   "source": [
    "import urllib.request\n",
    "url = \"http://mlg.ucd.ie/modules/COMP41680/ucd.txt\"\n",
    "response = urllib.request.urlopen(url)\n",
    "text = response.read().decode() # or run a loop for each line and then print it\n",
    "print(text)"
   ]
  },
  {
   "cell_type": "markdown",
   "metadata": {},
   "source": [
    "In practice, we may often want to wrap code to fetch URLs in a try block, to handle the case where we cannot access the URL."
   ]
  },
  {
   "cell_type": "code",
   "execution_count": null,
   "metadata": {},
   "outputs": [],
   "source": [
    "url = \"http://somemissinglink.ucd.ie/ucd.txt\" # intentially giving a wrong link\n",
    "try:\n",
    "    response = urllib.request.urlopen(url)\n",
    "    text = response.read().decode()\n",
    "except:\n",
    "    print(\"Failed to retrieve %s\" % url)"
   ]
  },
  {
   "cell_type": "markdown",
   "metadata": {},
   "source": [
    "### Working with CSV"
   ]
  },
  {
   "cell_type": "markdown",
   "metadata": {},
   "source": [
    "The CSV (\"Comma Separated Values\") file format is often used to exchange tabular data between different applications, like Excel. Essentially a CSV file is a plain text file where values are split by a comma separator. Alternatively can be tab or space separated. \n",
    "\n",
    "We could download a CSV file using *urllib.request* and manually parse it..."
   ]
  },
  {
   "cell_type": "code",
   "execution_count": null,
   "metadata": {},
   "outputs": [],
   "source": [
    "# Download the CSV and store as a string\n",
    "url = \"http://mlg.ucd.ie/modules/COMP41680/goal_scorers.csv\"\n",
    "response = urllib.request.urlopen(url)\n",
    "raw_csv = response.read().decode()\n",
    "# Parse each line\n",
    "lines = raw_csv.split(\"\\n\")\n",
    "for l in lines:\n",
    "    l = l.strip()\n",
    "    if len(l) > 0:\n",
    "        # split based on a comma separator\n",
    "        parts = l.split(\",\")\n",
    "        print(parts)"
   ]
  },
  {
   "cell_type": "markdown",
   "metadata": {},
   "source": [
    "But we can also use Pandas to directly download and parse CSV data for us, to create a Data Frame which is ready to analyse."
   ]
  },
  {
   "cell_type": "code",
   "execution_count": null,
   "metadata": {},
   "outputs": [],
   "source": [
    "import pandas as pd\n",
    "df = pd.read_csv(\"http://mlg.ucd.ie/modules/COMP41680/goal_scorers.csv\")\n",
    "df"
   ]
  },
  {
   "cell_type": "code",
   "execution_count": null,
   "metadata": {},
   "outputs": [],
   "source": [
    "# panda is awesome"
   ]
  },
  {
   "cell_type": "markdown",
   "metadata": {},
   "source": [
    "### Working with JSON"
   ]
  },
  {
   "cell_type": "markdown",
   "metadata": {},
   "source": [
    "[JSON](http://json.org/) is a lightweight format which is becoming increasingly popular for online data exchanged. Based originally on the JavaScript language and (relatively) easy for humans to read and write\n",
    "\n",
    "The built-in module *json* provides an easy way to encode and decode data in JSON in Python."
   ]
  },
  {
   "cell_type": "code",
   "execution_count": null,
   "metadata": {},
   "outputs": [],
   "source": [
    "import json"
   ]
  },
  {
   "cell_type": "markdown",
   "metadata": {},
   "source": [
    "Let's try downloading and parsing a simple JSON file which contains information about a number of books, originally from librarything.com:"
   ]
  },
  {
   "cell_type": "code",
   "execution_count": null,
   "metadata": {},
   "outputs": [],
   "source": [
    "url = \"http://mlg.ucd.ie/modules/COMP41680/books.json\"\n",
    "response = urllib.request.urlopen(url)\n",
    "raw_json = response.read().decode(\"utf-8\")"
   ]
  },
  {
   "cell_type": "code",
   "execution_count": null,
   "metadata": {},
   "outputs": [],
   "source": [
    "print(raw_json)"
   ]
  },
  {
   "cell_type": "markdown",
   "metadata": {},
   "source": [
    "We can now parse the JSON, converting it from a string into a useful Python data structure:"
   ]
  },
  {
   "cell_type": "code",
   "execution_count": null,
   "metadata": {},
   "outputs": [],
   "source": [
    "data = json.loads(raw_json) # conerting JSON objects to python dictionary and JSON array to python list\n",
    "print(data)"
   ]
  },
  {
   "cell_type": "markdown",
   "metadata": {},
   "source": [
    "We can now iterate through the books in the list and extract the relevant information that we require."
   ]
  },
  {
   "cell_type": "code",
   "execution_count": null,
   "metadata": {},
   "outputs": [],
   "source": [
    "for book in data:\n",
    "    print( \"%s = %d\" % ( book[\"title\"], book[\"year\"] ) )"
   ]
  },
  {
   "cell_type": "markdown",
   "metadata": {},
   "source": [
    "### Working with XML"
   ]
  },
  {
   "cell_type": "markdown",
   "metadata": {
    "collapsed": true
   },
   "source": [
    "Extensible Markup Language (XML) is a markup language that defines a set of rules for encoding documents in a format which is both human-readable and machine-readable. XML is a widely-adopted format. Python includes several built-in modules for parsing XML data."
   ]
  },
  {
   "cell_type": "markdown",
   "metadata": {},
   "source": [
    "The *xml.etree.ElementTree* module can be used to extract data from a simple XML file based on its tree structure. "
   ]
  },
  {
   "cell_type": "code",
   "execution_count": null,
   "metadata": {},
   "outputs": [],
   "source": [
    "# download the content\n",
    "url = \"http://mlg.ucd.ie/modules/COMP41680/books.xml\"\n",
    "response = urllib.request.urlopen(url)\n",
    "raw_xml = response.read().decode()\n",
    "print(raw_xml)"
   ]
  },
  {
   "cell_type": "markdown",
   "metadata": {},
   "source": [
    "We can use the *xml.etree.ElementTree.fromstring()* function to parse content from a string containing XML data."
   ]
  },
  {
   "cell_type": "code",
   "execution_count": null,
   "metadata": {},
   "outputs": [],
   "source": [
    "import xml.etree.ElementTree\n",
    "tree = xml.etree.ElementTree.fromstring(raw_xml)\n",
    "#print (tree)"
   ]
  },
  {
   "cell_type": "markdown",
   "metadata": {},
   "source": [
    "An XML tree has a root node (i.e. the top level of the document), with child nodes at lower levels. We can iterate over these:"
   ]
  },
  {
   "cell_type": "code",
   "execution_count": null,
   "metadata": {},
   "outputs": [],
   "source": [
    "for child in tree:\n",
    "    # get the name of the tag, along with any XML attributes which the tag has    \n",
    "    print( child.tag, child.attrib )"
   ]
  },
  {
   "cell_type": "markdown",
   "metadata": {},
   "source": [
    "We can also query to find tags with specific names, such as '<book>' and then in turn find child nodes of that tag with a specific name."
   ]
  },
  {
   "cell_type": "code",
   "execution_count": null,
   "metadata": {},
   "outputs": [],
   "source": [
    "for book in tree.findall(\"book\"):\n",
    "    # get the text inside a <title> tag, contained within a <book> tag\n",
    "    title = book.find(\"title\").text\n",
    "    print(title)"
   ]
  },
  {
   "cell_type": "markdown",
   "metadata": {},
   "source": [
    "### Working with APIs"
   ]
  },
  {
   "cell_type": "markdown",
   "metadata": {},
   "source": [
    "#### Example - Wikipedia"
   ]
  },
  {
   "cell_type": "markdown",
   "metadata": {},
   "source": [
    "As a simple example of using an Online API, we will retrieve JSON data from the Wikipedia web API. The Wikipedia page for 'Belfield' is [here](https://en.wikipedia.org/wiki/Belfield,_Dublin). We can retrieve this data in a cleaner JSON format from the Wikipedia API endpoint (https://en.wikipedia.org/w/api.php)."
   ]
  },
  {
   "cell_type": "code",
   "execution_count": null,
   "metadata": {},
   "outputs": [],
   "source": [
    "title = \"Belfield,_Dublin\"\n",
    "url = \"https://en.wikipedia.org/w/api.php?format=json&action=query&prop=extracts&exintro=true&titles=\" + title\n",
    "print(url)"
   ]
  },
  {
   "cell_type": "code",
   "execution_count": null,
   "metadata": {},
   "outputs": [],
   "source": [
    "response = urllib.request.urlopen(url) # you can even use JSON package\n",
    "raw_json = response.read().decode(\"utf-8\")"
   ]
  },
  {
   "cell_type": "markdown",
   "metadata": {},
   "source": [
    "Once we have downloaded the JSON data into a string, we parse it using the *loads()* function, which will convert it into an actual Python dictionary."
   ]
  },
  {
   "cell_type": "code",
   "execution_count": null,
   "metadata": {},
   "outputs": [],
   "source": [
    "data = json.loads(raw_json) # load and dump\n",
    "data"
   ]
  },
  {
   "cell_type": "markdown",
   "metadata": {},
   "source": [
    "The response still needs to be inspected. Note that the results we want are are in *data[\"query\"][\"pages\"]*:"
   ]
  },
  {
   "cell_type": "code",
   "execution_count": null,
   "metadata": {},
   "outputs": [],
   "source": [
    "print(data[\"query\"][\"pages\"])\n",
    "# going deeper\n",
    "print (\"--------------------------------\")\n",
    "for val in data[\"query\"][\"pages\"]:\n",
    "    print (data[\"query\"][\"pages\"][val][\"extract\"])"
   ]
  },
  {
   "cell_type": "code",
   "execution_count": null,
   "metadata": {},
   "outputs": [],
   "source": [
    "result = data[\"query\"][\"pages\"][\"918146\"]\n",
    "print(result[\"title\"])\n",
    "print(result[\"extract\"])"
   ]
  },
  {
   "cell_type": "markdown",
   "metadata": {},
   "source": [
    "#### Example - Google Maps"
   ]
  },
  {
   "cell_type": "markdown",
   "metadata": {},
   "source": [
    "In the next example, we will use the Google Maps API to get information about a specific named location."
   ]
  },
  {
   "cell_type": "markdown",
   "metadata": {},
   "source": [
    "Note that when we created the URL to retrieve, we convert the location name to quoted form, so that we can create a valid URL:"
   ]
  },
  {
   "cell_type": "code",
   "execution_count": null,
   "metadata": {},
   "outputs": [],
   "source": [
    "import urllib.parse\n",
    "location = \"University College Dublin, Ireland\"\n",
    "quoted_location = urllib.parse.quote(location)\n",
    "print(quoted_location)"
   ]
  },
  {
   "cell_type": "code",
   "execution_count": null,
   "metadata": {},
   "outputs": [],
   "source": [
    "url = \"https://maps.googleapis.com/maps/api/geocode/json?address=%s\" % quoted_location\n",
    "print(url)"
   ]
  },
  {
   "cell_type": "markdown",
   "metadata": {},
   "source": [
    "Retrieve the JSON data from the API using the specified URL. "
   ]
  },
  {
   "cell_type": "code",
   "execution_count": null,
   "metadata": {},
   "outputs": [],
   "source": [
    "response = urllib.request.urlopen(url)\n",
    "raw_json = response.read().decode(\"utf-8\")\n",
    "print(raw_json)"
   ]
  },
  {
   "cell_type": "markdown",
   "metadata": {},
   "source": [
    "Parse the JSON data"
   ]
  },
  {
   "cell_type": "code",
   "execution_count": null,
   "metadata": {},
   "outputs": [],
   "source": [
    "data = json.loads(raw_json)\n",
    "data"
   ]
  },
  {
   "cell_type": "markdown",
   "metadata": {},
   "source": [
    "We see from the above that our query has returned a single result. Now we extract the latitude and longitude for the location for that result:"
   ]
  },
  {
   "cell_type": "code",
   "execution_count": null,
   "metadata": {},
   "outputs": [],
   "source": [
    "result1 = data[\"results\"][0]\n",
    "print(result1)"
   ]
  },
  {
   "cell_type": "code",
   "execution_count": null,
   "metadata": {},
   "outputs": [],
   "source": [
    "latitude = result1[\"geometry\"][\"location\"][\"lat\"]\n",
    "longitude = result1[\"geometry\"][\"location\"][\"lng\"]\n",
    "print(\"Geo location is: latitude=%.4f, longitude=%.4f\" % (latitude,longitude) )"
   ]
  },
  {
   "cell_type": "code",
   "execution_count": null,
   "metadata": {},
   "outputs": [],
   "source": [
    "# cool"
   ]
  }
 ],
 "metadata": {
  "anaconda-cloud": {},
  "kernelspec": {
   "display_name": "Python 3",
   "language": "python",
   "name": "python3"
  },
  "language_info": {
   "codemirror_mode": {
    "name": "ipython",
    "version": 3
   },
   "file_extension": ".py",
   "mimetype": "text/x-python",
   "name": "python",
   "nbconvert_exporter": "python",
   "pygments_lexer": "ipython3",
   "version": "3.6.1"
  }
 },
 "nbformat": 4,
 "nbformat_minor": 1
}
