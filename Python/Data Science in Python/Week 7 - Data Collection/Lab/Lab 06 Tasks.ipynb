{
 "cells": [
  {
   "cell_type": "markdown",
   "metadata": {},
   "source": [
    "## Lab 6 Tasks"
   ]
  },
  {
   "cell_type": "markdown",
   "metadata": {},
   "source": [
    "### Task 1 - JSON Parsing"
   ]
  },
  {
   "cell_type": "markdown",
   "metadata": {},
   "source": [
    "Use Python to download a file containing movie metadata in JSON format from the URL: \"http://mlg.ucd.ie/modules/COMP41680/movies.json\""
   ]
  },
  {
   "cell_type": "code",
   "execution_count": 6,
   "metadata": {
    "collapsed": false
   },
   "outputs": [],
   "source": [
    "import json\n",
    "import urllib.request\n",
    "url = \"http://mlg.ucd.ie/modules/COMP41680/movies.json\"\n",
    "response = urllib.request.urlopen(url)\n",
    "raw_json = response.read().decode(\"utf-8\")"
   ]
  },
  {
   "cell_type": "markdown",
   "metadata": {},
   "source": [
    "Parse the JSON data that you have downloaded."
   ]
  },
  {
   "cell_type": "code",
   "execution_count": 7,
   "metadata": {
    "collapsed": false
   },
   "outputs": [
    {
     "name": "stdout",
     "output_type": "stream",
     "text": [
      "[{'Title': 'London Has Fallen', 'Year': '2016', 'Director': 'Babak Najafi', 'Genre': 'Action, Crime, Thriller', 'Actors': 'Gerard Butler, Morgan Freeman, Charlotte Riley, Angela Bassett', 'Response': 'True', 'Country': 'UK, USA, Bulgaria', 'Metascore': 'N/A', 'Rated': 'N/A', 'Type': 'movie', 'Runtime': '99 min'}, {'Title': 'Deadpool', 'Year': '2016', 'Director': 'Tim Miller', 'Genre': 'Action, Adventure, Comedy', 'Actors': 'Ryan Reynolds, Karan Soni, Ed Skrein, Michael Benyaer', 'Response': 'True', 'Country': 'USA, Canada', 'Metascore': '65', 'Rated': 'R', 'Type': 'movie', 'Runtime': '108 min'}, {'Title': 'Kung Fu Panda 3', 'Year': '2016', 'Director': 'Alessandro Carloni, Jennifer Yuh', 'Genre': 'Animation, Action, Adventure', 'Actors': 'Jack Black, Bryan Cranston, Dustin Hoffman, Angelina Jolie', 'Response': 'True', 'Country': 'China, USA', 'Metascore': '64', 'Rated': 'PG', 'Type': 'movie', 'Runtime': '95 min'}, {'Title': 'Spectre', 'Year': '2015', 'Director': 'Sam Mendes', 'Genre': 'Action, Adventure, Thriller', 'Actors': 'Daniel Craig, Christoph Waltz, Léa Seydoux, Ralph Fiennes', 'Response': 'True', 'Country': 'UK, USA', 'Metascore': '60', 'Rated': 'PG-13', 'Type': 'movie', 'Runtime': '148 min'}, {'Title': 'Brooklyn', 'Year': '2015', 'Director': 'John Crowley', 'Genre': 'Drama, Romance', 'Actors': 'Saoirse Ronan, Hugh Gormley, Brid Brennan, Jim Broadbent', 'Response': 'True', 'Country': 'Ireland, UK, Canada', 'Metascore': '87', 'Rated': 'PG-13', 'Type': 'movie', 'Runtime': '111 min'}, {'Title': 'The Revenant', 'Year': '2015', 'Director': 'Alejandro González Iñárritu', 'Genre': 'Adventure, Drama, Thriller', 'Actors': 'Leonardo DiCaprio, Tom Hardy, Domhnall Gleeson, Will Poulter', 'Response': 'True', 'Country': 'USA', 'Metascore': '76', 'Rated': 'R', 'Type': 'movie', 'Runtime': '156 min'}]\n"
     ]
    }
   ],
   "source": [
    "data = json.loads(raw_json) \n",
    "print (data)"
   ]
  },
  {
   "cell_type": "markdown",
   "metadata": {},
   "source": [
    "From the parsed JSON data, print a list of the all of the movie titles, along with the duration of each movie."
   ]
  },
  {
   "cell_type": "code",
   "execution_count": 12,
   "metadata": {
    "collapsed": false,
    "scrolled": true
   },
   "outputs": [
    {
     "name": "stdout",
     "output_type": "stream",
     "text": [
      "Title: London Has Fallen \n",
      " Duration: 99 min\n",
      "Title: Deadpool \n",
      " Duration: 108 min\n",
      "Title: Kung Fu Panda 3 \n",
      " Duration: 95 min\n",
      "Title: Spectre \n",
      " Duration: 148 min\n",
      "Title: Brooklyn \n",
      " Duration: 111 min\n",
      "Title: The Revenant \n",
      " Duration: 156 min\n"
     ]
    }
   ],
   "source": [
    "for movie in data:    \n",
    "    print (\"Title:\", movie[\"Title\"], \"\\n\", \"Duration:\", movie[\"Runtime\"])"
   ]
  },
  {
   "cell_type": "markdown",
   "metadata": {},
   "source": [
    "Extract the genre information for each movie."
   ]
  },
  {
   "cell_type": "code",
   "execution_count": 13,
   "metadata": {
    "collapsed": false
   },
   "outputs": [
    {
     "name": "stdout",
     "output_type": "stream",
     "text": [
      "Title: London Has Fallen \n",
      " Genre: Action, Crime, Thriller\n",
      "Title: Deadpool \n",
      " Genre: Action, Adventure, Comedy\n",
      "Title: Kung Fu Panda 3 \n",
      " Genre: Animation, Action, Adventure\n",
      "Title: Spectre \n",
      " Genre: Action, Adventure, Thriller\n",
      "Title: Brooklyn \n",
      " Genre: Drama, Romance\n",
      "Title: The Revenant \n",
      " Genre: Adventure, Drama, Thriller\n"
     ]
    }
   ],
   "source": [
    "for movie in data:\n",
    "    print (\"Title:\", movie[\"Title\"], \"\\n\", \"Genre:\", movie[\"Genre\"])"
   ]
  },
  {
   "cell_type": "markdown",
   "metadata": {},
   "source": [
    "### Task 2 - XML Parsing"
   ]
  },
  {
   "cell_type": "markdown",
   "metadata": {},
   "source": [
    "Use Python to download a file containing a contact list in XML format from the URL: \"http://mlg.ucd.ie/modules/COMP41680/contacts.xml\""
   ]
  },
  {
   "cell_type": "code",
   "execution_count": 30,
   "metadata": {
    "collapsed": false
   },
   "outputs": [
    {
     "name": "stdout",
     "output_type": "stream",
     "text": [
      "<?xml version=\"1.0\"?>\n",
      "<contacts>\n",
      "  <contact>\n",
      "    <name>John Smith</name>\n",
      "    <phone>085-456-7890</phone>\n",
      "    <email>johnsmith243@gmail.com</email>\n",
      "  </contact>\n",
      "  <contact>\n",
      "    <name>Alice Murphy</name>\n",
      "    <phone>086-456-7891</phone>\n",
      "    <email>alice.murphy12@ucd.ie</email>\n",
      "  </contact>\n",
      "  <contact>\n",
      "    <name>Joe Adams</name>\n",
      "    <phone>086-222-4654</phone>\n",
      "    <email>joeadams2016@tcd.ie</email>\n",
      "  </contact>\n",
      "  <contact>\n",
      "    <name>Carol Conroy</name>\n",
      "    <phone>087-131-1331</phone>\n",
      "    <email>cconry1342@gmail.com</email>\n",
      "  </contact>\n",
      "  <contact>\n",
      "    <name>Mary Carthy</name>\n",
      "    <phone>086-221-7433</phone>\n",
      "    <email>mcarthy1987@ucd.ie</email>\n",
      "  </contact>\n",
      "</contacts>\n"
     ]
    }
   ],
   "source": [
    "url = \"http://mlg.ucd.ie/modules/COMP41680/contacts.xml\"\n",
    "response = urllib.request.urlopen(url)\n",
    "raw_xml = response.read().decode()\n",
    "print (raw_xml)"
   ]
  },
  {
   "cell_type": "markdown",
   "metadata": {},
   "source": [
    "Parse the XML data that you have downloaded."
   ]
  },
  {
   "cell_type": "code",
   "execution_count": 32,
   "metadata": {
    "collapsed": false
   },
   "outputs": [],
   "source": [
    "import xml.etree.ElementTree\n",
    "tree = xml.etree.ElementTree.fromstring(raw_xml)"
   ]
  },
  {
   "cell_type": "markdown",
   "metadata": {},
   "source": [
    "From the parsed XML data, extract the name, email address and phone number of each contact."
   ]
  },
  {
   "cell_type": "code",
   "execution_count": 38,
   "metadata": {
    "collapsed": false
   },
   "outputs": [
    {
     "name": "stdout",
     "output_type": "stream",
     "text": [
      "Contacts:\n",
      "---------------------------\n",
      "John Smith\n",
      "johnsmith243@gmail.com\n",
      "085-456-7890\n",
      "---------------------------\n",
      "Alice Murphy\n",
      "alice.murphy12@ucd.ie\n",
      "086-456-7891\n",
      "---------------------------\n",
      "Joe Adams\n",
      "joeadams2016@tcd.ie\n",
      "086-222-4654\n",
      "---------------------------\n",
      "Carol Conroy\n",
      "cconry1342@gmail.com\n",
      "087-131-1331\n",
      "---------------------------\n",
      "Mary Carthy\n",
      "mcarthy1987@ucd.ie\n",
      "086-221-7433\n"
     ]
    }
   ],
   "source": [
    "print (\"Contacts:\")\n",
    "for child in tree:\n",
    "    print (\"---------------------------\")\n",
    "    print (child.find(\"name\").text)\n",
    "    print (child.find(\"email\").text)\n",
    "    print (child.find(\"phone\").text)    "
   ]
  },
  {
   "cell_type": "code",
   "execution_count": null,
   "metadata": {
    "collapsed": true
   },
   "outputs": [],
   "source": []
  }
 ],
 "metadata": {
  "anaconda-cloud": {},
  "kernelspec": {
   "display_name": "Python 3",
   "language": "python",
   "name": "python3"
  },
  "language_info": {
   "codemirror_mode": {
    "name": "ipython",
    "version": 3
   },
   "file_extension": ".py",
   "mimetype": "text/x-python",
   "name": "python",
   "nbconvert_exporter": "python",
   "pygments_lexer": "ipython3",
   "version": "3.5.2"
  }
 },
 "nbformat": 4,
 "nbformat_minor": 0
}
