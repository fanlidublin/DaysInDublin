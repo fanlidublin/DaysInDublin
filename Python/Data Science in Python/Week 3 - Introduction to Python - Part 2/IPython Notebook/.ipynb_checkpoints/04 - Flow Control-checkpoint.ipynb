{
 "cells": [
  {
   "cell_type": "markdown",
   "metadata": {},
   "source": [
    "## Flow Control"
   ]
  },
  {
   "cell_type": "markdown",
   "metadata": {},
   "source": [
    "### If statements\n",
    "These statements select code to execute based on the value of a specified boolean expression - i.e. is the expression True or False. The simplest form has just one condition after the *if* keyword. The subsequent code block will be executed if that conditions is True, otherwise it will be skipped."
   ]
  },
  {
   "cell_type": "code",
   "execution_count": 1,
   "metadata": {
    "collapsed": false
   },
   "outputs": [
    {
     "name": "stdout",
     "output_type": "stream",
     "text": [
      "y is greater\n"
     ]
    }
   ],
   "source": [
    "x = 3 \n",
    "y = 4\n",
    "if x < y:\n",
    "    print(\"y is greater\")    # code block"
   ]
  },
  {
   "cell_type": "markdown",
   "metadata": {},
   "source": [
    "We can also include the *elif* keyword with an alternative condition. If the first condition is False and the second condition is True, the second code block will be executed:"
   ]
  },
  {
   "cell_type": "code",
   "execution_count": 1,
   "metadata": {
    "collapsed": false
   },
   "outputs": [
    {
     "name": "stdout",
     "output_type": "stream",
     "text": [
      "values are equal\n"
     ]
    }
   ],
   "source": [
    "a = 5 \n",
    "b = 5\n",
    "if a > b:\n",
    "    print(\"a is greater\")      # first code block\n",
    "elif a == b:\n",
    "    print(\"values are equal\")  # alternative code block"
   ]
  },
  {
   "cell_type": "markdown",
   "metadata": {},
   "source": [
    "We can also add a \"last resort\" code block after the *else* keyword, which is executed if none of the previous conditions evaluate to True:"
   ]
  },
  {
   "cell_type": "code",
   "execution_count": 2,
   "metadata": {
    "collapsed": false
   },
   "outputs": [
    {
     "name": "stdout",
     "output_type": "stream",
     "text": [
      "last resort, w must be greater\n"
     ]
    }
   ],
   "source": [
    "v = 9\n",
    "w = 10\n",
    "if v > w:\n",
    "    print(\"v is greater\")      # first branch\n",
    "elif v == w:\n",
    "    print(\"both values are equal\")  # alternative branch\n",
    "else: \n",
    "    print(\"last resort, w must be greater\")      # last resort"
   ]
  },
  {
   "cell_type": "markdown",
   "metadata": {},
   "source": [
    "### While Loops"
   ]
  },
  {
   "cell_type": "markdown",
   "metadata": {},
   "source": [
    "While loops repeatedly execute a block of code as long as a specified Boolean expression remains True."
   ]
  },
  {
   "cell_type": "code",
   "execution_count": 3,
   "metadata": {
    "collapsed": false
   },
   "outputs": [
    {
     "name": "stdout",
     "output_type": "stream",
     "text": [
      "('x is currently', 5)\n",
      "('x is currently', 6)\n",
      "('x is currently', 7)\n",
      "('x is currently', 8)\n",
      "('x is currently', 9)\n"
     ]
    }
   ],
   "source": [
    "x = 5\n",
    "while x < 10:                    # header line with condition\n",
    "    print(\"x is currently\", x)   # code block\n",
    "    x = x + 1"
   ]
  },
  {
   "cell_type": "markdown",
   "metadata": {},
   "source": [
    "If the condition never holds True, then the code block will never be executed:"
   ]
  },
  {
   "cell_type": "code",
   "execution_count": 4,
   "metadata": {
    "collapsed": true
   },
   "outputs": [],
   "source": [
    "y = 10\n",
    "while y < 4:\n",
    "    print(y)    # this code block will not be executed"
   ]
  },
  {
   "cell_type": "markdown",
   "metadata": {},
   "source": [
    "A number of special keywords can alter the execution of a while loop. Most commonly, the *break* keyword \"breaks out\" of the loop, so that the block of code is no longer executed."
   ]
  },
  {
   "cell_type": "code",
   "execution_count": 5,
   "metadata": {
    "collapsed": false
   },
   "outputs": [
    {
     "name": "stdout",
     "output_type": "stream",
     "text": [
      "('z is', 1)\n",
      "('z is', 2)\n",
      "('z is', 3)\n",
      "('breaking out of loop when z is', 3)\n"
     ]
    }
   ],
   "source": [
    "z = 1\n",
    "while z < 8:\n",
    "    print(\"z is\",z)\n",
    "    if z%3 == 0:\n",
    "        print(\"breaking out of loop when z is\",z)\n",
    "        break\n",
    "    z += 1"
   ]
  },
  {
   "cell_type": "markdown",
   "metadata": {},
   "source": [
    "### For loops"
   ]
  },
  {
   "cell_type": "markdown",
   "metadata": {},
   "source": [
    "For loops iterate over a sequence and repeatedly apply a block of code to each item in the sequence. They can be applied to the items in any ordered sequence or other iterable object - e.g. a list, a tuple, a set, or the output of a function."
   ]
  },
  {
   "cell_type": "code",
   "execution_count": 6,
   "metadata": {
    "collapsed": false
   },
   "outputs": [
    {
     "name": "stdout",
     "output_type": "stream",
     "text": [
      "2.5\n",
      "4.2\n",
      "3.1\n",
      "6.7\n",
      "8.9\n"
     ]
    }
   ],
   "source": [
    "vals = [2.5, 4.2, 3.1, 6.7, 8.9]\n",
    "for v in vals:\n",
    "    print(v)"
   ]
  },
  {
   "cell_type": "markdown",
   "metadata": {},
   "source": [
    "Items in the sequence being iterated over can have any type:"
   ]
  },
  {
   "cell_type": "code",
   "execution_count": 4,
   "metadata": {
    "collapsed": false
   },
   "outputs": [
    {
     "name": "stdout",
     "output_type": "stream",
     "text": [
      "('Next item is', 'UCD')\n",
      "('Next item is', 2020)\n",
      "('Next item is', True)\n",
      "('Next item is', 0.0123)\n"
     ]
    }
   ],
   "source": [
    "mylist = [\"UCD\",2020,True,0.0123]\n",
    "for x in mylist:\n",
    "    print(\"Next item is\",x)"
   ]
  },
  {
   "cell_type": "markdown",
   "metadata": {},
   "source": [
    "Iterating over a *set* is the same as iterating over a list with a *for* loop:"
   ]
  },
  {
   "cell_type": "code",
   "execution_count": 7,
   "metadata": {
    "collapsed": false
   },
   "outputs": [
    {
     "name": "stdout",
     "output_type": "stream",
     "text": [
      "Italy\n",
      "Germany\n",
      "Ireland\n",
      "France\n"
     ]
    }
   ],
   "source": [
    "countries = set([\"Ireland\",\"France\",\"Germany\",\"Italy\"])\n",
    "for country in countries:\n",
    "    print(country)"
   ]
  },
  {
   "cell_type": "markdown",
   "metadata": {},
   "source": [
    "We can also easily iterate over the keys in a dictionary using a *for* loop:"
   ]
  },
  {
   "cell_type": "code",
   "execution_count": 8,
   "metadata": {
    "collapsed": false
   },
   "outputs": [
    {
     "name": "stdout",
     "output_type": "stream",
     "text": [
      "('Germany', '=', 'Berlin')\n",
      "('Italy', '=', 'Rome')\n",
      "('Ireland', '=', 'Dublin')\n"
     ]
    }
   ],
   "source": [
    "capitals = { \"Italy\":\"Rome\", \"Ireland\":\"Dublin\", \"Germany\":\"Berlin\" }\n",
    "for country in capitals:\n",
    "    print(country, \"=\", capitals[country])"
   ]
  },
  {
   "cell_type": "markdown",
   "metadata": {},
   "source": [
    "**Numeric Ranges**: To iterate over a sequence of numbers, the built-in function *range()* is frequently used to generate arithmetic integer sequences. It can be used in several different ways:"
   ]
  },
  {
   "cell_type": "code",
   "execution_count": 9,
   "metadata": {
    "collapsed": false
   },
   "outputs": [
    {
     "name": "stdout",
     "output_type": "stream",
     "text": [
      "0\n",
      "1\n",
      "2\n",
      "3\n"
     ]
    }
   ],
   "source": [
    "# Iterate over a sequence starting at 0 and ending before 4:\n",
    "for i in range(4):\n",
    "    print(i)"
   ]
  },
  {
   "cell_type": "code",
   "execution_count": 10,
   "metadata": {
    "collapsed": false
   },
   "outputs": [
    {
     "name": "stdout",
     "output_type": "stream",
     "text": [
      "3\n",
      "4\n",
      "5\n",
      "6\n",
      "7\n"
     ]
    }
   ],
   "source": [
    "# Iterate over a sequence starting at 3 and ending before 8:\n",
    "for i in range(3,8):\n",
    "    print(i)"
   ]
  },
  {
   "cell_type": "code",
   "execution_count": 11,
   "metadata": {
    "collapsed": false
   },
   "outputs": [
    {
     "name": "stdout",
     "output_type": "stream",
     "text": [
      "5\n",
      "9\n",
      "13\n",
      "17\n"
     ]
    }
   ],
   "source": [
    "# Iterate over a sequence starting at 5, ending before 20, and incrementing by 4 at each step:\n",
    "for i in range(5,20,4):\n",
    "    print(i)"
   ]
  },
  {
   "cell_type": "markdown",
   "metadata": {},
   "source": [
    "We can also include a negative step size, where we start at a larger number and end before a smaller number."
   ]
  },
  {
   "cell_type": "code",
   "execution_count": 12,
   "metadata": {
    "collapsed": false
   },
   "outputs": [
    {
     "name": "stdout",
     "output_type": "stream",
     "text": [
      "40\n",
      "35\n",
      "30\n",
      "25\n"
     ]
    }
   ],
   "source": [
    "# Start at 40, ending before 20, and decrementing by 5 each time (i.e adding -5):\n",
    "for i in range(40,20,-5):\n",
    "    print(i)"
   ]
  },
  {
   "cell_type": "markdown",
   "metadata": {},
   "source": [
    "Note that the output of *range()* is not actually a list. If we want to convert it to one, we need to call the *list()* function:"
   ]
  },
  {
   "cell_type": "code",
   "execution_count": 13,
   "metadata": {
    "collapsed": false
   },
   "outputs": [
    {
     "data": {
      "text/plain": [
       "[5, 9, 13, 17]"
      ]
     },
     "execution_count": 13,
     "metadata": {},
     "output_type": "execute_result"
    }
   ],
   "source": [
    "list(range(5,20,4))"
   ]
  },
  {
   "cell_type": "code",
   "execution_count": 14,
   "metadata": {
    "collapsed": false
   },
   "outputs": [
    {
     "name": "stdout",
     "output_type": "stream",
     "text": [
      "[0, 1, 2, 3, 4, 5, 6, 7, 8, 9]\n"
     ]
    }
   ],
   "source": [
    "a = list(range(0, 10, 1))\n",
    "print (a)"
   ]
  },
  {
   "cell_type": "code",
   "execution_count": null,
   "metadata": {
    "collapsed": true
   },
   "outputs": [],
   "source": []
  }
 ],
 "metadata": {
  "anaconda-cloud": {},
  "kernelspec": {
   "display_name": "Python [default]",
   "language": "python",
   "name": "python2"
  },
  "language_info": {
   "codemirror_mode": {
    "name": "ipython",
    "version": 2
   },
   "file_extension": ".py",
   "mimetype": "text/x-python",
   "name": "python",
   "nbconvert_exporter": "python",
   "pygments_lexer": "ipython2",
   "version": "2.7.12"
  }
 },
 "nbformat": 4,
 "nbformat_minor": 0
}
