{
 "cells": [
  {
   "cell_type": "markdown",
   "metadata": {},
   "source": [
    "<h1>Connectionist Computing (COMP30230/41390) - Programming Assignment</h1>\n",
    "<h3>(Mandatory Part)</h3>\n",
    "<br>\n",
    "Student Name: **Fan Li** <br>\n",
    "Student Number: **16212155** "
   ]
  },
  {
   "cell_type": "markdown",
   "metadata": {},
   "source": [
    "-------"
   ]
  },
  {
   "cell_type": "markdown",
   "metadata": {},
   "source": [
    "<h3> Task1 - Multilayer Perceptron (MLP) for XOR function: </h3>"
   ]
  },
  {
   "cell_type": "markdown",
   "metadata": {},
   "source": [
    "<h4> Import packages for calculation, plotting and pre-processing</h4>"
   ]
  },
  {
   "cell_type": "code",
   "execution_count": 1,
   "metadata": {},
   "outputs": [],
   "source": [
    "import numpy as np\n",
    "import matplotlib\n",
    "from matplotlib import pyplot as plt\n",
    "matplotlib.style.use('ggplot')\n",
    "import pandas as pd\n",
    "%matplotlib inline"
   ]
  },
  {
   "cell_type": "markdown",
   "metadata": {},
   "source": [
    "<h4> MLP class for mandatory part</h4>"
   ]
  },
  {
   "cell_type": "code",
   "execution_count": 2,
   "metadata": {},
   "outputs": [],
   "source": [
    "class MLP(object):\n",
    "    def __init__(self, NI, NH, NO):\n",
    "        self.NI = NI  # the number of input layer\n",
    "        self.NH = NH  # the number of hidden layer\n",
    "        self.NO = NO  # the number of output layer\n",
    "        np.random.seed(4)  # for reproducibility\n",
    "        # Initialize the weights with normalization\n",
    "        self.W1 = np.random.randn(self.NI, self.NH) / np.sqrt(self.NI)  # weights for lower layer (input layer to hidden layer)\n",
    "        self.W2 = np.random.randn(self.NH, self.NO) / np.sqrt(self.NH)  # weights for upper layer (hidden layer to output layer)\n",
    "    \n",
    "    def forward(self, X):\n",
    "        ''' The forward propagation through the network '''\n",
    "        self.z1 = np.dot(X, self.W1)  \n",
    "        self.h = self.tanh(self.z1)  # activation on hidden layer\n",
    "        self.z2 = np.dot(self.h, self.W2) \n",
    "        o = self.tanh(self.z2)  # activation on output layer\n",
    "        return o \n",
    "    \n",
    "    def backward(self, X, y, o):\n",
    "        ''' The backward propagation through the network '''\n",
    "        self.o_error = o - y \n",
    "        self.o_delta = self.tanhPrime(o) * self.o_error  # derivative of tanh to error on output layer\n",
    "        self.h_error = np.dot(self.o_delta, self.W2.T)  # the error on hidden layer\n",
    "        self.h_delta = self.tanhPrime(self.h) * self.h_error  # derivative of tanh to error on hidden layer\n",
    "\n",
    "    def updateWeights(self, X, learning_rate):\n",
    "        ''' Adjust weights using learning rata '''\n",
    "        self.W2 -= learning_rate * np.dot(self.h.T, self.o_delta) \n",
    "        self.W1 -= learning_rate * np.dot(X.T, self.h_delta) \n",
    "        \n",
    "    def train(self, X, y, rate):\n",
    "        o = self.forward(X)\n",
    "        self.backward(X, y, o)\n",
    "        self.updateWeights(X, rate)\n",
    "    \n",
    "    def tanh(self, z):\n",
    "        return np.tanh(z)\n",
    "    \n",
    "    def tanhPrime(self, z):\n",
    "        return (1 - (z ** 2))"
   ]
  },
  {
   "cell_type": "markdown",
   "metadata": {},
   "source": [
    "<h4> Prepare the data set</h4>"
   ]
  },
  {
   "cell_type": "code",
   "execution_count": 3,
   "metadata": {},
   "outputs": [],
   "source": [
    "X = np.array([[0, 0], [0, 1], [1, 0], [1, 1]])\n",
    "y = np.array([[0], \n",
    "              [1], \n",
    "              [1], \n",
    "              [0]])"
   ]
  },
  {
   "cell_type": "markdown",
   "metadata": {},
   "source": [
    "<h4> Construct a mlp instance with (2 input layer units, 2 hidden layer units, 1 output layer unit) </h4>"
   ]
  },
  {
   "cell_type": "code",
   "execution_count": 4,
   "metadata": {},
   "outputs": [],
   "source": [
    "mlp1 = MLP(2,2,1)"
   ]
  },
  {
   "cell_type": "markdown",
   "metadata": {},
   "source": [
    "<h4> Check the predictions before traing</h4>"
   ]
  },
  {
   "cell_type": "code",
   "execution_count": 5,
   "metadata": {},
   "outputs": [
    {
     "name": "stdout",
     "output_type": "stream",
     "text": [
      "\n",
      "Before:\n",
      "\n",
      "Target:[0]\tOutput:[ 0.]\n",
      "Target:[1]\tOutput:[-0.3183239]\n",
      "Target:[1]\tOutput:[-0.37218776]\n",
      "Target:[0]\tOutput:[-0.53565719]\n"
     ]
    }
   ],
   "source": [
    "print('\\nBefore:\\n')\n",
    "for i in range(len(X)):\n",
    "    print('Target:' + str(y[i]) + '\\t' + 'Output:' + str(mlp1.forward(X[i])))"
   ]
  },
  {
   "cell_type": "markdown",
   "metadata": {},
   "source": [
    "<h4> The training process</h4>"
   ]
  },
  {
   "cell_type": "code",
   "execution_count": 6,
   "metadata": {
    "scrolled": false
   },
   "outputs": [
    {
     "name": "stdout",
     "output_type": "stream",
     "text": [
      "***********************Model training start***********************\n",
      "50000(Epoch)\tError:\t0.000454913007505\n",
      "100000(Epoch)\tError:\t0.000264293511324\n",
      "150000(Epoch)\tError:\t0.000192013509523\n",
      "200000(Epoch)\tError:\t0.00015291810102\n",
      "250000(Epoch)\tError:\t0.000128088478427\n",
      "300000(Epoch)\tError:\t0.000110781539882\n",
      "350000(Epoch)\tError:\t9.79589811484e-05\n",
      "400000(Epoch)\tError:\t8.80393240009e-05\n",
      "450000(Epoch)\tError:\t8.01139010987e-05\n",
      "500000(Epoch)\tError:\t7.36214980222e-05\n",
      "550000(Epoch)\tError:\t6.81957894826e-05\n",
      "600000(Epoch)\tError:\t6.35869691279e-05\n",
      "650000(Epoch)\tError:\t5.96185302779e-05\n",
      "700000(Epoch)\tError:\t5.61620346268e-05\n",
      "750000(Epoch)\tError:\t5.3121676709e-05\n",
      "800000(Epoch)\tError:\t5.04244638664e-05\n",
      "850000(Epoch)\tError:\t4.80137573149e-05\n",
      "900000(Epoch)\tError:\t4.58449003946e-05\n",
      "950000(Epoch)\tError:\t4.38821848052e-05\n",
      "1000000(Epoch)\tError:\t4.20966986914e-05\n",
      "1050000(Epoch)\tError:\t4.04647703239e-05\n",
      "1100000(Epoch)\tError:\t3.89668228886e-05\n",
      "1150000(Epoch)\tError:\t3.75865185716e-05\n",
      "1200000(Epoch)\tError:\t3.63101098396e-05\n",
      "1250000(Epoch)\tError:\t3.51259414395e-05\n",
      "1300000(Epoch)\tError:\t3.40240636535e-05\n",
      "1350000(Epoch)\tError:\t3.29959287399e-05\n",
      "1400000(Epoch)\tError:\t3.2034150327e-05\n",
      "1450000(Epoch)\tError:\t3.11323109862e-05\n",
      "1500000(Epoch)\tError:\t3.02848070487e-05\n",
      "1550000(Epoch)\tError:\t2.94867224805e-05\n",
      "1600000(Epoch)\tError:\t2.87337256442e-05\n",
      "1650000(Epoch)\tError:\t2.80219842242e-05\n",
      "1700000(Epoch)\tError:\t2.73480946623e-05\n",
      "1750000(Epoch)\tError:\t2.67090233247e-05\n",
      "1800000(Epoch)\tError:\t2.61020571215e-05\n",
      "1850000(Epoch)\tError:\t2.55247619015e-05\n",
      "1900000(Epoch)\tError:\t2.49749471839e-05\n",
      "1950000(Epoch)\tError:\t2.44506361457e-05\n",
      "2000000(Epoch)\tError:\t2.39500399664e-05\n",
      "2050000(Epoch)\tError:\t2.34715357972e-05\n",
      "2100000(Epoch)\tError:\t2.30136477786e-05\n",
      "2150000(Epoch)\tError:\t2.25750306222e-05\n",
      "2200000(Epoch)\tError:\t2.21544553556e-05\n",
      "2250000(Epoch)\tError:\t2.17507969037e-05\n",
      "2300000(Epoch)\tError:\t2.13630232411e-05\n",
      "2350000(Epoch)\tError:\t2.09901858809e-05\n",
      "2400000(Epoch)\tError:\t2.06314115151e-05\n",
      "2450000(Epoch)\tError:\t2.02858946448e-05\n",
      "2500000(Epoch)\tError:\t1.99528910628e-05\n",
      "***********************Model training end***********************\n"
     ]
    }
   ],
   "source": [
    "loss_message = dict()\n",
    "print(\"***********************Model training start***********************\")\n",
    "for i in range(2500000):\n",
    "    mlp1.train(X, y, 0.5)\n",
    "    loss = np.mean(np.square(y - mlp1.forward(X)))\n",
    "    if (i + 1) % 50000 == 0:\n",
    "        loss_message[(i+1)] = loss\n",
    "        print(str(i + 1) + '(Epoch)\\t' + 'Error:\\t' + str(loss))\n",
    "print(\"***********************Model training end***********************\")"
   ]
  },
  {
   "cell_type": "markdown",
   "metadata": {},
   "source": [
    "<h4> Plot the error through the training process</h4>"
   ]
  },
  {
   "cell_type": "code",
   "execution_count": 7,
   "metadata": {},
   "outputs": [
    {
     "data": {
      "text/plain": [
       "Text(0,0.5,'Error')"
      ]
     },
     "execution_count": 7,
     "metadata": {},
     "output_type": "execute_result"
    },
    {
     "data": {
      "image/png": "[encoded data removed]",
      "text/plain": [
       "<Figure size 432x288 with 1 Axes>"
      ]
     },
     "metadata": {},
     "output_type": "display_data"
    }
   ],
   "source": [
    "plt.plot([i for i in loss_message],[loss_message[i] for i in loss_message])\n",
    "plt.title(\"MLP for XOR\")\n",
    "plt.xlabel('Epoch')\n",
    "plt.ylabel('Error')"
   ]
  },
  {
   "cell_type": "markdown",
   "metadata": {},
   "source": [
    "<h4> Check the predictions at the end of training</h4>"
   ]
  },
  {
   "cell_type": "code",
   "execution_count": 8,
   "metadata": {},
   "outputs": [
    {
     "name": "stdout",
     "output_type": "stream",
     "text": [
      "After:\n",
      "Target:[0]\tOutput:[ 0.]\n",
      "Target:[1]\tOutput:[ 0.9973459]\n",
      "Target:[1]\tOutput:[ 0.9973459]\n",
      "Target:[0]\tOutput:[-0.00810698]\n"
     ]
    }
   ],
   "source": [
    "print('After:')\n",
    "for i in range(len(X)):\n",
    "    length = len(str(i))\n",
    "    print('Target:' + str(y[i]) + '\\t' + 'Output:' + str(mlp1.forward(X[i])))"
   ]
  },
  {
   "cell_type": "markdown",
   "metadata": {},
   "source": [
    "---------"
   ]
  },
  {
   "cell_type": "markdown",
   "metadata": {},
   "source": [
    "<h3> Task2 - Multilayer Perceptron (MLP) for Sine function: </h3>"
   ]
  },
  {
   "cell_type": "markdown",
   "metadata": {},
   "source": [
    "<h4> Prepare the data set, generate 50 vectors</h4>"
   ]
  },
  {
   "cell_type": "code",
   "execution_count": 9,
   "metadata": {},
   "outputs": [],
   "source": [
    "x_sin = []\n",
    "for i in range (50):\n",
    "    vector = list(np.random.uniform(-1.0, 1.0, 4))\n",
    "    x_sin.append(vector)\n",
    "x_sin = np.array(x_sin)\n",
    "y = np.array(np.sin([i[0] - i[1] + i[2] - i[3] for i in x_sin]))\n",
    "y_sin = np.reshape(y, (50, 1))"
   ]
  },
  {
   "cell_type": "markdown",
   "metadata": {},
   "source": [
    "<h4> Split the data set (40 examples for training, 10 examples for testing)</h4>"
   ]
  },
  {
   "cell_type": "code",
   "execution_count": 10,
   "metadata": {},
   "outputs": [],
   "source": [
    "x_sin_train = x_sin[:40]\n",
    "x_sin_test = x_sin[40:]\n",
    "y_sin_train = y_sin[:40]\n",
    "y_sin_test= y_sin[40:]"
   ]
  },
  {
   "cell_type": "code",
   "execution_count": 11,
   "metadata": {},
   "outputs": [
    {
     "data": {
      "text/plain": [
       "(40, 4)"
      ]
     },
     "execution_count": 11,
     "metadata": {},
     "output_type": "execute_result"
    }
   ],
   "source": [
    "x_sin_train.shape"
   ]
  },
  {
   "cell_type": "code",
   "execution_count": 12,
   "metadata": {},
   "outputs": [
    {
     "data": {
      "text/plain": [
       "(40, 1)"
      ]
     },
     "execution_count": 12,
     "metadata": {},
     "output_type": "execute_result"
    }
   ],
   "source": [
    "y_sin_train.shape"
   ]
  },
  {
   "cell_type": "code",
   "execution_count": 13,
   "metadata": {},
   "outputs": [
    {
     "data": {
      "text/plain": [
       "(10, 4)"
      ]
     },
     "execution_count": 13,
     "metadata": {},
     "output_type": "execute_result"
    }
   ],
   "source": [
    "x_sin_test.shape"
   ]
  },
  {
   "cell_type": "code",
   "execution_count": 14,
   "metadata": {},
   "outputs": [
    {
     "data": {
      "text/plain": [
       "(10, 1)"
      ]
     },
     "execution_count": 14,
     "metadata": {},
     "output_type": "execute_result"
    }
   ],
   "source": [
    "y_sin_test.shape"
   ]
  },
  {
   "cell_type": "markdown",
   "metadata": {},
   "source": [
    "<h4> Construct a mlp instance with (4 input layer units, 5 hidden layer units, 1 output layer unit) </h4>"
   ]
  },
  {
   "cell_type": "code",
   "execution_count": 15,
   "metadata": {},
   "outputs": [],
   "source": [
    "mlp2 = MLP(4,5,1)"
   ]
  },
  {
   "cell_type": "markdown",
   "metadata": {},
   "source": [
    "<h4> The training process</h4>"
   ]
  },
  {
   "cell_type": "code",
   "execution_count": 16,
   "metadata": {
    "scrolled": false
   },
   "outputs": [
    {
     "name": "stdout",
     "output_type": "stream",
     "text": [
      "***********************Model training start***********************\n",
      "2000(Epoch)\tError:\t0.0151986884867\n",
      "4000(Epoch)\tError:\t0.015059360289\n",
      "6000(Epoch)\tError:\t0.0148648250299\n",
      "8000(Epoch)\tError:\t0.0145307404161\n",
      "10000(Epoch)\tError:\t0.0136797834218\n",
      "12000(Epoch)\tError:\t0.0107706284526\n",
      "14000(Epoch)\tError:\t0.00626107972781\n",
      "16000(Epoch)\tError:\t0.00411909380781\n",
      "18000(Epoch)\tError:\t0.00330239741717\n",
      "20000(Epoch)\tError:\t0.00283342136497\n",
      "22000(Epoch)\tError:\t0.00251687712169\n",
      "24000(Epoch)\tError:\t0.00230112188055\n",
      "26000(Epoch)\tError:\t0.00214662332268\n",
      "28000(Epoch)\tError:\t0.00202811481086\n",
      "30000(Epoch)\tError:\t0.00193181111324\n",
      "32000(Epoch)\tError:\t0.00184978644591\n",
      "34000(Epoch)\tError:\t0.00177737105615\n",
      "36000(Epoch)\tError:\t0.00171179279599\n",
      "38000(Epoch)\tError:\t0.0016513331652\n",
      "40000(Epoch)\tError:\t0.00159482236153\n",
      "42000(Epoch)\tError:\t0.00154139966767\n",
      "44000(Epoch)\tError:\t0.00149043425124\n",
      "46000(Epoch)\tError:\t0.00144151105861\n",
      "48000(Epoch)\tError:\t0.00139442756884\n",
      "50000(Epoch)\tError:\t0.00134917487847\n",
      "52000(Epoch)\tError:\t0.00130589019872\n",
      "54000(Epoch)\tError:\t0.00126478313012\n",
      "56000(Epoch)\tError:\t0.00122605629284\n",
      "58000(Epoch)\tError:\t0.00118984727601\n",
      "60000(Epoch)\tError:\t0.00115620558477\n",
      "62000(Epoch)\tError:\t0.00112509865451\n",
      "64000(Epoch)\tError:\t0.001096431987\n",
      "66000(Epoch)\tError:\t0.00107007134183\n",
      "68000(Epoch)\tError:\t0.00104586125867\n",
      "70000(Epoch)\tError:\t0.00102363852237\n",
      "72000(Epoch)\tError:\t0.00100324106046\n",
      "74000(Epoch)\tError:\t0.000984513307535\n",
      "76000(Epoch)\tError:\t0.000967309079442\n",
      "78000(Epoch)\tError:\t0.000951492820562\n",
      "80000(Epoch)\tError:\t0.000936939863165\n",
      "82000(Epoch)\tError:\t0.000923536133243\n",
      "84000(Epoch)\tError:\t0.000911177577361\n",
      "86000(Epoch)\tError:\t0.000899769472459\n",
      "88000(Epoch)\tError:\t0.000889225707496\n",
      "90000(Epoch)\tError:\t0.000879468081659\n",
      "92000(Epoch)\tError:\t0.000870425639023\n",
      "94000(Epoch)\tError:\t0.00086203404657\n",
      "96000(Epoch)\tError:\t0.000854235016359\n",
      "98000(Epoch)\tError:\t0.000846975770159\n",
      "100000(Epoch)\tError:\t0.000840208544138\n",
      "102000(Epoch)\tError:\t0.000833890131221\n",
      "104000(Epoch)\tError:\t0.000827981458945\n",
      "106000(Epoch)\tError:\t0.000822447200871\n",
      "108000(Epoch)\tError:\t0.000817255419767\n",
      "110000(Epoch)\tError:\t0.000812377240828\n",
      "112000(Epoch)\tError:\t0.000807786553251\n",
      "114000(Epoch)\tError:\t0.00080345973842\n",
      "116000(Epoch)\tError:\t0.000799375423004\n",
      "118000(Epoch)\tError:\t0.000795514255202\n",
      "120000(Epoch)\tError:\t0.000791858702422\n",
      "122000(Epoch)\tError:\t0.000788392868703\n",
      "124000(Epoch)\tError:\t0.000785102330215\n",
      "126000(Epoch)\tError:\t0.000781973987284\n",
      "128000(Epoch)\tError:\t0.000778995931428\n",
      "130000(Epoch)\tError:\t0.000776157326006\n",
      "132000(Epoch)\tError:\t0.000773448299171\n",
      "134000(Epoch)\tError:\t0.000770859847904\n",
      "136000(Epoch)\tError:\t0.000768383752039\n",
      "138000(Epoch)\tError:\t0.000766012497225\n",
      "140000(Epoch)\tError:\t0.000763739205942\n",
      "142000(Epoch)\tError:\t0.000761557575685\n",
      "144000(Epoch)\tError:\t0.000759461823605\n",
      "146000(Epoch)\tError:\t0.000757446636884\n",
      "148000(Epoch)\tError:\t0.000755507128254\n",
      "150000(Epoch)\tError:\t0.000753638796109\n",
      "152000(Epoch)\tError:\t0.000751837488707\n",
      "154000(Epoch)\tError:\t0.000750099372031\n",
      "156000(Epoch)\tError:\t0.000748420900917\n",
      "158000(Epoch)\tError:\t0.000746798793092\n",
      "160000(Epoch)\tError:\t0.000745230005823\n",
      "***********************Model training end***********************\n"
     ]
    }
   ],
   "source": [
    "loss_message2 = dict()\n",
    "print(\"***********************Model training start***********************\")\n",
    "for i in range(160000):\n",
    "    mlp2.train(x_sin_train, y_sin_train, 0.01)\n",
    "    loss = np.mean(np.square(y_sin_train - mlp2.forward(x_sin_train)))\n",
    "    if (i + 1) % 2000 == 0:\n",
    "        loss_message2[(i+1)] = loss\n",
    "        print(str(i + 1) + '(Epoch)\\t' + 'Error:\\t' + str(loss)) \n",
    "print(\"***********************Model training end***********************\")"
   ]
  },
  {
   "cell_type": "markdown",
   "metadata": {},
   "source": [
    "<h4> Plot the error through the training process</h4>"
   ]
  },
  {
   "cell_type": "code",
   "execution_count": 17,
   "metadata": {},
   "outputs": [
    {
     "data": {
      "text/plain": [
       "Text(0,0.5,'Error')"
      ]
     },
     "execution_count": 17,
     "metadata": {},
     "output_type": "execute_result"
    },
    {
     "data": {
      "image/png": "[encoded data removed]",
      "text/plain": [
       "<Figure size 432x288 with 1 Axes>"
      ]
     },
     "metadata": {},
     "output_type": "display_data"
    }
   ],
   "source": [
    "plt.plot([i for i in loss_message2],[loss_message2[i] for i in loss_message2])\n",
    "plt.title(\"MLP for Sine\")\n",
    "plt.xlabel('Epoch')\n",
    "plt.ylabel('Error')"
   ]
  },
  {
   "cell_type": "markdown",
   "metadata": {},
   "source": [
    "<h4> Check the predictions by using the \"test set\"</h4>"
   ]
  },
  {
   "cell_type": "code",
   "execution_count": 18,
   "metadata": {},
   "outputs": [
    {
     "name": "stdout",
     "output_type": "stream",
     "text": [
      "\n",
      "Using test data for Testing:\n",
      "\n",
      "Target:\t[-0.10332029]\n",
      "Output:\t[ 0.02225276]\n",
      "Target:\t[ 0.98297544]\n",
      "Output:\t[ 0.96761798]\n",
      "Target:\t[-0.5847643]\n",
      "Output:\t[-0.83626184]\n",
      "Target:\t[-0.01460862]\n",
      "Output:\t[-0.07653286]\n",
      "Target:\t[ 0.40995253]\n",
      "Output:\t[ 0.58844166]\n",
      "Target:\t[ 0.65873697]\n",
      "Output:\t[ 0.95050431]\n",
      "Target:\t[-0.98133745]\n",
      "Output:\t[-0.97352194]\n",
      "Target:\t[ 0.98439373]\n",
      "Output:\t[ 0.98286717]\n",
      "Target:\t[ 0.95936818]\n",
      "Output:\t[ 0.95003797]\n",
      "Target:\t[-0.96977209]\n",
      "Output:\t[-0.95498197]\n"
     ]
    }
   ],
   "source": [
    "print('\\nUsing test data for Testing:\\n')\n",
    "for i in range(len(x_sin_test)):\n",
    "    print('Target:\\t' + str(y_sin_test[i]))\n",
    "    print('Output:\\t' + str(mlp2.forward(x_sin_test[i])))"
   ]
  },
  {
   "cell_type": "markdown",
   "metadata": {},
   "source": [
    "<h4> Output the error on test set</h4>"
   ]
  },
  {
   "cell_type": "code",
   "execution_count": 19,
   "metadata": {},
   "outputs": [
    {
     "name": "stdout",
     "output_type": "stream",
     "text": [
      "0.0200445828905\n"
     ]
    }
   ],
   "source": [
    "error_test = np.mean(np.square(y_sin_test - mlp2.forward(x_sin_test)))\n",
    "print(error_test)"
   ]
  },
  {
   "cell_type": "markdown",
   "metadata": {},
   "source": [
    "<h4> Discussion - compare the training error with the testing error </h4>"
   ]
  },
  {
   "cell_type": "markdown",
   "metadata": {},
   "source": [
    "As we can see, at the end of training process, the training error is at plateau nearly 0.0007. However, by testing using the test set, we get the mean squre error (MSD) nearly 0.02, which is much great than the training error. This is not a satisfactory model, the problem here we called it **overfitting**. In general, it happens when the training model tends to fit the training sets as much as possible and cause to the lack ability of **generalization to unseen data**. "
   ]
  },
  {
   "cell_type": "markdown",
   "metadata": {},
   "source": [
    "In our training process, we only have 40 examples for training, which is very tiny, the small size of training set might be the main reason here to cause overfitting. Normally, we have several ways to avoid overfitting. For example, here we can try to generate more data for training. In addition, another typical way to avoid overfitting is using cross validation in training and evaluating the model."
   ]
  },
  {
   "cell_type": "markdown",
   "metadata": {},
   "source": [
    "------"
   ]
  }
 ],
 "metadata": {
  "kernelspec": {
   "display_name": "Python 3",
   "language": "python",
   "name": "python3"
  },
  "language_info": {
   "codemirror_mode": {
    "name": "ipython",
    "version": 3
   },
   "file_extension": ".py",
   "mimetype": "text/x-python",
   "name": "python",
   "nbconvert_exporter": "python",
   "pygments_lexer": "ipython3",
   "version": "3.6.4"
  }
 },
 "nbformat": 4,
 "nbformat_minor": 2
}
