{
 "cells": [
  {
   "cell_type": "markdown",
   "metadata": {},
   "source": [
    "<h1>Connectionist Computing (COMP30230/41390) - Programming Assignment</h1>\n",
    "<h3>(Exceptional Part)</h3>\n",
    "<br>\n",
    "Student Name: **Fan Li** <br>\n",
    "Student Number: **16212155** "
   ]
  },
  {
   "cell_type": "markdown",
   "metadata": {},
   "source": [
    "--------"
   ]
  },
  {
   "cell_type": "markdown",
   "metadata": {},
   "source": [
    "<h3> Multilayer Perceptron (MLP) for \"Letter Recognition\": </h3>"
   ]
  },
  {
   "cell_type": "markdown",
   "metadata": {},
   "source": [
    "<h4> Import packages for calculation, plotting and pre-processing</h4>"
   ]
  },
  {
   "cell_type": "code",
   "execution_count": 1,
   "metadata": {},
   "outputs": [],
   "source": [
    "import numpy as np\n",
    "import pandas as pd\n",
    "import matplotlib\n",
    "from matplotlib import pyplot as plt\n",
    "matplotlib.style.use('ggplot')\n",
    "%matplotlib inline"
   ]
  },
  {
   "cell_type": "markdown",
   "metadata": {},
   "source": [
    "<h4> Import and pre-process the dataset</h4>"
   ]
  },
  {
   "cell_type": "code",
   "execution_count": 2,
   "metadata": {},
   "outputs": [
    {
     "data": {
      "text/html": [
       "<div>\n",
       "<style>\n",
       "    .dataframe thead tr:only-child th {\n",
       "        text-align: right;\n",
       "    }\n",
       "\n",
       "    .dataframe thead th {\n",
       "        text-align: left;\n",
       "    }\n",
       "\n",
       "    .dataframe tbody tr th {\n",
       "        vertical-align: top;\n",
       "    }\n",
       "</style>\n",
       "<table border=\"1\" class=\"dataframe\">\n",
       "  <thead>\n",
       "    <tr style=\"text-align: right;\">\n",
       "      <th></th>\n",
       "      <th>0</th>\n",
       "      <th>1</th>\n",
       "      <th>2</th>\n",
       "      <th>3</th>\n",
       "      <th>4</th>\n",
       "      <th>5</th>\n",
       "      <th>6</th>\n",
       "      <th>7</th>\n",
       "      <th>8</th>\n",
       "      <th>9</th>\n",
       "      <th>10</th>\n",
       "      <th>11</th>\n",
       "      <th>12</th>\n",
       "      <th>13</th>\n",
       "      <th>14</th>\n",
       "      <th>15</th>\n",
       "      <th>16</th>\n",
       "    </tr>\n",
       "  </thead>\n",
       "  <tbody>\n",
       "    <tr>\n",
       "      <th>0</th>\n",
       "      <td>T</td>\n",
       "      <td>2</td>\n",
       "      <td>8</td>\n",
       "      <td>3</td>\n",
       "      <td>5</td>\n",
       "      <td>1</td>\n",
       "      <td>8</td>\n",
       "      <td>13</td>\n",
       "      <td>0</td>\n",
       "      <td>6</td>\n",
       "      <td>6</td>\n",
       "      <td>10</td>\n",
       "      <td>8</td>\n",
       "      <td>0</td>\n",
       "      <td>8</td>\n",
       "      <td>0</td>\n",
       "      <td>8</td>\n",
       "    </tr>\n",
       "    <tr>\n",
       "      <th>1</th>\n",
       "      <td>I</td>\n",
       "      <td>5</td>\n",
       "      <td>12</td>\n",
       "      <td>3</td>\n",
       "      <td>7</td>\n",
       "      <td>2</td>\n",
       "      <td>10</td>\n",
       "      <td>5</td>\n",
       "      <td>5</td>\n",
       "      <td>4</td>\n",
       "      <td>13</td>\n",
       "      <td>3</td>\n",
       "      <td>9</td>\n",
       "      <td>2</td>\n",
       "      <td>8</td>\n",
       "      <td>4</td>\n",
       "      <td>10</td>\n",
       "    </tr>\n",
       "    <tr>\n",
       "      <th>2</th>\n",
       "      <td>D</td>\n",
       "      <td>4</td>\n",
       "      <td>11</td>\n",
       "      <td>6</td>\n",
       "      <td>8</td>\n",
       "      <td>6</td>\n",
       "      <td>10</td>\n",
       "      <td>6</td>\n",
       "      <td>2</td>\n",
       "      <td>6</td>\n",
       "      <td>10</td>\n",
       "      <td>3</td>\n",
       "      <td>7</td>\n",
       "      <td>3</td>\n",
       "      <td>7</td>\n",
       "      <td>3</td>\n",
       "      <td>9</td>\n",
       "    </tr>\n",
       "    <tr>\n",
       "      <th>3</th>\n",
       "      <td>N</td>\n",
       "      <td>7</td>\n",
       "      <td>11</td>\n",
       "      <td>6</td>\n",
       "      <td>6</td>\n",
       "      <td>3</td>\n",
       "      <td>5</td>\n",
       "      <td>9</td>\n",
       "      <td>4</td>\n",
       "      <td>6</td>\n",
       "      <td>4</td>\n",
       "      <td>4</td>\n",
       "      <td>10</td>\n",
       "      <td>6</td>\n",
       "      <td>10</td>\n",
       "      <td>2</td>\n",
       "      <td>8</td>\n",
       "    </tr>\n",
       "    <tr>\n",
       "      <th>4</th>\n",
       "      <td>G</td>\n",
       "      <td>2</td>\n",
       "      <td>1</td>\n",
       "      <td>3</td>\n",
       "      <td>1</td>\n",
       "      <td>1</td>\n",
       "      <td>8</td>\n",
       "      <td>6</td>\n",
       "      <td>6</td>\n",
       "      <td>6</td>\n",
       "      <td>6</td>\n",
       "      <td>5</td>\n",
       "      <td>9</td>\n",
       "      <td>1</td>\n",
       "      <td>7</td>\n",
       "      <td>5</td>\n",
       "      <td>10</td>\n",
       "    </tr>\n",
       "  </tbody>\n",
       "</table>\n",
       "</div>"
      ],
      "text/plain": [
       "  0   1   2   3   4   5   6   7   8   9   10  11  12  13  14  15  16\n",
       "0  T   2   8   3   5   1   8  13   0   6   6  10   8   0   8   0   8\n",
       "1  I   5  12   3   7   2  10   5   5   4  13   3   9   2   8   4  10\n",
       "2  D   4  11   6   8   6  10   6   2   6  10   3   7   3   7   3   9\n",
       "3  N   7  11   6   6   3   5   9   4   6   4   4  10   6  10   2   8\n",
       "4  G   2   1   3   1   1   8   6   6   6   6   5   9   1   7   5  10"
      ]
     },
     "execution_count": 2,
     "metadata": {},
     "output_type": "execute_result"
    }
   ],
   "source": [
    "dataset = pd.read_csv('letter-recognition.data',delimiter=',',header=None)\n",
    "dataset.head()"
   ]
  },
  {
   "cell_type": "code",
   "execution_count": 25,
   "metadata": {},
   "outputs": [],
   "source": [
    "X = np.array(dataset.iloc[:, 1:17])\n",
    "y = [ord(item) - ord('A') for item in dataset.iloc[:, 0]]\n",
    "import keras  # Only used for data pre-processing \n",
    "y = keras.utils.to_categorical(y, num_classes=None)"
   ]
  },
  {
   "cell_type": "code",
   "execution_count": 4,
   "metadata": {},
   "outputs": [
    {
     "data": {
      "text/plain": [
       "(20000, 16)"
      ]
     },
     "execution_count": 4,
     "metadata": {},
     "output_type": "execute_result"
    }
   ],
   "source": [
    "X.shape"
   ]
  },
  {
   "cell_type": "code",
   "execution_count": 5,
   "metadata": {},
   "outputs": [
    {
     "data": {
      "text/plain": [
       "(20000, 26)"
      ]
     },
     "execution_count": 5,
     "metadata": {},
     "output_type": "execute_result"
    }
   ],
   "source": [
    "y.shape"
   ]
  },
  {
   "cell_type": "code",
   "execution_count": 6,
   "metadata": {},
   "outputs": [],
   "source": [
    "def data_split(X, y, percentage):\n",
    "    train_index = np.random.choice(X.shape[0], size=round(X.shape[0] * percentage), replace=False)\n",
    "    inverse = np.ones(X.shape[0], dtype=np.bool)\n",
    "    inverse[train_index] = 0\n",
    "    test_index = inverse\n",
    "    return X[train_index], y[train_index], X[test_index], y[test_index]"
   ]
  },
  {
   "cell_type": "code",
   "execution_count": 7,
   "metadata": {},
   "outputs": [],
   "source": [
    "X_train, y_train, X_test, y_test = data_split(X, y, 0.8)"
   ]
  },
  {
   "cell_type": "code",
   "execution_count": 8,
   "metadata": {},
   "outputs": [
    {
     "data": {
      "text/plain": [
       "(16000, 16)"
      ]
     },
     "execution_count": 8,
     "metadata": {},
     "output_type": "execute_result"
    }
   ],
   "source": [
    "X_train.shape"
   ]
  },
  {
   "cell_type": "code",
   "execution_count": 9,
   "metadata": {},
   "outputs": [
    {
     "data": {
      "text/plain": [
       "(16000, 26)"
      ]
     },
     "execution_count": 9,
     "metadata": {},
     "output_type": "execute_result"
    }
   ],
   "source": [
    "y_train.shape"
   ]
  },
  {
   "cell_type": "code",
   "execution_count": 10,
   "metadata": {},
   "outputs": [
    {
     "data": {
      "text/plain": [
       "(4000, 16)"
      ]
     },
     "execution_count": 10,
     "metadata": {},
     "output_type": "execute_result"
    }
   ],
   "source": [
    "X_test.shape"
   ]
  },
  {
   "cell_type": "code",
   "execution_count": 11,
   "metadata": {},
   "outputs": [
    {
     "data": {
      "text/plain": [
       "(4000, 26)"
      ]
     },
     "execution_count": 11,
     "metadata": {},
     "output_type": "execute_result"
    }
   ],
   "source": [
    "y_test.shape"
   ]
  },
  {
   "cell_type": "markdown",
   "metadata": {},
   "source": [
    "<h4> MLP class for Exceptional Part</h4>"
   ]
  },
  {
   "cell_type": "code",
   "execution_count": 12,
   "metadata": {},
   "outputs": [],
   "source": [
    "class MLP:\n",
    "    def __init__(self, NI, NH, NO):\n",
    "        self.NI = NI\n",
    "        self.NO = NO\n",
    "        self.NH = NH\n",
    "        np.random.seed(1) # for reproducibility\n",
    "        # Initialize the weights with normalization - \"He Initialization\", idea from: https://arxiv.org/pdf/1511.06422.pdf    \n",
    "        self.W1 = np.random.randn(self.NI, self.NH) / np.sqrt(self.NI / 2)  \n",
    "        self.W2 = np.random.randn(self.NH, self.NO) / np.sqrt(self.NH / 2)\n",
    "\n",
    "    def forward(self, x):\n",
    "        ''' The forward propagation through the network '''\n",
    "        z1 = np.dot(x, self.W1)\n",
    "        self.h = np.tanh(z1)\n",
    "        z2 = np.dot(self.h, self.W2)\n",
    "        o = self.softmax(z2)\n",
    "        return o\n",
    "\n",
    "    def backpropagate(self, x, y, o):\n",
    "        ''' The backward propagation through the network '''\n",
    "        o_error = o - y\n",
    "        self.o_delta = np.dot(self.h.T, o_error)\n",
    "        h_error = (1 - np.square(self.h)) * np.dot(o_error, self.W2.T)\n",
    "        self.h_delta = np.dot(x.T, h_error)\n",
    "        \n",
    "    def updateWeights(self, learning_rate):\n",
    "        ''' Adjust weights using learning rata '''\n",
    "        self.W2 -= learning_rate * self.o_delta\n",
    "        self.W1 -= learning_rate * self.h_delta\n",
    "\n",
    "    def predict(self, x):\n",
    "        ''' Predict an output for accuracy calculation'''\n",
    "        o = self.forward(x)\n",
    "        return np.argmax(o, axis=1)\n",
    "\n",
    "    def cross_entropy_loss(self, x, y, o):\n",
    "        ''' Calculate loss by using cross entropy'''\n",
    "        cost = np.sum(np.multiply(y, np.log(o)))\n",
    "        return (-1. / x.shape[0]) * cost\n",
    "\n",
    "    def train(self, X_train, y_train, epoch=400000, batch_size=10, learning_rate = 0.01):\n",
    "        print(\"***********************Model training start***********************\")\n",
    "        accuracy_log = [] # For plotting the accuracy\n",
    "        for i in range(epoch):\n",
    "            # Gradient descent using batch\n",
    "            subset_idx = np.random.choice(X_train.shape[0], size=batch_size, replace=False)\n",
    "            x = X_train[subset_idx]\n",
    "            y = y_train[subset_idx]\n",
    "\n",
    "            o = self.forward(x)\n",
    "            self.backpropagate(x, y, o)\n",
    "            self.updateWeights(learning_rate)\n",
    "\n",
    "            if (i+1) % 10000 == 0:\n",
    "                loss = self.cross_entropy_loss(x, y, o)\n",
    "                print(str(i + 1) + '(Epoch)\\t' + 'Error(Cross entropy):\\t' + str(loss))\n",
    "                # calculate and store the training accuracy\n",
    "                num_test = X_train.shape[0]\n",
    "                predicted = self.predict(X_train)\n",
    "                num_correct = [target[predicted[index]] for index, target in enumerate(y_train)]\n",
    "                accuracy = sum(num_correct) / num_test\n",
    "                accuracy_log.append((i, accuracy))             \n",
    "        print(\"***********************Model training end***********************\")\n",
    "        return accuracy_log\n",
    "    \n",
    "    def softmax(self, z):\n",
    "        e = np.exp(z)\n",
    "        return e / np.sum(e, axis=1, keepdims=True)"
   ]
  },
  {
   "cell_type": "markdown",
   "metadata": {},
   "source": [
    "<h4> Start with hidden layer units is 10 --> (NH=10)</h4>"
   ]
  },
  {
   "cell_type": "code",
   "execution_count": 13,
   "metadata": {},
   "outputs": [],
   "source": [
    "mlp1 = MLP(16,10,26)"
   ]
  },
  {
   "cell_type": "code",
   "execution_count": 14,
   "metadata": {
    "scrolled": false
   },
   "outputs": [
    {
     "name": "stdout",
     "output_type": "stream",
     "text": [
      "***********************Model training start***********************\n",
      "10000(Epoch)\tError(Cross entropy):\t2.50537798537\n",
      "20000(Epoch)\tError(Cross entropy):\t2.09512390704\n",
      "30000(Epoch)\tError(Cross entropy):\t1.4962983263\n",
      "40000(Epoch)\tError(Cross entropy):\t2.66879936295\n",
      "50000(Epoch)\tError(Cross entropy):\t2.07002467029\n",
      "60000(Epoch)\tError(Cross entropy):\t2.53223062596\n",
      "70000(Epoch)\tError(Cross entropy):\t1.92940100205\n",
      "80000(Epoch)\tError(Cross entropy):\t1.78761745425\n",
      "90000(Epoch)\tError(Cross entropy):\t1.69805000116\n",
      "100000(Epoch)\tError(Cross entropy):\t2.65329623526\n",
      "110000(Epoch)\tError(Cross entropy):\t1.68350325455\n",
      "120000(Epoch)\tError(Cross entropy):\t2.09495096543\n",
      "130000(Epoch)\tError(Cross entropy):\t1.02201465405\n",
      "140000(Epoch)\tError(Cross entropy):\t1.49057193972\n",
      "150000(Epoch)\tError(Cross entropy):\t1.92239638526\n",
      "160000(Epoch)\tError(Cross entropy):\t1.67122615403\n",
      "170000(Epoch)\tError(Cross entropy):\t1.42933615669\n",
      "180000(Epoch)\tError(Cross entropy):\t1.63764147622\n",
      "190000(Epoch)\tError(Cross entropy):\t1.88188106562\n",
      "200000(Epoch)\tError(Cross entropy):\t1.57165068797\n",
      "210000(Epoch)\tError(Cross entropy):\t2.35952704648\n",
      "220000(Epoch)\tError(Cross entropy):\t1.64818878459\n",
      "230000(Epoch)\tError(Cross entropy):\t1.65760894333\n",
      "240000(Epoch)\tError(Cross entropy):\t1.49452433071\n",
      "250000(Epoch)\tError(Cross entropy):\t2.99939707391\n",
      "260000(Epoch)\tError(Cross entropy):\t1.48640853765\n",
      "270000(Epoch)\tError(Cross entropy):\t1.44223785276\n",
      "280000(Epoch)\tError(Cross entropy):\t1.10523775029\n",
      "290000(Epoch)\tError(Cross entropy):\t1.77079826462\n",
      "300000(Epoch)\tError(Cross entropy):\t1.40949554352\n",
      "310000(Epoch)\tError(Cross entropy):\t1.27279368111\n",
      "320000(Epoch)\tError(Cross entropy):\t3.13944667475\n",
      "330000(Epoch)\tError(Cross entropy):\t2.02194522509\n",
      "340000(Epoch)\tError(Cross entropy):\t0.946609678758\n",
      "350000(Epoch)\tError(Cross entropy):\t1.6437935959\n",
      "360000(Epoch)\tError(Cross entropy):\t1.73078323089\n",
      "370000(Epoch)\tError(Cross entropy):\t1.23968374531\n",
      "380000(Epoch)\tError(Cross entropy):\t1.2240326949\n",
      "390000(Epoch)\tError(Cross entropy):\t1.07503928246\n",
      "400000(Epoch)\tError(Cross entropy):\t1.40455100544\n",
      "***********************Model training end***********************\n"
     ]
    }
   ],
   "source": [
    "accuracy_message = mlp1.train(X_train=X_train, y_train=y_train)"
   ]
  },
  {
   "cell_type": "code",
   "execution_count": 15,
   "metadata": {},
   "outputs": [
    {
     "data": {
      "text/plain": [
       "Text(0,0.5,'Accuracy')"
      ]
     },
     "execution_count": 15,
     "metadata": {},
     "output_type": "execute_result"
    },
    {
     "data": {
      "image/png": "[encoded data removed]",
      "text/plain": [
       "<Figure size 432x288 with 1 Axes>"
      ]
     },
     "metadata": {},
     "output_type": "display_data"
    }
   ],
   "source": [
    "plt.plot([i[0] for i in accuracy_message], [i[1] for i in accuracy_message])\n",
    "plt.title(\"MLP for Letter Recognition - 10 hidden layer units\")\n",
    "plt.xlabel('Epoch')\n",
    "plt.ylabel('Accuracy')"
   ]
  },
  {
   "cell_type": "markdown",
   "metadata": {},
   "source": [
    "<h4> Check the accuracy on test set </h4>"
   ]
  },
  {
   "cell_type": "code",
   "execution_count": 16,
   "metadata": {},
   "outputs": [
    {
     "name": "stdout",
     "output_type": "stream",
     "text": [
      "Accuracy on test set with (NH = 10):\t0.54875\n"
     ]
    }
   ],
   "source": [
    "num_test = X_test.shape[0]\n",
    "predicted = mlp1.predict(X_test)\n",
    "num_correct = [target[predicted[index]] for index, target in enumerate(y_test)]\n",
    "accuracy = sum(num_correct) / num_test\n",
    "print(\"Accuracy on test set with (NH = 10):\\t\" + str(accuracy))"
   ]
  },
  {
   "cell_type": "markdown",
   "metadata": {},
   "source": [
    "----"
   ]
  },
  {
   "cell_type": "markdown",
   "metadata": {},
   "source": [
    "<h4> Increase the number of hidden layer units to 20 --> (NH=20)</h4>"
   ]
  },
  {
   "cell_type": "code",
   "execution_count": 17,
   "metadata": {},
   "outputs": [],
   "source": [
    "mlp2 = MLP(16,20,26)"
   ]
  },
  {
   "cell_type": "code",
   "execution_count": 18,
   "metadata": {},
   "outputs": [
    {
     "name": "stdout",
     "output_type": "stream",
     "text": [
      "***********************Model training start***********************\n",
      "10000(Epoch)\tError(Cross entropy):\t1.29986414787\n",
      "20000(Epoch)\tError(Cross entropy):\t0.902835558201\n",
      "30000(Epoch)\tError(Cross entropy):\t0.780008252582\n",
      "40000(Epoch)\tError(Cross entropy):\t1.61443999753\n",
      "50000(Epoch)\tError(Cross entropy):\t0.945274569396\n",
      "60000(Epoch)\tError(Cross entropy):\t2.14291871818\n",
      "70000(Epoch)\tError(Cross entropy):\t1.21870563955\n",
      "80000(Epoch)\tError(Cross entropy):\t0.927402425745\n",
      "90000(Epoch)\tError(Cross entropy):\t1.43427857587\n",
      "100000(Epoch)\tError(Cross entropy):\t2.26058476758\n",
      "110000(Epoch)\tError(Cross entropy):\t0.605689846692\n",
      "120000(Epoch)\tError(Cross entropy):\t0.754628339622\n",
      "130000(Epoch)\tError(Cross entropy):\t0.945600810816\n",
      "140000(Epoch)\tError(Cross entropy):\t0.694980696751\n",
      "150000(Epoch)\tError(Cross entropy):\t1.26339065491\n",
      "160000(Epoch)\tError(Cross entropy):\t0.59086314524\n",
      "170000(Epoch)\tError(Cross entropy):\t1.12624777808\n",
      "180000(Epoch)\tError(Cross entropy):\t0.927281878964\n",
      "190000(Epoch)\tError(Cross entropy):\t0.790559049289\n",
      "200000(Epoch)\tError(Cross entropy):\t0.986462490812\n",
      "210000(Epoch)\tError(Cross entropy):\t1.47259149933\n",
      "220000(Epoch)\tError(Cross entropy):\t1.11557376416\n",
      "230000(Epoch)\tError(Cross entropy):\t0.71524576644\n",
      "240000(Epoch)\tError(Cross entropy):\t0.795187594072\n",
      "250000(Epoch)\tError(Cross entropy):\t1.50954471331\n",
      "260000(Epoch)\tError(Cross entropy):\t1.00228659837\n",
      "270000(Epoch)\tError(Cross entropy):\t0.870293645073\n",
      "280000(Epoch)\tError(Cross entropy):\t1.09991655387\n",
      "290000(Epoch)\tError(Cross entropy):\t0.933209839053\n",
      "300000(Epoch)\tError(Cross entropy):\t0.904695953796\n",
      "310000(Epoch)\tError(Cross entropy):\t0.573708056691\n",
      "320000(Epoch)\tError(Cross entropy):\t2.21275448454\n",
      "330000(Epoch)\tError(Cross entropy):\t1.93669903835\n",
      "340000(Epoch)\tError(Cross entropy):\t0.97482267477\n",
      "350000(Epoch)\tError(Cross entropy):\t1.08425654395\n",
      "360000(Epoch)\tError(Cross entropy):\t1.1449666805\n",
      "370000(Epoch)\tError(Cross entropy):\t1.08434949605\n",
      "380000(Epoch)\tError(Cross entropy):\t0.993719563854\n",
      "390000(Epoch)\tError(Cross entropy):\t0.971203023893\n",
      "400000(Epoch)\tError(Cross entropy):\t0.925451088922\n",
      "***********************Model training end***********************\n"
     ]
    }
   ],
   "source": [
    "accuracy_message2 = mlp2.train(X_train=X_train, y_train=y_train)"
   ]
  },
  {
   "cell_type": "code",
   "execution_count": 19,
   "metadata": {},
   "outputs": [
    {
     "data": {
      "text/plain": [
       "Text(0,0.5,'Accuracy')"
      ]
     },
     "execution_count": 19,
     "metadata": {},
     "output_type": "execute_result"
    },
    {
     "data": {
      "image/png": "[encoded data removed]",
      "text/plain": [
       "<Figure size 432x288 with 1 Axes>"
      ]
     },
     "metadata": {},
     "output_type": "display_data"
    }
   ],
   "source": [
    "plt.plot([i[0] for i in accuracy_message2], [i[1] for i in accuracy_message2])\n",
    "plt.title(\"MLP for Letter Recognition - 20 hidden layer units\")\n",
    "plt.xlabel('Epoch')\n",
    "plt.ylabel('Accuracy')"
   ]
  },
  {
   "cell_type": "markdown",
   "metadata": {},
   "source": [
    "<h4> Check the accuracy on test set </h4>"
   ]
  },
  {
   "cell_type": "code",
   "execution_count": 20,
   "metadata": {},
   "outputs": [
    {
     "name": "stdout",
     "output_type": "stream",
     "text": [
      "Accuracy on test set with (NH = 20):\t0.66925\n"
     ]
    }
   ],
   "source": [
    "num_test = X_test.shape[0]\n",
    "predicted = mlp2.predict(X_test)\n",
    "num_correct = [target[predicted[index]] for index, target in enumerate(y_test)]\n",
    "accuracy = sum(num_correct) / num_test\n",
    "print(\"Accuracy on test set with (NH = 20):\\t\" + str(accuracy))"
   ]
  },
  {
   "cell_type": "markdown",
   "metadata": {},
   "source": [
    "---"
   ]
  },
  {
   "cell_type": "markdown",
   "metadata": {},
   "source": [
    "<h4> Increase the number of hidden layer units to 30 --> (NH=30)</h4>"
   ]
  },
  {
   "cell_type": "code",
   "execution_count": 21,
   "metadata": {},
   "outputs": [],
   "source": [
    "mlp3 = MLP(16,30,26)"
   ]
  },
  {
   "cell_type": "code",
   "execution_count": 22,
   "metadata": {
    "scrolled": false
   },
   "outputs": [
    {
     "name": "stdout",
     "output_type": "stream",
     "text": [
      "***********************Model training start***********************\n",
      "10000(Epoch)\tError(Cross entropy):\t0.682045986861\n",
      "20000(Epoch)\tError(Cross entropy):\t0.703545877077\n",
      "30000(Epoch)\tError(Cross entropy):\t0.424030508677\n",
      "40000(Epoch)\tError(Cross entropy):\t1.0476409108\n",
      "50000(Epoch)\tError(Cross entropy):\t0.96201309398\n",
      "60000(Epoch)\tError(Cross entropy):\t1.75426925509\n",
      "70000(Epoch)\tError(Cross entropy):\t1.04839823104\n",
      "80000(Epoch)\tError(Cross entropy):\t1.02060083882\n",
      "90000(Epoch)\tError(Cross entropy):\t0.561517611007\n",
      "100000(Epoch)\tError(Cross entropy):\t1.21955979538\n",
      "110000(Epoch)\tError(Cross entropy):\t0.578170464971\n",
      "120000(Epoch)\tError(Cross entropy):\t0.600043463552\n",
      "130000(Epoch)\tError(Cross entropy):\t0.753307909429\n",
      "140000(Epoch)\tError(Cross entropy):\t0.310577367689\n",
      "150000(Epoch)\tError(Cross entropy):\t0.927636511005\n",
      "160000(Epoch)\tError(Cross entropy):\t0.40106708203\n",
      "170000(Epoch)\tError(Cross entropy):\t0.607697740085\n",
      "180000(Epoch)\tError(Cross entropy):\t0.302636545249\n",
      "190000(Epoch)\tError(Cross entropy):\t0.453145607439\n",
      "200000(Epoch)\tError(Cross entropy):\t0.818793869334\n",
      "210000(Epoch)\tError(Cross entropy):\t0.60717664182\n",
      "220000(Epoch)\tError(Cross entropy):\t1.05460051526\n",
      "230000(Epoch)\tError(Cross entropy):\t0.0899768510517\n",
      "240000(Epoch)\tError(Cross entropy):\t0.822569666315\n",
      "250000(Epoch)\tError(Cross entropy):\t1.1562541283\n",
      "260000(Epoch)\tError(Cross entropy):\t0.302195389554\n",
      "270000(Epoch)\tError(Cross entropy):\t0.90452122768\n",
      "280000(Epoch)\tError(Cross entropy):\t0.793297052313\n",
      "290000(Epoch)\tError(Cross entropy):\t0.816913842602\n",
      "300000(Epoch)\tError(Cross entropy):\t0.708413921975\n",
      "310000(Epoch)\tError(Cross entropy):\t0.638393019952\n",
      "320000(Epoch)\tError(Cross entropy):\t0.874626918011\n",
      "330000(Epoch)\tError(Cross entropy):\t0.987841715299\n",
      "340000(Epoch)\tError(Cross entropy):\t1.00902324604\n",
      "350000(Epoch)\tError(Cross entropy):\t1.10774233751\n",
      "360000(Epoch)\tError(Cross entropy):\t0.999926902309\n",
      "370000(Epoch)\tError(Cross entropy):\t0.780469198951\n",
      "380000(Epoch)\tError(Cross entropy):\t0.991712788361\n",
      "390000(Epoch)\tError(Cross entropy):\t0.489430906365\n",
      "400000(Epoch)\tError(Cross entropy):\t0.245587796288\n",
      "***********************Model training end***********************\n"
     ]
    }
   ],
   "source": [
    "accuracy_message3 = mlp3.train(X_train=X_train, y_train=y_train)"
   ]
  },
  {
   "cell_type": "code",
   "execution_count": 23,
   "metadata": {},
   "outputs": [
    {
     "data": {
      "text/plain": [
       "Text(0,0.5,'Accuracy')"
      ]
     },
     "execution_count": 23,
     "metadata": {},
     "output_type": "execute_result"
    },
    {
     "data": {
      "image/png": "[encoded data removed]",
      "text/plain": [
       "<Figure size 432x288 with 1 Axes>"
      ]
     },
     "metadata": {},
     "output_type": "display_data"
    }
   ],
   "source": [
    "plt.plot([i[0] for i in accuracy_message3], [i[1] for i in accuracy_message3])\n",
    "plt.title(\"MLP for Letter Recognition - 30 hidden layer units\")\n",
    "plt.xlabel('Epoch')\n",
    "plt.ylabel('Accuracy')"
   ]
  },
  {
   "cell_type": "code",
   "execution_count": 24,
   "metadata": {},
   "outputs": [
    {
     "name": "stdout",
     "output_type": "stream",
     "text": [
      "Accuracy on test set with (NH = 30):\t0.7785\n"
     ]
    }
   ],
   "source": [
    "num_test = X_test.shape[0]\n",
    "predicted = mlp3.predict(X_test)\n",
    "num_correct = [target[predicted[index]] for index, target in enumerate(y_test)]\n",
    "accuracy = sum(num_correct) / num_test\n",
    "print(\"Accuracy on test set with (NH = 30):\\t\" + str(accuracy))"
   ]
  },
  {
   "cell_type": "markdown",
   "metadata": {},
   "source": [
    "----"
   ]
  },
  {
   "cell_type": "markdown",
   "metadata": {},
   "source": [
    "<h4> Conclusion </h4>"
   ]
  },
  {
   "cell_type": "markdown",
   "metadata": {},
   "source": [
    "By doing this exceptional part of the assignment, I practiced the basic process of data pre-processing, mlp model training and testing. Different from the mlp in the previous task, here the mlp is used for classification problems, **softmax function** and **cross entropy** loss function are coverd in. Experiments on different hidden layer units' size show different abilities of the model. Observably, by increasing the number of hidden layer's units (NH), the overall accuracy on train set and test set both increased.  "
   ]
  },
  {
   "cell_type": "markdown",
   "metadata": {},
   "source": [
    "-----"
   ]
  }
 ],
 "metadata": {
  "kernelspec": {
   "display_name": "Python 3",
   "language": "python",
   "name": "python3"
  },
  "language_info": {
   "codemirror_mode": {
    "name": "ipython",
    "version": 3
   },
   "file_extension": ".py",
   "mimetype": "text/x-python",
   "name": "python",
   "nbconvert_exporter": "python",
   "pygments_lexer": "ipython3",
   "version": "3.6.4"
  }
 },
 "nbformat": 4,
 "nbformat_minor": 2
}
