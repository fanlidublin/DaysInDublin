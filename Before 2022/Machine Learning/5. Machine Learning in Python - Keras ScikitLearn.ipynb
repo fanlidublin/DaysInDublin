{
 "cells": [
  {
   "cell_type": "markdown",
   "metadata": {},
   "source": [
    "# Machine Learning in Python - Keras & Scikit-Learn"
   ]
  },
  {
   "cell_type": "code",
   "execution_count": 1,
   "metadata": {
    "scrolled": true
   },
   "outputs": [
    {
     "name": "stderr",
     "output_type": "stream",
     "text": [
      "Using TensorFlow backend.\n"
     ]
    }
   ],
   "source": [
    "import pandas as pd\n",
    "import numpy as np\n",
    "\n",
    "from IPython.display import display, HTML, Image\n",
    "from IPython.display import SVG\n",
    "\n",
    "import matplotlib.pyplot as plt\n",
    "%matplotlib inline\n",
    "plt.style.use('fivethirtyeight')\n",
    "\n",
    "from TAS_Python_Utilities import data_viz\n",
    "from TAS_Python_Utilities import visualize_tree\n",
    "\n",
    "from sklearn.tree import export_graphviz\n",
    "from sklearn import metrics\n",
    "from sklearn.model_selection import GridSearchCV\n",
    "from sklearn.model_selection import cross_val_score\n",
    "from sklearn.model_selection import train_test_split\n",
    "from sklearn import preprocessing \n",
    "\n",
    "from keras.models import Sequential\n",
    "from keras.layers import Dense, Activation, Merge, Dropout\n",
    "from keras.utils.np_utils import to_categorical\n",
    "from keras.utils.vis_utils import model_to_dot\n",
    "from keras.wrappers.scikit_learn import KerasClassifier\n",
    " "
   ]
  },
  {
   "cell_type": "markdown",
   "metadata": {},
   "source": [
    "## Dataset Pre-processing"
   ]
  },
  {
   "cell_type": "markdown",
   "metadata": {},
   "source": [
    "Read in a dataset"
   ]
  },
  {
   "cell_type": "code",
   "execution_count": 2,
   "metadata": {
    "scrolled": false
   },
   "outputs": [],
   "source": [
    "abt = pd.read_csv(\"mnist_train_small.csv\", encoding = \"ISO-8859-1\")\n",
    "\n",
    "# Put all but the target variable into the descriptive features array\n",
    "X = abt[abt.columns.difference([\"value\"])]\n",
    "Y = abt[\"value\"]\n",
    "\n",
    "# Use a range scaling to scale all variables to between 0 and 1\n",
    "min_max_scaler = preprocessing.MinMaxScaler()\n",
    "cols = X.columns\n",
    "X = pd.DataFrame(min_max_scaler.fit_transform(X), columns = cols) # Watch out for putting back in columns here\n",
    "\n",
    "X_train_plus_valid, X_test, y_train_plus_valid, y_test = train_test_split(X, Y, random_state=0, test_size = 0.30, train_size = 0.7)\n",
    "X_train, X_valid, y_train, y_valid = train_test_split(X_train_plus_valid, y_train_plus_valid, random_state=0, test_size = 0.199/0.7, train_size = 0.5/0.7)\n",
    "\n",
    "# Convert the singl column label into a dummy coded label\n",
    "y_train_wide = to_categorical(np.asarray(y_train))\n",
    "y_train_plus_valid_wide = to_categorical(np.asarray(y_train_plus_valid))\n",
    "y_valid_wide = to_categorical(np.asarray(y_valid))"
   ]
  },
  {
   "cell_type": "markdown",
   "metadata": {},
   "source": [
    "## Model Tuning"
   ]
  },
  {
   "cell_type": "markdown",
   "metadata": {
    "collapsed": true
   },
   "source": [
    "Specfiy the structure of the neural network model and training parameters in a function"
   ]
  },
  {
   "cell_type": "code",
   "execution_count": 3,
   "metadata": {
    "scrolled": false
   },
   "outputs": [],
   "source": [
    "# Function to create model, required for KerasClassifier\n",
    "def create_model(optimiser = \"rmsprop\", hidden_units = 512):\n",
    "    # create model\n",
    "    model = Sequential()\n",
    "    model.add(Dense(input_dim=784, units=hidden_units))\n",
    "    model.add(Activation(\"sigmoid\"))\n",
    "    model.add(Dense(units=10))\n",
    "    model.add(Activation(\"softmax\"))\n",
    "    # Compile model\n",
    "    model.compile(optimizer=optimiser,\n",
    "              loss='categorical_crossentropy',\n",
    "              metrics=['accuracy'])\n",
    "    return model"
   ]
  },
  {
   "cell_type": "markdown",
   "metadata": {},
   "source": [
    "Perform a grid search"
   ]
  },
  {
   "cell_type": "code",
   "execution_count": 4,
   "metadata": {
    "scrolled": false
   },
   "outputs": [
    {
     "name": "stdout",
     "output_type": "stream",
     "text": [
      "Fitting 2 folds for each of 24 candidates, totalling 48 fits\n",
      "[CV] batch_size=8, epochs=4, hidden_units=100, optimiser=rmsprop .....\n",
      "[CV]  batch_size=8, epochs=4, hidden_units=100, optimiser=rmsprop, total=   4.1s\n",
      "[CV] batch_size=8, epochs=4, hidden_units=100, optimiser=rmsprop .....\n"
     ]
    },
    {
     "name": "stderr",
     "output_type": "stream",
     "text": [
      "[Parallel(n_jobs=1)]: Done   1 out of   1 | elapsed:    4.3s remaining:    0.0s\n"
     ]
    },
    {
     "name": "stdout",
     "output_type": "stream",
     "text": [
      "[CV]  batch_size=8, epochs=4, hidden_units=100, optimiser=rmsprop, total=   3.9s\n",
      "[CV] batch_size=8, epochs=4, hidden_units=100, optimiser=adam ........\n",
      "[CV]  batch_size=8, epochs=4, hidden_units=100, optimiser=adam, total=   4.6s\n",
      "[CV] batch_size=8, epochs=4, hidden_units=100, optimiser=adam ........\n",
      "[CV]  batch_size=8, epochs=4, hidden_units=100, optimiser=adam, total=   4.8s\n",
      "[CV] batch_size=8, epochs=4, hidden_units=200, optimiser=rmsprop .....\n",
      "[CV]  batch_size=8, epochs=4, hidden_units=200, optimiser=rmsprop, total=   5.2s\n",
      "[CV] batch_size=8, epochs=4, hidden_units=200, optimiser=rmsprop .....\n",
      "[CV]  batch_size=8, epochs=4, hidden_units=200, optimiser=rmsprop, total=   5.1s\n",
      "[CV] batch_size=8, epochs=4, hidden_units=200, optimiser=adam ........\n",
      "[CV]  batch_size=8, epochs=4, hidden_units=200, optimiser=adam, total=   5.5s\n",
      "[CV] batch_size=8, epochs=4, hidden_units=200, optimiser=adam ........\n",
      "[CV]  batch_size=8, epochs=4, hidden_units=200, optimiser=adam, total=   5.8s\n",
      "[CV] batch_size=8, epochs=4, hidden_units=300, optimiser=rmsprop .....\n",
      "[CV]  batch_size=8, epochs=4, hidden_units=300, optimiser=rmsprop, total=   5.7s\n",
      "[CV] batch_size=8, epochs=4, hidden_units=300, optimiser=rmsprop .....\n",
      "[CV]  batch_size=8, epochs=4, hidden_units=300, optimiser=rmsprop, total=   5.8s\n",
      "[CV] batch_size=8, epochs=4, hidden_units=300, optimiser=adam ........\n",
      "[CV]  batch_size=8, epochs=4, hidden_units=300, optimiser=adam, total=   6.7s\n",
      "[CV] batch_size=8, epochs=4, hidden_units=300, optimiser=adam ........\n",
      "[CV]  batch_size=8, epochs=4, hidden_units=300, optimiser=adam, total=   6.4s\n",
      "[CV] batch_size=8, epochs=8, hidden_units=100, optimiser=rmsprop .....\n",
      "[CV]  batch_size=8, epochs=8, hidden_units=100, optimiser=rmsprop, total=   7.4s\n",
      "[CV] batch_size=8, epochs=8, hidden_units=100, optimiser=rmsprop .....\n",
      "[CV]  batch_size=8, epochs=8, hidden_units=100, optimiser=rmsprop, total=   7.4s\n",
      "[CV] batch_size=8, epochs=8, hidden_units=100, optimiser=adam ........\n",
      "[CV]  batch_size=8, epochs=8, hidden_units=100, optimiser=adam, total=   8.7s\n",
      "[CV] batch_size=8, epochs=8, hidden_units=100, optimiser=adam ........\n",
      "[CV]  batch_size=8, epochs=8, hidden_units=100, optimiser=adam, total=   8.3s\n",
      "[CV] batch_size=8, epochs=8, hidden_units=200, optimiser=rmsprop .....\n",
      "[CV]  batch_size=8, epochs=8, hidden_units=200, optimiser=rmsprop, total=   9.4s\n",
      "[CV] batch_size=8, epochs=8, hidden_units=200, optimiser=rmsprop .....\n",
      "[CV]  batch_size=8, epochs=8, hidden_units=200, optimiser=rmsprop, total=   9.8s\n",
      "[CV] batch_size=8, epochs=8, hidden_units=200, optimiser=adam ........\n",
      "[CV]  batch_size=8, epochs=8, hidden_units=200, optimiser=adam, total=  10.6s\n",
      "[CV] batch_size=8, epochs=8, hidden_units=200, optimiser=adam ........\n",
      "[CV]  batch_size=8, epochs=8, hidden_units=200, optimiser=adam, total=  10.9s\n",
      "[CV] batch_size=8, epochs=8, hidden_units=300, optimiser=rmsprop .....\n",
      "[CV]  batch_size=8, epochs=8, hidden_units=300, optimiser=rmsprop, total=  10.7s\n",
      "[CV] batch_size=8, epochs=8, hidden_units=300, optimiser=rmsprop .....\n",
      "[CV]  batch_size=8, epochs=8, hidden_units=300, optimiser=rmsprop, total=  11.6s\n",
      "[CV] batch_size=8, epochs=8, hidden_units=300, optimiser=adam ........\n",
      "[CV]  batch_size=8, epochs=8, hidden_units=300, optimiser=adam, total=  13.0s\n",
      "[CV] batch_size=8, epochs=8, hidden_units=300, optimiser=adam ........\n",
      "[CV]  batch_size=8, epochs=8, hidden_units=300, optimiser=adam, total=  14.3s\n",
      "[CV] batch_size=16, epochs=4, hidden_units=100, optimiser=rmsprop ....\n",
      "[CV]  batch_size=16, epochs=4, hidden_units=100, optimiser=rmsprop, total=   3.3s\n",
      "[CV] batch_size=16, epochs=4, hidden_units=100, optimiser=rmsprop ....\n",
      "[CV]  batch_size=16, epochs=4, hidden_units=100, optimiser=rmsprop, total=   3.3s\n",
      "[CV] batch_size=16, epochs=4, hidden_units=100, optimiser=adam .......\n",
      "[CV]  batch_size=16, epochs=4, hidden_units=100, optimiser=adam, total=   3.5s\n",
      "[CV] batch_size=16, epochs=4, hidden_units=100, optimiser=adam .......\n",
      "[CV]  batch_size=16, epochs=4, hidden_units=100, optimiser=adam, total=   3.8s\n",
      "[CV] batch_size=16, epochs=4, hidden_units=200, optimiser=rmsprop ....\n",
      "[CV]  batch_size=16, epochs=4, hidden_units=200, optimiser=rmsprop, total=   4.2s\n",
      "[CV] batch_size=16, epochs=4, hidden_units=200, optimiser=rmsprop ....\n",
      "[CV]  batch_size=16, epochs=4, hidden_units=200, optimiser=rmsprop, total=   4.0s\n",
      "[CV] batch_size=16, epochs=4, hidden_units=200, optimiser=adam .......\n",
      "[CV]  batch_size=16, epochs=4, hidden_units=200, optimiser=adam, total=   4.4s\n",
      "[CV] batch_size=16, epochs=4, hidden_units=200, optimiser=adam .......\n",
      "[CV]  batch_size=16, epochs=4, hidden_units=200, optimiser=adam, total=   4.5s\n",
      "[CV] batch_size=16, epochs=4, hidden_units=300, optimiser=rmsprop ....\n",
      "[CV]  batch_size=16, epochs=4, hidden_units=300, optimiser=rmsprop, total=   4.5s\n",
      "[CV] batch_size=16, epochs=4, hidden_units=300, optimiser=rmsprop ....\n",
      "[CV]  batch_size=16, epochs=4, hidden_units=300, optimiser=rmsprop, total=   5.1s\n",
      "[CV] batch_size=16, epochs=4, hidden_units=300, optimiser=adam .......\n",
      "[CV]  batch_size=16, epochs=4, hidden_units=300, optimiser=adam, total=   5.8s\n",
      "[CV] batch_size=16, epochs=4, hidden_units=300, optimiser=adam .......\n",
      "[CV]  batch_size=16, epochs=4, hidden_units=300, optimiser=adam, total=   6.3s\n",
      "[CV] batch_size=16, epochs=8, hidden_units=100, optimiser=rmsprop ....\n",
      "[CV]  batch_size=16, epochs=8, hidden_units=100, optimiser=rmsprop, total=   5.7s\n",
      "[CV] batch_size=16, epochs=8, hidden_units=100, optimiser=rmsprop ....\n",
      "[CV]  batch_size=16, epochs=8, hidden_units=100, optimiser=rmsprop, total=   5.4s\n",
      "[CV] batch_size=16, epochs=8, hidden_units=100, optimiser=adam .......\n",
      "[CV]  batch_size=16, epochs=8, hidden_units=100, optimiser=adam, total=   5.9s\n",
      "[CV] batch_size=16, epochs=8, hidden_units=100, optimiser=adam .......\n",
      "[CV]  batch_size=16, epochs=8, hidden_units=100, optimiser=adam, total=   7.2s\n",
      "[CV] batch_size=16, epochs=8, hidden_units=200, optimiser=rmsprop ....\n",
      "[CV]  batch_size=16, epochs=8, hidden_units=200, optimiser=rmsprop, total=   8.1s\n",
      "[CV] batch_size=16, epochs=8, hidden_units=200, optimiser=rmsprop ....\n",
      "[CV]  batch_size=16, epochs=8, hidden_units=200, optimiser=rmsprop, total=   7.4s\n",
      "[CV] batch_size=16, epochs=8, hidden_units=200, optimiser=adam .......\n",
      "[CV]  batch_size=16, epochs=8, hidden_units=200, optimiser=adam, total=   8.0s\n",
      "[CV] batch_size=16, epochs=8, hidden_units=200, optimiser=adam .......\n",
      "[CV]  batch_size=16, epochs=8, hidden_units=200, optimiser=adam, total=   7.8s\n",
      "[CV] batch_size=16, epochs=8, hidden_units=300, optimiser=rmsprop ....\n",
      "[CV]  batch_size=16, epochs=8, hidden_units=300, optimiser=rmsprop, total=   7.8s\n",
      "[CV] batch_size=16, epochs=8, hidden_units=300, optimiser=rmsprop ....\n",
      "[CV]  batch_size=16, epochs=8, hidden_units=300, optimiser=rmsprop, total=   7.8s\n",
      "[CV] batch_size=16, epochs=8, hidden_units=300, optimiser=adam .......\n",
      "[CV]  batch_size=16, epochs=8, hidden_units=300, optimiser=adam, total=   9.1s\n",
      "[CV] batch_size=16, epochs=8, hidden_units=300, optimiser=adam .......\n",
      "[CV]  batch_size=16, epochs=8, hidden_units=300, optimiser=adam, total=   8.2s\n"
     ]
    },
    {
     "name": "stderr",
     "output_type": "stream",
     "text": [
      "[Parallel(n_jobs=1)]: Done  48 out of  48 | elapsed:  5.7min finished\n"
     ]
    },
    {
     "name": "stdout",
     "output_type": "stream",
     "text": [
      "Best: 0.916000 using {'batch_size': 8, 'epochs': 8, 'hidden_units': 100, 'optimiser': 'adam'}\n",
      "0.898000 (0.001143) with: {'batch_size': 8, 'epochs': 4, 'hidden_units': 100, 'optimiser': 'rmsprop'}\n",
      "0.901429 (0.004857) with: {'batch_size': 8, 'epochs': 4, 'hidden_units': 100, 'optimiser': 'adam'}\n",
      "0.903143 (0.004571) with: {'batch_size': 8, 'epochs': 4, 'hidden_units': 200, 'optimiser': 'rmsprop'}\n",
      "0.904429 (0.000714) with: {'batch_size': 8, 'epochs': 4, 'hidden_units': 200, 'optimiser': 'adam'}\n",
      "0.899429 (0.000857) with: {'batch_size': 8, 'epochs': 4, 'hidden_units': 300, 'optimiser': 'rmsprop'}\n",
      "0.904143 (0.003286) with: {'batch_size': 8, 'epochs': 4, 'hidden_units': 300, 'optimiser': 'adam'}\n",
      "0.908000 (0.004286) with: {'batch_size': 8, 'epochs': 8, 'hidden_units': 100, 'optimiser': 'rmsprop'}\n",
      "0.916000 (0.002286) with: {'batch_size': 8, 'epochs': 8, 'hidden_units': 100, 'optimiser': 'adam'}\n",
      "0.913143 (0.003714) with: {'batch_size': 8, 'epochs': 8, 'hidden_units': 200, 'optimiser': 'rmsprop'}\n",
      "0.914429 (0.000714) with: {'batch_size': 8, 'epochs': 8, 'hidden_units': 200, 'optimiser': 'adam'}\n",
      "0.914714 (0.004429) with: {'batch_size': 8, 'epochs': 8, 'hidden_units': 300, 'optimiser': 'rmsprop'}\n",
      "0.913000 (0.002143) with: {'batch_size': 8, 'epochs': 8, 'hidden_units': 300, 'optimiser': 'adam'}\n",
      "0.896000 (0.006857) with: {'batch_size': 16, 'epochs': 4, 'hidden_units': 100, 'optimiser': 'rmsprop'}\n",
      "0.897429 (0.003143) with: {'batch_size': 16, 'epochs': 4, 'hidden_units': 100, 'optimiser': 'adam'}\n",
      "0.898857 (0.002286) with: {'batch_size': 16, 'epochs': 4, 'hidden_units': 200, 'optimiser': 'rmsprop'}\n",
      "0.901000 (0.000714) with: {'batch_size': 16, 'epochs': 4, 'hidden_units': 200, 'optimiser': 'adam'}\n",
      "0.898429 (0.001286) with: {'batch_size': 16, 'epochs': 4, 'hidden_units': 300, 'optimiser': 'rmsprop'}\n",
      "0.897000 (0.004143) with: {'batch_size': 16, 'epochs': 4, 'hidden_units': 300, 'optimiser': 'adam'}\n",
      "0.906429 (0.000714) with: {'batch_size': 16, 'epochs': 8, 'hidden_units': 100, 'optimiser': 'rmsprop'}\n",
      "0.911286 (0.003857) with: {'batch_size': 16, 'epochs': 8, 'hidden_units': 100, 'optimiser': 'adam'}\n",
      "0.905429 (0.005714) with: {'batch_size': 16, 'epochs': 8, 'hidden_units': 200, 'optimiser': 'rmsprop'}\n",
      "0.908143 (0.003857) with: {'batch_size': 16, 'epochs': 8, 'hidden_units': 200, 'optimiser': 'adam'}\n",
      "0.910571 (0.000000) with: {'batch_size': 16, 'epochs': 8, 'hidden_units': 300, 'optimiser': 'rmsprop'}\n",
      "0.907571 (0.004714) with: {'batch_size': 16, 'epochs': 8, 'hidden_units': 300, 'optimiser': 'adam'}\n"
     ]
    }
   ],
   "source": [
    "param_grid ={'optimiser': ['rmsprop', 'adam'], \\\n",
    "             'hidden_units':[100, 200, 300],\n",
    "#            'epochs': [20, 50, 100, 150], \\\n",
    "              'epochs': [4, 8], \\\n",
    "#             'batch_size': [8, 16, 32, 64]}\n",
    "             'batch_size': [8, 16]}\n",
    " \n",
    "model = KerasClassifier(build_fn=create_model, verbose=0)\n",
    "my_tuned_model = GridSearchCV(estimator=model, param_grid=param_grid, verbose = 2, cv = 2)\n",
    "my_tuned_model.fit(np.asfarray(X_train_plus_valid), np.asfarray(y_train_plus_valid))\n",
    "\n",
    "# summarize results\n",
    "print(\"Best: %f using %s\" % (my_tuned_model.best_score_, my_tuned_model.best_params_))\n",
    "means = my_tuned_model.cv_results_['mean_test_score']\n",
    "stds = my_tuned_model.cv_results_['std_test_score']\n",
    "params = my_tuned_model.cv_results_['params']\n",
    "for mean, stdev, param in zip(means, stds, params):\n",
    "    print(\"%f (%f) with: %r\" % (mean, stdev, param))\n",
    "    "
   ]
  },
  {
   "cell_type": "markdown",
   "metadata": {},
   "source": [
    "Draw the model"
   ]
  },
  {
   "cell_type": "code",
   "execution_count": 6,
   "metadata": {
    "scrolled": false
   },
   "outputs": [
    {
     "ename": "AttributeError",
     "evalue": "'KerasClassifier' object has no attribute 'layers'",
     "output_type": "error",
     "traceback": [
      "\u001b[0;31m---------------------------------------------------------------------------\u001b[0m",
      "\u001b[0;31mAttributeError\u001b[0m                            Traceback (most recent call last)",
      "\u001b[0;32m<ipython-input-6-779239671584>\u001b[0m in \u001b[0;36m<module>\u001b[0;34m()\u001b[0m\n\u001b[0;32m----> 1\u001b[0;31m \u001b[0mSVG\u001b[0m\u001b[0;34m(\u001b[0m\u001b[0mmodel_to_dot\u001b[0m\u001b[0;34m(\u001b[0m\u001b[0mmodel\u001b[0m\u001b[0;34m)\u001b[0m\u001b[0;34m.\u001b[0m\u001b[0mcreate\u001b[0m\u001b[0;34m(\u001b[0m\u001b[0mprog\u001b[0m\u001b[0;34m=\u001b[0m\u001b[0;34m'dot'\u001b[0m\u001b[0;34m,\u001b[0m \u001b[0mformat\u001b[0m\u001b[0;34m=\u001b[0m\u001b[0;34m'svg'\u001b[0m\u001b[0;34m)\u001b[0m\u001b[0;34m)\u001b[0m\u001b[0;34m\u001b[0m\u001b[0m\n\u001b[0m",
      "\u001b[0;32m/Users/fan/anaconda/lib/python3.6/site-packages/keras/utils/vis_utils.py\u001b[0m in \u001b[0;36mmodel_to_dot\u001b[0;34m(model, show_shapes, show_layer_names, rankdir)\u001b[0m\n\u001b[1;32m     64\u001b[0m             \u001b[0mmodel\u001b[0m\u001b[0;34m.\u001b[0m\u001b[0mbuild\u001b[0m\u001b[0;34m(\u001b[0m\u001b[0;34m)\u001b[0m\u001b[0;34m\u001b[0m\u001b[0m\n\u001b[1;32m     65\u001b[0m         \u001b[0mmodel\u001b[0m \u001b[0;34m=\u001b[0m \u001b[0mmodel\u001b[0m\u001b[0;34m.\u001b[0m\u001b[0mmodel\u001b[0m\u001b[0;34m\u001b[0m\u001b[0m\n\u001b[0;32m---> 66\u001b[0;31m     \u001b[0mlayers\u001b[0m \u001b[0;34m=\u001b[0m \u001b[0mmodel\u001b[0m\u001b[0;34m.\u001b[0m\u001b[0mlayers\u001b[0m\u001b[0;34m\u001b[0m\u001b[0m\n\u001b[0m\u001b[1;32m     67\u001b[0m \u001b[0;34m\u001b[0m\u001b[0m\n\u001b[1;32m     68\u001b[0m     \u001b[0;31m# Create graph nodes.\u001b[0m\u001b[0;34m\u001b[0m\u001b[0;34m\u001b[0m\u001b[0m\n",
      "\u001b[0;31mAttributeError\u001b[0m: 'KerasClassifier' object has no attribute 'layers'"
     ]
    }
   ],
   "source": [
    "SVG(model_to_dot(my_tuned_model).create(prog='dot', format='svg'))"
   ]
  },
  {
   "cell_type": "markdown",
   "metadata": {},
   "source": [
    "Evaluate the model on a test dataset"
   ]
  },
  {
   "cell_type": "code",
   "execution_count": 7,
   "metadata": {
    "scrolled": false
   },
   "outputs": [
    {
     "name": "stdout",
     "output_type": "stream",
     "text": [
      "****** Test Data ********\n",
      "             precision    recall  f1-score   support\n",
      "\n",
      "          0       0.92      0.97      0.94       289\n",
      "          1       0.97      0.99      0.98       355\n",
      "          2       0.92      0.92      0.92       303\n",
      "          3       0.96      0.91      0.93       303\n",
      "          4       0.94      0.93      0.94       269\n",
      "          5       0.91      0.93      0.92       286\n",
      "          6       0.92      0.94      0.93       310\n",
      "          7       0.95      0.94      0.95       299\n",
      "          8       0.93      0.92      0.92       287\n",
      "          9       0.95      0.90      0.92       299\n",
      "\n",
      "avg / total       0.94      0.94      0.94      3000\n",
      "\n",
      "Confusion Matrix\n"
     ]
    },
    {
     "data": {
      "text/html": [
       "<div>\n",
       "<style>\n",
       "    .dataframe thead tr:only-child th {\n",
       "        text-align: right;\n",
       "    }\n",
       "\n",
       "    .dataframe thead th {\n",
       "        text-align: left;\n",
       "    }\n",
       "\n",
       "    .dataframe tbody tr th {\n",
       "        vertical-align: top;\n",
       "    }\n",
       "</style>\n",
       "<table border=\"1\" class=\"dataframe\">\n",
       "  <thead>\n",
       "    <tr style=\"text-align: right;\">\n",
       "      <th>Predicted</th>\n",
       "      <th>0.0</th>\n",
       "      <th>1.0</th>\n",
       "      <th>2.0</th>\n",
       "      <th>3.0</th>\n",
       "      <th>4.0</th>\n",
       "      <th>5.0</th>\n",
       "      <th>6.0</th>\n",
       "      <th>7.0</th>\n",
       "      <th>8.0</th>\n",
       "      <th>9.0</th>\n",
       "      <th>All</th>\n",
       "    </tr>\n",
       "    <tr>\n",
       "      <th>True</th>\n",
       "      <th></th>\n",
       "      <th></th>\n",
       "      <th></th>\n",
       "      <th></th>\n",
       "      <th></th>\n",
       "      <th></th>\n",
       "      <th></th>\n",
       "      <th></th>\n",
       "      <th></th>\n",
       "      <th></th>\n",
       "      <th></th>\n",
       "    </tr>\n",
       "  </thead>\n",
       "  <tbody>\n",
       "    <tr>\n",
       "      <th>0</th>\n",
       "      <td>281</td>\n",
       "      <td>1</td>\n",
       "      <td>1</td>\n",
       "      <td>0</td>\n",
       "      <td>1</td>\n",
       "      <td>0</td>\n",
       "      <td>0</td>\n",
       "      <td>1</td>\n",
       "      <td>4</td>\n",
       "      <td>0</td>\n",
       "      <td>289</td>\n",
       "    </tr>\n",
       "    <tr>\n",
       "      <th>1</th>\n",
       "      <td>0</td>\n",
       "      <td>351</td>\n",
       "      <td>2</td>\n",
       "      <td>0</td>\n",
       "      <td>0</td>\n",
       "      <td>0</td>\n",
       "      <td>0</td>\n",
       "      <td>0</td>\n",
       "      <td>1</td>\n",
       "      <td>1</td>\n",
       "      <td>355</td>\n",
       "    </tr>\n",
       "    <tr>\n",
       "      <th>2</th>\n",
       "      <td>4</td>\n",
       "      <td>3</td>\n",
       "      <td>280</td>\n",
       "      <td>2</td>\n",
       "      <td>1</td>\n",
       "      <td>0</td>\n",
       "      <td>6</td>\n",
       "      <td>2</td>\n",
       "      <td>5</td>\n",
       "      <td>0</td>\n",
       "      <td>303</td>\n",
       "    </tr>\n",
       "    <tr>\n",
       "      <th>3</th>\n",
       "      <td>2</td>\n",
       "      <td>0</td>\n",
       "      <td>4</td>\n",
       "      <td>277</td>\n",
       "      <td>0</td>\n",
       "      <td>12</td>\n",
       "      <td>0</td>\n",
       "      <td>5</td>\n",
       "      <td>2</td>\n",
       "      <td>1</td>\n",
       "      <td>303</td>\n",
       "    </tr>\n",
       "    <tr>\n",
       "      <th>4</th>\n",
       "      <td>1</td>\n",
       "      <td>3</td>\n",
       "      <td>0</td>\n",
       "      <td>0</td>\n",
       "      <td>251</td>\n",
       "      <td>1</td>\n",
       "      <td>4</td>\n",
       "      <td>1</td>\n",
       "      <td>3</td>\n",
       "      <td>5</td>\n",
       "      <td>269</td>\n",
       "    </tr>\n",
       "    <tr>\n",
       "      <th>5</th>\n",
       "      <td>4</td>\n",
       "      <td>1</td>\n",
       "      <td>2</td>\n",
       "      <td>4</td>\n",
       "      <td>2</td>\n",
       "      <td>265</td>\n",
       "      <td>8</td>\n",
       "      <td>0</td>\n",
       "      <td>0</td>\n",
       "      <td>0</td>\n",
       "      <td>286</td>\n",
       "    </tr>\n",
       "    <tr>\n",
       "      <th>6</th>\n",
       "      <td>4</td>\n",
       "      <td>2</td>\n",
       "      <td>4</td>\n",
       "      <td>0</td>\n",
       "      <td>2</td>\n",
       "      <td>6</td>\n",
       "      <td>290</td>\n",
       "      <td>0</td>\n",
       "      <td>2</td>\n",
       "      <td>0</td>\n",
       "      <td>310</td>\n",
       "    </tr>\n",
       "    <tr>\n",
       "      <th>7</th>\n",
       "      <td>1</td>\n",
       "      <td>0</td>\n",
       "      <td>7</td>\n",
       "      <td>1</td>\n",
       "      <td>2</td>\n",
       "      <td>0</td>\n",
       "      <td>0</td>\n",
       "      <td>282</td>\n",
       "      <td>0</td>\n",
       "      <td>6</td>\n",
       "      <td>299</td>\n",
       "    </tr>\n",
       "    <tr>\n",
       "      <th>8</th>\n",
       "      <td>3</td>\n",
       "      <td>1</td>\n",
       "      <td>2</td>\n",
       "      <td>3</td>\n",
       "      <td>0</td>\n",
       "      <td>6</td>\n",
       "      <td>6</td>\n",
       "      <td>1</td>\n",
       "      <td>264</td>\n",
       "      <td>1</td>\n",
       "      <td>287</td>\n",
       "    </tr>\n",
       "    <tr>\n",
       "      <th>9</th>\n",
       "      <td>6</td>\n",
       "      <td>1</td>\n",
       "      <td>2</td>\n",
       "      <td>3</td>\n",
       "      <td>8</td>\n",
       "      <td>2</td>\n",
       "      <td>0</td>\n",
       "      <td>5</td>\n",
       "      <td>3</td>\n",
       "      <td>269</td>\n",
       "      <td>299</td>\n",
       "    </tr>\n",
       "    <tr>\n",
       "      <th>All</th>\n",
       "      <td>306</td>\n",
       "      <td>363</td>\n",
       "      <td>304</td>\n",
       "      <td>290</td>\n",
       "      <td>267</td>\n",
       "      <td>292</td>\n",
       "      <td>314</td>\n",
       "      <td>297</td>\n",
       "      <td>284</td>\n",
       "      <td>283</td>\n",
       "      <td>3000</td>\n",
       "    </tr>\n",
       "  </tbody>\n",
       "</table>\n",
       "</div>"
      ],
      "text/plain": [
       "Predicted  0.0  1.0  2.0  3.0  4.0  5.0  6.0  7.0  8.0  9.0   All\n",
       "True                                                             \n",
       "0          281    1    1    0    1    0    0    1    4    0   289\n",
       "1            0  351    2    0    0    0    0    0    1    1   355\n",
       "2            4    3  280    2    1    0    6    2    5    0   303\n",
       "3            2    0    4  277    0   12    0    5    2    1   303\n",
       "4            1    3    0    0  251    1    4    1    3    5   269\n",
       "5            4    1    2    4    2  265    8    0    0    0   286\n",
       "6            4    2    4    0    2    6  290    0    2    0   310\n",
       "7            1    0    7    1    2    0    0  282    0    6   299\n",
       "8            3    1    2    3    0    6    6    1  264    1   287\n",
       "9            6    1    2    3    8    2    0    5    3  269   299\n",
       "All        306  363  304  290  267  292  314  297  284  283  3000"
      ]
     },
     "metadata": {},
     "output_type": "display_data"
    }
   ],
   "source": [
    "print(\"****** Test Data ********\")\n",
    "\n",
    "# Make a set of predictions for the validation data\n",
    "y_pred = my_tuned_model.predict(np.asfarray(X_test))\n",
    "\n",
    "# Print performance details\n",
    "print(metrics.classification_report(y_test, y_pred))\n",
    "\n",
    "# Print confusion matrix\n",
    "print(\"Confusion Matrix\")\n",
    "display(pd.crosstab(y_test, y_pred, rownames=['True'], colnames=['Predicted'], margins=True))"
   ]
  },
  {
   "cell_type": "code",
   "execution_count": null,
   "metadata": {},
   "outputs": [],
   "source": []
  }
 ],
 "metadata": {
  "kernelspec": {
   "display_name": "Python 3",
   "language": "python",
   "name": "python3"
  },
  "language_info": {
   "codemirror_mode": {
    "name": "ipython",
    "version": 3
   },
   "file_extension": ".py",
   "mimetype": "text/x-python",
   "name": "python",
   "nbconvert_exporter": "python",
   "pygments_lexer": "ipython3",
   "version": "3.6.1"
  }
 },
 "nbformat": 4,
 "nbformat_minor": 1
}
