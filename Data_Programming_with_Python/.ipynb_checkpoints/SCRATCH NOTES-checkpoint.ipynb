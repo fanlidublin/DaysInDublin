{
 "cells": [
  {
   "cell_type": "markdown",
   "metadata": {},
   "source": [
    "## Jan 9"
   ]
  },
  {
   "cell_type": "code",
   "execution_count": 1,
   "metadata": {},
   "outputs": [
    {
     "name": "stdout",
     "output_type": "stream",
     "text": [
      "b\n",
      "a\n",
      "n\n",
      "a\n",
      "n\n",
      "a\n"
     ]
    }
   ],
   "source": [
    "fruit = \"banana\"\n",
    "index = 0\n",
    "while index < len(fruit):\n",
    "    letter = fruit[index]\n",
    "    index += 1\n",
    "    print(letter)"
   ]
  },
  {
   "cell_type": "code",
   "execution_count": 2,
   "metadata": {},
   "outputs": [
    {
     "name": "stdout",
     "output_type": "stream",
     "text": [
      "b\n",
      "a\n",
      "n\n",
      "a\n",
      "n\n",
      "a\n"
     ]
    }
   ],
   "source": [
    "for i in fruit:\n",
    "    print(i)"
   ]
  },
  {
   "cell_type": "code",
   "execution_count": 3,
   "metadata": {},
   "outputs": [
    {
     "name": "stdout",
     "output_type": "stream",
     "text": [
      "['b', 'a', 'n', 'a', 'n', 'a']\n"
     ]
    }
   ],
   "source": [
    "print([w for w in fruit])"
   ]
  },
  {
   "cell_type": "code",
   "execution_count": 4,
   "metadata": {},
   "outputs": [
    {
     "name": "stdout",
     "output_type": "stream",
     "text": [
      "['b', 'a', 'n', 'a', 'n', 'a']\n"
     ]
    }
   ],
   "source": [
    "index = 0\n",
    "result = list()\n",
    "while index < len(fruit):\n",
    "    letter = fruit[index]\n",
    "    index += 1\n",
    "    result.append(letter)\n",
    "print(result)"
   ]
  },
  {
   "cell_type": "code",
   "execution_count": 5,
   "metadata": {},
   "outputs": [
    {
     "name": "stdout",
     "output_type": "stream",
     "text": [
      "['b', 'a', 'n', 'a', 'n', 'a']\n"
     ]
    }
   ],
   "source": [
    "res = list() #create/define new list\n",
    "for i in range(0, len(fruit)):\n",
    "    letter = fruit[i]\n",
    "    res.append(letter)\n",
    "print(res)"
   ]
  },
  {
   "cell_type": "code",
   "execution_count": 6,
   "metadata": {},
   "outputs": [
    {
     "name": "stdout",
     "output_type": "stream",
     "text": [
      "['b', 'a', 'n', 'a', 'n', 'a']\n"
     ]
    }
   ],
   "source": [
    "res = []  #another way to creat/define a new list\n",
    "for i in range(0, len(fruit)):\n",
    "    letter = fruit[i]\n",
    "    res.append(letter)\n",
    "print(res)"
   ]
  },
  {
   "cell_type": "markdown",
   "metadata": {},
   "source": [
    "## Jan 10"
   ]
  },
  {
   "cell_type": "code",
   "execution_count": 1,
   "metadata": {},
   "outputs": [
    {
     "name": "stdout",
     "output_type": "stream",
     "text": [
      "10_minutes_to_pandas.ipynb             \u001b[34mText mining with Python\u001b[m\u001b[m/\r\n",
      "Book_learn Python3 the hard way.ipynb  \u001b[34mUoE_ML Practical Labs_notebooks\u001b[m\u001b[m/\r\n",
      "\u001b[34mData Programming with Python\u001b[m\u001b[m/          \u001b[31mcs228-python-tutorial.ipynb\u001b[m\u001b[m*\r\n",
      "SCRATCH NOTES.ipynb\r\n"
     ]
    }
   ],
   "source": [
    "ls"
   ]
  },
  {
   "cell_type": "code",
   "execution_count": 2,
   "metadata": {},
   "outputs": [
    {
     "name": "stdout",
     "output_type": "stream",
     "text": [
      "10_minutes_to_pandas.ipynb             \u001b[34mText mining with Python\u001b[m\u001b[m/\r\n",
      "Book_learn Python3 the hard way.ipynb  \u001b[34mUoE_ML Practical Labs_notebooks\u001b[m\u001b[m/\r\n",
      "\u001b[34mData Programming with Python\u001b[m\u001b[m/          \u001b[31mcs228-python-tutorial.ipynb\u001b[m\u001b[m*\r\n",
      "SCRATCH NOTES.ipynb                    \u001b[34mdocs\u001b[m\u001b[m/\r\n"
     ]
    }
   ],
   "source": [
    "ls"
   ]
  },
  {
   "cell_type": "code",
   "execution_count": 9,
   "metadata": {},
   "outputs": [
    {
     "name": "stdout",
     "output_type": "stream",
     "text": [
      "<_io.TextIOWrapper name='./docs/test01.txt' mode='r' encoding='UTF-8'>\n"
     ]
    }
   ],
   "source": [
    "handle = open('./docs/test01.txt')\n",
    "print(handle)"
   ]
  },
  {
   "cell_type": "code",
   "execution_count": 10,
   "metadata": {},
   "outputs": [
    {
     "name": "stdout",
     "output_type": "stream",
     "text": [
      "{'this': 2, 'is': 1, 'a': 1, 'test': 1, 'for': 1, 'text': 1, 'in': 1, 'python': 1, 'list': 1, 'and': 1, 'the': 2, 'words': 2, 'are': 3, 'randomly': 1, 'created': 1, 'by': 1, 'me': 1, 'haha,': 1, 'good': 2, 'or': 1, 'not': 1, 'really': 1, 'depend': 1, 'on': 1, 'what': 1, 'you': 2, 'think': 1, 'about': 1, 'it.': 1, 'kidding': 1, 'me,': 1, 'yes': 1, 'i': 1, 'am.': 1, 'so': 1, 'let': 1, 'us': 2, 'just': 1, 'to': 1, 'do': 1, 'test.': 1}\n"
     ]
    }
   ],
   "source": [
    "counts = dict()\n",
    "for line in handle:\n",
    "    words = line.split()\n",
    "    for word in words:\n",
    "        counts[word] = counts.get(word, 0) + 1\n",
    "print(counts)"
   ]
  },
  {
   "cell_type": "code",
   "execution_count": 11,
   "metadata": {},
   "outputs": [
    {
     "name": "stdout",
     "output_type": "stream",
     "text": [
      "this 2\n",
      "is 1\n",
      "a 1\n",
      "test 1\n",
      "for 1\n",
      "text 1\n",
      "in 1\n",
      "python 1\n",
      "list 1\n",
      "and 1\n",
      "the 2\n",
      "words 2\n",
      "are 3\n",
      "randomly 1\n",
      "created 1\n",
      "by 1\n",
      "me 1\n",
      "haha, 1\n",
      "good 2\n",
      "or 1\n",
      "not 1\n",
      "really 1\n",
      "depend 1\n",
      "on 1\n",
      "what 1\n",
      "you 2\n",
      "think 1\n",
      "about 1\n",
      "it. 1\n",
      "kidding 1\n",
      "me, 1\n",
      "yes 1\n",
      "i 1\n",
      "am. 1\n",
      "so 1\n",
      "let 1\n",
      "us 2\n",
      "just 1\n",
      "to 1\n",
      "do 1\n",
      "test. 1\n"
     ]
    }
   ],
   "source": [
    "lst = list()\n",
    "for k,v in counts.items():\n",
    "    print(k, v)"
   ]
  },
  {
   "cell_type": "code",
   "execution_count": 12,
   "metadata": {},
   "outputs": [
    {
     "data": {
      "text/plain": [
       "dict_items([('this', 2), ('is', 1), ('a', 1), ('test', 1), ('for', 1), ('text', 1), ('in', 1), ('python', 1), ('list', 1), ('and', 1), ('the', 2), ('words', 2), ('are', 3), ('randomly', 1), ('created', 1), ('by', 1), ('me', 1), ('haha,', 1), ('good', 2), ('or', 1), ('not', 1), ('really', 1), ('depend', 1), ('on', 1), ('what', 1), ('you', 2), ('think', 1), ('about', 1), ('it.', 1), ('kidding', 1), ('me,', 1), ('yes', 1), ('i', 1), ('am.', 1), ('so', 1), ('let', 1), ('us', 2), ('just', 1), ('to', 1), ('do', 1), ('test.', 1)])"
      ]
     },
     "execution_count": 12,
     "metadata": {},
     "output_type": "execute_result"
    }
   ],
   "source": [
    "counts.items()"
   ]
  },
  {
   "cell_type": "code",
   "execution_count": 32,
   "metadata": {},
   "outputs": [
    {
     "name": "stdout",
     "output_type": "stream",
     "text": [
      "[(3, 'are'), (2, 'you'), (2, 'words'), (2, 'us'), (2, 'this'), (2, 'the'), (2, 'good'), (1, 'yes'), (1, 'what'), (1, 'to'), (1, 'think'), (1, 'text'), (1, 'test.'), (1, 'test'), (1, 'so'), (1, 'really'), (1, 'randomly'), (1, 'python'), (1, 'or'), (1, 'on'), (1, 'not'), (1, 'me,'), (1, 'me'), (1, 'list'), (1, 'let'), (1, 'kidding'), (1, 'just'), (1, 'it.'), (1, 'is'), (1, 'in'), (1, 'i'), (1, 'haha,'), (1, 'for'), (1, 'do'), (1, 'depend'), (1, 'created'), (1, 'by'), (1, 'and'), (1, 'am.'), (1, 'about'), (1, 'a')]\n"
     ]
    }
   ],
   "source": [
    "for k,v in counts.items():\n",
    "    lst.append((v, k))\n",
    "unique_list = set(lst)\n",
    "lst = sorted(unique_list, reverse = True)\n",
    "print(lst)"
   ]
  },
  {
   "cell_type": "code",
   "execution_count": 37,
   "metadata": {},
   "outputs": [
    {
     "name": "stdout",
     "output_type": "stream",
     "text": [
      "us 2\n",
      "you 2\n",
      "this 2\n",
      "words 2\n",
      "are 3\n"
     ]
    }
   ],
   "source": [
    "for v,k in set(lst[:5]):\n",
    "    print(k,v)"
   ]
  },
  {
   "cell_type": "code",
   "execution_count": 30,
   "metadata": {},
   "outputs": [
    {
     "name": "stdout",
     "output_type": "stream",
     "text": [
      "[(3, 'are'), (2, 'you'), (2, 'words'), (2, 'us'), (2, 'this'), (2, 'the'), (2, 'good'), (1, 'yes'), (1, 'what'), (1, 'to'), (1, 'think'), (1, 'text'), (1, 'test.'), (1, 'test'), (1, 'so'), (1, 'really'), (1, 'randomly'), (1, 'python'), (1, 'or'), (1, 'on'), (1, 'not'), (1, 'me,'), (1, 'me'), (1, 'list'), (1, 'let'), (1, 'kidding'), (1, 'just'), (1, 'it.'), (1, 'is'), (1, 'in'), (1, 'i'), (1, 'haha,'), (1, 'for'), (1, 'do'), (1, 'depend'), (1, 'created'), (1, 'by'), (1, 'and'), (1, 'am.'), (1, 'about'), (1, 'a')]\n"
     ]
    }
   ],
   "source": [
    "print(sorted([(v,k) for k,v in counts.items()], reverse=True))"
   ]
  },
  {
   "cell_type": "code",
   "execution_count": 38,
   "metadata": {},
   "outputs": [
    {
     "name": "stdout",
     "output_type": "stream",
     "text": [
      "us 2\n",
      "you 2\n",
      "this 2\n",
      "words 2\n",
      "are 3\n"
     ]
    }
   ],
   "source": [
    "for v,k in set(lst[:5]):\n",
    "    print(k,v)"
   ]
  },
  {
   "cell_type": "code",
   "execution_count": null,
   "metadata": {},
   "outputs": [],
   "source": []
  }
 ],
 "metadata": {
  "kernelspec": {
   "display_name": "Python 3",
   "language": "python",
   "name": "python3"
  },
  "language_info": {
   "codemirror_mode": {
    "name": "ipython",
    "version": 3
   },
   "file_extension": ".py",
   "mimetype": "text/x-python",
   "name": "python",
   "nbconvert_exporter": "python",
   "pygments_lexer": "ipython3",
   "version": "3.6.1"
  }
 },
 "nbformat": 4,
 "nbformat_minor": 2
}
